{
 "cells": [
  {
   "cell_type": "code",
   "execution_count": 1,
   "metadata": {},
   "outputs": [
    {
     "name": "stdout",
     "output_type": "stream",
     "text": [
      "fatal: destination path 'predicting-user-behavior-workshop' already exists and is not an empty directory.\n",
      "/data1/lsienkiewicz/predicting-user-behavior-workshop/predicting-user-behavior-workshop\n"
     ]
    }
   ],
   "source": [
    "!git clone https://github.com/Synerise/predicting-user-behavior-workshop.git\n",
    "%cd predicting-user-behavior-workshop"
   ]
  },
  {
   "cell_type": "code",
   "execution_count": 2,
   "metadata": {},
   "outputs": [
    {
     "name": "stdout",
     "output_type": "stream",
     "text": [
      "Looking in indexes: https://pypi.org/simple, http://artifactory.service/api/pypi/synePy/simple\n",
      "Requirement already satisfied: lightning in /data1/lsienkiewicz/miniconda/envs/minenv/lib/python3.11/site-packages (2.2.0.post0)\n",
      "Requirement already satisfied: PyYAML<8.0,>=5.4 in /data1/lsienkiewicz/miniconda/envs/minenv/lib/python3.11/site-packages (from lightning) (6.0.1)\n",
      "Requirement already satisfied: fsspec<2025.0,>=2022.5.0 in /data1/lsienkiewicz/miniconda/envs/minenv/lib/python3.11/site-packages (from fsspec[http]<2025.0,>=2022.5.0->lightning) (2024.2.0)\n",
      "Requirement already satisfied: lightning-utilities<2.0,>=0.8.0 in /data1/lsienkiewicz/miniconda/envs/minenv/lib/python3.11/site-packages (from lightning) (0.10.1)\n",
      "Requirement already satisfied: numpy<3.0,>=1.17.2 in /data1/lsienkiewicz/miniconda/envs/minenv/lib/python3.11/site-packages (from lightning) (1.26.4)\n",
      "Requirement already satisfied: packaging<25.0,>=20.0 in /data1/lsienkiewicz/miniconda/envs/minenv/lib/python3.11/site-packages (from lightning) (23.2)\n",
      "Requirement already satisfied: torch<4.0,>=1.13.0 in /data1/lsienkiewicz/miniconda/envs/minenv/lib/python3.11/site-packages (from lightning) (2.2.1)\n",
      "Requirement already satisfied: torchmetrics<3.0,>=0.7.0 in /data1/lsienkiewicz/miniconda/envs/minenv/lib/python3.11/site-packages (from lightning) (1.3.1)\n",
      "Requirement already satisfied: tqdm<6.0,>=4.57.0 in /data1/lsienkiewicz/miniconda/envs/minenv/lib/python3.11/site-packages (from lightning) (4.66.1)\n",
      "Requirement already satisfied: typing-extensions<6.0,>=4.4.0 in /data1/lsienkiewicz/miniconda/envs/minenv/lib/python3.11/site-packages (from lightning) (4.9.0)\n",
      "Requirement already satisfied: pytorch-lightning in /data1/lsienkiewicz/miniconda/envs/minenv/lib/python3.11/site-packages (from lightning) (2.2.0.post0)\n",
      "Requirement already satisfied: aiohttp!=4.0.0a0,!=4.0.0a1 in /data1/lsienkiewicz/miniconda/envs/minenv/lib/python3.11/site-packages (from fsspec[http]<2025.0,>=2022.5.0->lightning) (3.9.3)\n",
      "Requirement already satisfied: setuptools in /data1/lsienkiewicz/miniconda/envs/minenv/lib/python3.11/site-packages (from lightning-utilities<2.0,>=0.8.0->lightning) (68.2.2)\n",
      "Requirement already satisfied: filelock in /data1/lsienkiewicz/miniconda/envs/minenv/lib/python3.11/site-packages (from torch<4.0,>=1.13.0->lightning) (3.13.1)\n",
      "Requirement already satisfied: sympy in /data1/lsienkiewicz/miniconda/envs/minenv/lib/python3.11/site-packages (from torch<4.0,>=1.13.0->lightning) (1.12)\n",
      "Requirement already satisfied: networkx in /data1/lsienkiewicz/miniconda/envs/minenv/lib/python3.11/site-packages (from torch<4.0,>=1.13.0->lightning) (3.2.1)\n",
      "Requirement already satisfied: jinja2 in /data1/lsienkiewicz/miniconda/envs/minenv/lib/python3.11/site-packages (from torch<4.0,>=1.13.0->lightning) (3.1.3)\n",
      "Requirement already satisfied: nvidia-cuda-nvrtc-cu12==12.1.105 in /data1/lsienkiewicz/miniconda/envs/minenv/lib/python3.11/site-packages (from torch<4.0,>=1.13.0->lightning) (12.1.105)\n",
      "Requirement already satisfied: nvidia-cuda-runtime-cu12==12.1.105 in /data1/lsienkiewicz/miniconda/envs/minenv/lib/python3.11/site-packages (from torch<4.0,>=1.13.0->lightning) (12.1.105)\n",
      "Requirement already satisfied: nvidia-cuda-cupti-cu12==12.1.105 in /data1/lsienkiewicz/miniconda/envs/minenv/lib/python3.11/site-packages (from torch<4.0,>=1.13.0->lightning) (12.1.105)\n",
      "Requirement already satisfied: nvidia-cudnn-cu12==8.9.2.26 in /data1/lsienkiewicz/miniconda/envs/minenv/lib/python3.11/site-packages (from torch<4.0,>=1.13.0->lightning) (8.9.2.26)\n",
      "Requirement already satisfied: nvidia-cublas-cu12==12.1.3.1 in /data1/lsienkiewicz/miniconda/envs/minenv/lib/python3.11/site-packages (from torch<4.0,>=1.13.0->lightning) (12.1.3.1)\n",
      "Requirement already satisfied: nvidia-cufft-cu12==11.0.2.54 in /data1/lsienkiewicz/miniconda/envs/minenv/lib/python3.11/site-packages (from torch<4.0,>=1.13.0->lightning) (11.0.2.54)\n",
      "Requirement already satisfied: nvidia-curand-cu12==10.3.2.106 in /data1/lsienkiewicz/miniconda/envs/minenv/lib/python3.11/site-packages (from torch<4.0,>=1.13.0->lightning) (10.3.2.106)\n",
      "Requirement already satisfied: nvidia-cusolver-cu12==11.4.5.107 in /data1/lsienkiewicz/miniconda/envs/minenv/lib/python3.11/site-packages (from torch<4.0,>=1.13.0->lightning) (11.4.5.107)\n",
      "Requirement already satisfied: nvidia-cusparse-cu12==12.1.0.106 in /data1/lsienkiewicz/miniconda/envs/minenv/lib/python3.11/site-packages (from torch<4.0,>=1.13.0->lightning) (12.1.0.106)\n",
      "Requirement already satisfied: nvidia-nccl-cu12==2.19.3 in /data1/lsienkiewicz/miniconda/envs/minenv/lib/python3.11/site-packages (from torch<4.0,>=1.13.0->lightning) (2.19.3)\n",
      "Requirement already satisfied: nvidia-nvtx-cu12==12.1.105 in /data1/lsienkiewicz/miniconda/envs/minenv/lib/python3.11/site-packages (from torch<4.0,>=1.13.0->lightning) (12.1.105)\n",
      "Requirement already satisfied: triton==2.2.0 in /data1/lsienkiewicz/miniconda/envs/minenv/lib/python3.11/site-packages (from torch<4.0,>=1.13.0->lightning) (2.2.0)\n",
      "Requirement already satisfied: nvidia-nvjitlink-cu12 in /data1/lsienkiewicz/miniconda/envs/minenv/lib/python3.11/site-packages (from nvidia-cusolver-cu12==11.4.5.107->torch<4.0,>=1.13.0->lightning) (12.3.101)\n",
      "Requirement already satisfied: aiosignal>=1.1.2 in /data1/lsienkiewicz/miniconda/envs/minenv/lib/python3.11/site-packages (from aiohttp!=4.0.0a0,!=4.0.0a1->fsspec[http]<2025.0,>=2022.5.0->lightning) (1.3.1)\n",
      "Requirement already satisfied: attrs>=17.3.0 in /data1/lsienkiewicz/miniconda/envs/minenv/lib/python3.11/site-packages (from aiohttp!=4.0.0a0,!=4.0.0a1->fsspec[http]<2025.0,>=2022.5.0->lightning) (23.2.0)\n",
      "Requirement already satisfied: frozenlist>=1.1.1 in /data1/lsienkiewicz/miniconda/envs/minenv/lib/python3.11/site-packages (from aiohttp!=4.0.0a0,!=4.0.0a1->fsspec[http]<2025.0,>=2022.5.0->lightning) (1.4.1)\n",
      "Requirement already satisfied: multidict<7.0,>=4.5 in /data1/lsienkiewicz/miniconda/envs/minenv/lib/python3.11/site-packages (from aiohttp!=4.0.0a0,!=4.0.0a1->fsspec[http]<2025.0,>=2022.5.0->lightning) (6.0.5)\n",
      "Requirement already satisfied: yarl<2.0,>=1.0 in /data1/lsienkiewicz/miniconda/envs/minenv/lib/python3.11/site-packages (from aiohttp!=4.0.0a0,!=4.0.0a1->fsspec[http]<2025.0,>=2022.5.0->lightning) (1.9.4)\n",
      "Requirement already satisfied: MarkupSafe>=2.0 in /data1/lsienkiewicz/miniconda/envs/minenv/lib/python3.11/site-packages (from jinja2->torch<4.0,>=1.13.0->lightning) (2.1.5)\n",
      "Requirement already satisfied: mpmath>=0.19 in /data1/lsienkiewicz/miniconda/envs/minenv/lib/python3.11/site-packages (from sympy->torch<4.0,>=1.13.0->lightning) (1.3.0)\n",
      "Requirement already satisfied: idna>=2.0 in /data1/lsienkiewicz/miniconda/envs/minenv/lib/python3.11/site-packages (from yarl<2.0,>=1.0->aiohttp!=4.0.0a0,!=4.0.0a1->fsspec[http]<2025.0,>=2022.5.0->lightning) (3.6)\n",
      "Looking in indexes: https://pypi.org/simple, http://artifactory.service/api/pypi/synePy/simple\n",
      "Requirement already satisfied: torchmetrics in /data1/lsienkiewicz/miniconda/envs/minenv/lib/python3.11/site-packages (1.3.1)\n",
      "Requirement already satisfied: numpy>1.20.0 in /data1/lsienkiewicz/miniconda/envs/minenv/lib/python3.11/site-packages (from torchmetrics) (1.26.4)\n",
      "Requirement already satisfied: packaging>17.1 in /data1/lsienkiewicz/miniconda/envs/minenv/lib/python3.11/site-packages (from torchmetrics) (23.2)\n",
      "Requirement already satisfied: torch>=1.10.0 in /data1/lsienkiewicz/miniconda/envs/minenv/lib/python3.11/site-packages (from torchmetrics) (2.2.1)\n",
      "Requirement already satisfied: lightning-utilities>=0.8.0 in /data1/lsienkiewicz/miniconda/envs/minenv/lib/python3.11/site-packages (from torchmetrics) (0.10.1)\n",
      "Requirement already satisfied: setuptools in /data1/lsienkiewicz/miniconda/envs/minenv/lib/python3.11/site-packages (from lightning-utilities>=0.8.0->torchmetrics) (68.2.2)\n",
      "Requirement already satisfied: typing-extensions in /data1/lsienkiewicz/miniconda/envs/minenv/lib/python3.11/site-packages (from lightning-utilities>=0.8.0->torchmetrics) (4.9.0)\n",
      "Requirement already satisfied: filelock in /data1/lsienkiewicz/miniconda/envs/minenv/lib/python3.11/site-packages (from torch>=1.10.0->torchmetrics) (3.13.1)\n",
      "Requirement already satisfied: sympy in /data1/lsienkiewicz/miniconda/envs/minenv/lib/python3.11/site-packages (from torch>=1.10.0->torchmetrics) (1.12)\n",
      "Requirement already satisfied: networkx in /data1/lsienkiewicz/miniconda/envs/minenv/lib/python3.11/site-packages (from torch>=1.10.0->torchmetrics) (3.2.1)\n",
      "Requirement already satisfied: jinja2 in /data1/lsienkiewicz/miniconda/envs/minenv/lib/python3.11/site-packages (from torch>=1.10.0->torchmetrics) (3.1.3)\n",
      "Requirement already satisfied: fsspec in /data1/lsienkiewicz/miniconda/envs/minenv/lib/python3.11/site-packages (from torch>=1.10.0->torchmetrics) (2024.2.0)\n",
      "Requirement already satisfied: nvidia-cuda-nvrtc-cu12==12.1.105 in /data1/lsienkiewicz/miniconda/envs/minenv/lib/python3.11/site-packages (from torch>=1.10.0->torchmetrics) (12.1.105)\n",
      "Requirement already satisfied: nvidia-cuda-runtime-cu12==12.1.105 in /data1/lsienkiewicz/miniconda/envs/minenv/lib/python3.11/site-packages (from torch>=1.10.0->torchmetrics) (12.1.105)\n",
      "Requirement already satisfied: nvidia-cuda-cupti-cu12==12.1.105 in /data1/lsienkiewicz/miniconda/envs/minenv/lib/python3.11/site-packages (from torch>=1.10.0->torchmetrics) (12.1.105)\n",
      "Requirement already satisfied: nvidia-cudnn-cu12==8.9.2.26 in /data1/lsienkiewicz/miniconda/envs/minenv/lib/python3.11/site-packages (from torch>=1.10.0->torchmetrics) (8.9.2.26)\n",
      "Requirement already satisfied: nvidia-cublas-cu12==12.1.3.1 in /data1/lsienkiewicz/miniconda/envs/minenv/lib/python3.11/site-packages (from torch>=1.10.0->torchmetrics) (12.1.3.1)\n",
      "Requirement already satisfied: nvidia-cufft-cu12==11.0.2.54 in /data1/lsienkiewicz/miniconda/envs/minenv/lib/python3.11/site-packages (from torch>=1.10.0->torchmetrics) (11.0.2.54)\n",
      "Requirement already satisfied: nvidia-curand-cu12==10.3.2.106 in /data1/lsienkiewicz/miniconda/envs/minenv/lib/python3.11/site-packages (from torch>=1.10.0->torchmetrics) (10.3.2.106)\n",
      "Requirement already satisfied: nvidia-cusolver-cu12==11.4.5.107 in /data1/lsienkiewicz/miniconda/envs/minenv/lib/python3.11/site-packages (from torch>=1.10.0->torchmetrics) (11.4.5.107)\n",
      "Requirement already satisfied: nvidia-cusparse-cu12==12.1.0.106 in /data1/lsienkiewicz/miniconda/envs/minenv/lib/python3.11/site-packages (from torch>=1.10.0->torchmetrics) (12.1.0.106)\n",
      "Requirement already satisfied: nvidia-nccl-cu12==2.19.3 in /data1/lsienkiewicz/miniconda/envs/minenv/lib/python3.11/site-packages (from torch>=1.10.0->torchmetrics) (2.19.3)\n",
      "Requirement already satisfied: nvidia-nvtx-cu12==12.1.105 in /data1/lsienkiewicz/miniconda/envs/minenv/lib/python3.11/site-packages (from torch>=1.10.0->torchmetrics) (12.1.105)\n",
      "Requirement already satisfied: triton==2.2.0 in /data1/lsienkiewicz/miniconda/envs/minenv/lib/python3.11/site-packages (from torch>=1.10.0->torchmetrics) (2.2.0)\n",
      "Requirement already satisfied: nvidia-nvjitlink-cu12 in /data1/lsienkiewicz/miniconda/envs/minenv/lib/python3.11/site-packages (from nvidia-cusolver-cu12==11.4.5.107->torch>=1.10.0->torchmetrics) (12.3.101)\n",
      "Requirement already satisfied: MarkupSafe>=2.0 in /data1/lsienkiewicz/miniconda/envs/minenv/lib/python3.11/site-packages (from jinja2->torch>=1.10.0->torchmetrics) (2.1.5)\n",
      "Requirement already satisfied: mpmath>=0.19 in /data1/lsienkiewicz/miniconda/envs/minenv/lib/python3.11/site-packages (from sympy->torch>=1.10.0->torchmetrics) (1.3.0)\n",
      "Looking in indexes: https://pypi.org/simple, http://artifactory.service/api/pypi/synePy/simple\n",
      "Requirement already satisfied: cleora_saas_api in /data1/lsienkiewicz/miniconda/envs/minenv/lib/python3.11/site-packages (0.1.3)\n",
      "Requirement already satisfied: fire<0.6.0,>=0.5.0 in /data1/lsienkiewicz/miniconda/envs/minenv/lib/python3.11/site-packages (from cleora_saas_api) (0.5.0)\n",
      "Requirement already satisfied: pyjwt<3.0.0,>=2.8.0 in /data1/lsienkiewicz/miniconda/envs/minenv/lib/python3.11/site-packages (from cleora_saas_api) (2.8.0)\n",
      "Requirement already satisfied: pyrebase4<5.0.0,>=4.7.1 in /data1/lsienkiewicz/miniconda/envs/minenv/lib/python3.11/site-packages (from cleora_saas_api) (4.7.1)\n",
      "Requirement already satisfied: urllib3<2.0,>=1.21 in /data1/lsienkiewicz/miniconda/envs/minenv/lib/python3.11/site-packages (from cleora_saas_api) (1.26.18)\n",
      "Requirement already satisfied: six in /data1/lsienkiewicz/miniconda/envs/minenv/lib/python3.11/site-packages (from fire<0.6.0,>=0.5.0->cleora_saas_api) (1.16.0)\n",
      "Requirement already satisfied: termcolor in /data1/lsienkiewicz/miniconda/envs/minenv/lib/python3.11/site-packages (from fire<0.6.0,>=0.5.0->cleora_saas_api) (2.4.0)\n",
      "Requirement already satisfied: requests-toolbelt<1.0,>=0.7.1 in /data1/lsienkiewicz/miniconda/envs/minenv/lib/python3.11/site-packages (from pyrebase4<5.0.0,>=4.7.1->cleora_saas_api) (0.10.1)\n",
      "Requirement already satisfied: requests<2.30,>=2.19.1 in /data1/lsienkiewicz/miniconda/envs/minenv/lib/python3.11/site-packages (from pyrebase4<5.0.0,>=4.7.1->cleora_saas_api) (2.29.0)\n",
      "Requirement already satisfied: gcloud>=0.18.3 in /data1/lsienkiewicz/miniconda/envs/minenv/lib/python3.11/site-packages (from pyrebase4<5.0.0,>=4.7.1->cleora_saas_api) (0.18.3)\n",
      "Requirement already satisfied: oauth2client>=4.1.2 in /data1/lsienkiewicz/miniconda/envs/minenv/lib/python3.11/site-packages (from pyrebase4<5.0.0,>=4.7.1->cleora_saas_api) (4.1.3)\n",
      "Requirement already satisfied: python-jwt>=2.0.1 in /data1/lsienkiewicz/miniconda/envs/minenv/lib/python3.11/site-packages (from pyrebase4<5.0.0,>=4.7.1->cleora_saas_api) (4.1.0)\n",
      "Requirement already satisfied: pycryptodome>=3.6.4 in /data1/lsienkiewicz/miniconda/envs/minenv/lib/python3.11/site-packages (from pyrebase4<5.0.0,>=4.7.1->cleora_saas_api) (3.20.0)\n",
      "Requirement already satisfied: httplib2>=0.9.1 in /data1/lsienkiewicz/miniconda/envs/minenv/lib/python3.11/site-packages (from gcloud>=0.18.3->pyrebase4<5.0.0,>=4.7.1->cleora_saas_api) (0.22.0)\n",
      "Requirement already satisfied: googleapis-common-protos in /data1/lsienkiewicz/miniconda/envs/minenv/lib/python3.11/site-packages (from gcloud>=0.18.3->pyrebase4<5.0.0,>=4.7.1->cleora_saas_api) (1.63.0)\n",
      "Requirement already satisfied: protobuf!=3.0.0.b2.post1,>=3.0.0b2 in /data1/lsienkiewicz/miniconda/envs/minenv/lib/python3.11/site-packages (from gcloud>=0.18.3->pyrebase4<5.0.0,>=4.7.1->cleora_saas_api) (4.25.3)\n",
      "Requirement already satisfied: pyasn1>=0.1.7 in /data1/lsienkiewicz/miniconda/envs/minenv/lib/python3.11/site-packages (from oauth2client>=4.1.2->pyrebase4<5.0.0,>=4.7.1->cleora_saas_api) (0.5.1)\n",
      "Requirement already satisfied: pyasn1-modules>=0.0.5 in /data1/lsienkiewicz/miniconda/envs/minenv/lib/python3.11/site-packages (from oauth2client>=4.1.2->pyrebase4<5.0.0,>=4.7.1->cleora_saas_api) (0.3.0)\n",
      "Requirement already satisfied: rsa>=3.1.4 in /data1/lsienkiewicz/miniconda/envs/minenv/lib/python3.11/site-packages (from oauth2client>=4.1.2->pyrebase4<5.0.0,>=4.7.1->cleora_saas_api) (4.9)\n",
      "Requirement already satisfied: jwcrypto>=1.4.2 in /data1/lsienkiewicz/miniconda/envs/minenv/lib/python3.11/site-packages (from python-jwt>=2.0.1->pyrebase4<5.0.0,>=4.7.1->cleora_saas_api) (1.5.6)\n",
      "Requirement already satisfied: charset-normalizer<4,>=2 in /data1/lsienkiewicz/miniconda/envs/minenv/lib/python3.11/site-packages (from requests<2.30,>=2.19.1->pyrebase4<5.0.0,>=4.7.1->cleora_saas_api) (3.3.2)\n",
      "Requirement already satisfied: idna<4,>=2.5 in /data1/lsienkiewicz/miniconda/envs/minenv/lib/python3.11/site-packages (from requests<2.30,>=2.19.1->pyrebase4<5.0.0,>=4.7.1->cleora_saas_api) (3.6)\n",
      "Requirement already satisfied: certifi>=2017.4.17 in /data1/lsienkiewicz/miniconda/envs/minenv/lib/python3.11/site-packages (from requests<2.30,>=2.19.1->pyrebase4<5.0.0,>=4.7.1->cleora_saas_api) (2024.2.2)\n",
      "Requirement already satisfied: pyparsing!=3.0.0,!=3.0.1,!=3.0.2,!=3.0.3,<4,>=2.4.2 in /data1/lsienkiewicz/miniconda/envs/minenv/lib/python3.11/site-packages (from httplib2>=0.9.1->gcloud>=0.18.3->pyrebase4<5.0.0,>=4.7.1->cleora_saas_api) (3.1.2)\n",
      "Requirement already satisfied: cryptography>=3.4 in /data1/lsienkiewicz/miniconda/envs/minenv/lib/python3.11/site-packages (from jwcrypto>=1.4.2->python-jwt>=2.0.1->pyrebase4<5.0.0,>=4.7.1->cleora_saas_api) (42.0.5)\n",
      "Requirement already satisfied: typing-extensions>=4.5.0 in /data1/lsienkiewicz/miniconda/envs/minenv/lib/python3.11/site-packages (from jwcrypto>=1.4.2->python-jwt>=2.0.1->pyrebase4<5.0.0,>=4.7.1->cleora_saas_api) (4.9.0)\n",
      "Requirement already satisfied: cffi>=1.12 in /data1/lsienkiewicz/miniconda/envs/minenv/lib/python3.11/site-packages (from cryptography>=3.4->jwcrypto>=1.4.2->python-jwt>=2.0.1->pyrebase4<5.0.0,>=4.7.1->cleora_saas_api) (1.16.0)\n",
      "Requirement already satisfied: pycparser in /data1/lsienkiewicz/miniconda/envs/minenv/lib/python3.11/site-packages (from cffi>=1.12->cryptography>=3.4->jwcrypto>=1.4.2->python-jwt>=2.0.1->pyrebase4<5.0.0,>=4.7.1->cleora_saas_api) (2.21)\n"
     ]
    }
   ],
   "source": [
    "!pip install lightning\n",
    "!pip install torchmetrics\n",
    "!pip install cleora_saas_api"
   ]
  },
  {
   "cell_type": "code",
   "execution_count": 88,
   "metadata": {},
   "outputs": [],
   "source": [
    "import os\n",
    "import numpy as np\n",
    "import pandas as pd\n",
    "import torch\n",
    "import torch.nn.functional as F\n",
    "from torch.utils.data import DataLoader, Dataset\n",
    "from torch import nn, optim, Tensor\n",
    "from torchmetrics import AveragePrecision, AUROC\n",
    "import pytorch_lightning as pl\n",
    "from pytorch_lightning.loggers import TensorBoardLogger\n",
    "\n",
    "from emde import calculate_absolute_emde_codes\n",
    "from cleora_saas_api import CLI\n"
   ]
  },
  {
   "cell_type": "markdown",
   "metadata": {},
   "source": [
    "# Constants\n",
    "First we define all constants that will be used in this notebook. "
   ]
  },
  {
   "cell_type": "code",
   "execution_count": 89,
   "metadata": {},
   "outputs": [],
   "source": [
    "DATA_DIR = \"./data/\"\n",
    "TRAIN_PD_PATH = os.path.join(DATA_DIR, \"2019-Oct_small.csv\")\n",
    "TARGETS_PATH = os.path.join(DATA_DIR,\"train_target.npy\")\n",
    "VALIDATION_TARGETS_PATH = os.path.join(DATA_DIR,\"test_target.npy\")\n",
    "USER_IDS = os.path.join(DATA_DIR, \"user_ids.npy\")\n",
    "CLEORA_INPUT_FILE = os.path.join(DATA_DIR,\"cleora_input.tsv\")\n",
    "EMBEDDINGS_NPZ = \"embeddings.npz\"\n",
    "SKETCH_DEPTH = 20\n",
    "SKETCH_WIDTH = 64\n",
    "BATCH_SIZE = 128\n",
    "LEARNING_RATE = 0.0001\n",
    "MAX_EPOCH = 1\n",
    "ACCELERATOR = \"gpu\"\n",
    "DEVICES = 1\n",
    "NUM_WORKERS = 8\n",
    "EXPERIMENT_NAME = \"experiment_with_brands\"\n",
    "CLEORA_API_TOKEN = \"\"\n"
   ]
  },
  {
   "cell_type": "markdown",
   "metadata": {},
   "source": [
    "\n",
    "# Calculating embeddings with Cleora\n",
    "The following function prepares input for cleora. First we load DataFrame with training data. Note that cleora works with timestamps as well. However, in our case we drop timestamps for simplicity. Finally we save the result as a tsv file, which is required input format for cleora. "
   ]
  },
  {
   "cell_type": "code",
   "execution_count": 90,
   "metadata": {},
   "outputs": [
    {
     "data": {
      "text/html": [
       "<div>\n",
       "<style scoped>\n",
       "    .dataframe tbody tr th:only-of-type {\n",
       "        vertical-align: middle;\n",
       "    }\n",
       "\n",
       "    .dataframe tbody tr th {\n",
       "        vertical-align: top;\n",
       "    }\n",
       "\n",
       "    .dataframe thead th {\n",
       "        text-align: right;\n",
       "    }\n",
       "</style>\n",
       "<table border=\"1\" class=\"dataframe\">\n",
       "  <thead>\n",
       "    <tr style=\"text-align: right;\">\n",
       "      <th></th>\n",
       "      <th>event_time</th>\n",
       "      <th>brand</th>\n",
       "      <th>user_id</th>\n",
       "    </tr>\n",
       "  </thead>\n",
       "  <tbody>\n",
       "    <tr>\n",
       "      <th>0</th>\n",
       "      <td>2019-10-01 00:02:14 UTC</td>\n",
       "      <td>samsung</td>\n",
       "      <td>543272936</td>\n",
       "    </tr>\n",
       "    <tr>\n",
       "      <th>1</th>\n",
       "      <td>2019-10-01 00:04:37 UTC</td>\n",
       "      <td>apple</td>\n",
       "      <td>551377651</td>\n",
       "    </tr>\n",
       "    <tr>\n",
       "      <th>2</th>\n",
       "      <td>2019-10-01 00:05:14 UTC</td>\n",
       "      <td>xiaomi</td>\n",
       "      <td>550121407</td>\n",
       "    </tr>\n",
       "    <tr>\n",
       "      <th>3</th>\n",
       "      <td>2019-10-01 00:06:02 UTC</td>\n",
       "      <td>xiaomi</td>\n",
       "      <td>514591159</td>\n",
       "    </tr>\n",
       "    <tr>\n",
       "      <th>4</th>\n",
       "      <td>2019-10-01 00:07:07 UTC</td>\n",
       "      <td>santeri</td>\n",
       "      <td>555332717</td>\n",
       "    </tr>\n",
       "    <tr>\n",
       "      <th>5</th>\n",
       "      <td>2019-10-01 00:09:26 UTC</td>\n",
       "      <td>apple</td>\n",
       "      <td>524601178</td>\n",
       "    </tr>\n",
       "    <tr>\n",
       "      <th>6</th>\n",
       "      <td>2019-10-01 00:09:33 UTC</td>\n",
       "      <td>apple</td>\n",
       "      <td>524325294</td>\n",
       "    </tr>\n",
       "    <tr>\n",
       "      <th>7</th>\n",
       "      <td>2019-10-01 00:09:54 UTC</td>\n",
       "      <td>apple</td>\n",
       "      <td>551377651</td>\n",
       "    </tr>\n",
       "    <tr>\n",
       "      <th>8</th>\n",
       "      <td>2019-10-01 00:10:08 UTC</td>\n",
       "      <td>apple</td>\n",
       "      <td>524325294</td>\n",
       "    </tr>\n",
       "    <tr>\n",
       "      <th>9</th>\n",
       "      <td>2019-10-01 00:10:56 UTC</td>\n",
       "      <td>oasis</td>\n",
       "      <td>548691404</td>\n",
       "    </tr>\n",
       "  </tbody>\n",
       "</table>\n",
       "</div>"
      ],
      "text/plain": [
       "                event_time    brand    user_id\n",
       "0  2019-10-01 00:02:14 UTC  samsung  543272936\n",
       "1  2019-10-01 00:04:37 UTC    apple  551377651\n",
       "2  2019-10-01 00:05:14 UTC   xiaomi  550121407\n",
       "3  2019-10-01 00:06:02 UTC   xiaomi  514591159\n",
       "4  2019-10-01 00:07:07 UTC  santeri  555332717\n",
       "5  2019-10-01 00:09:26 UTC    apple  524601178\n",
       "6  2019-10-01 00:09:33 UTC    apple  524325294\n",
       "7  2019-10-01 00:09:54 UTC    apple  551377651\n",
       "8  2019-10-01 00:10:08 UTC    apple  524325294\n",
       "9  2019-10-01 00:10:56 UTC    oasis  548691404"
      ]
     },
     "execution_count": 90,
     "metadata": {},
     "output_type": "execute_result"
    }
   ],
   "source": [
    "train_df = pd.read_csv(TRAIN_PD_PATH)\n",
    "train_df.head(10)"
   ]
  },
  {
   "cell_type": "code",
   "execution_count": 91,
   "metadata": {},
   "outputs": [],
   "source": [
    "def prepare_cleora_input_file():\n",
    "    train_df = pd.read_csv(TRAIN_PD_PATH)\n",
    "    train_df.drop(\"event_time\", axis=1, inplace=True)\n",
    "    train_df = train_df[[\"user_id\", \"brand\"]]\n",
    "    # train_df[\"event_time\"] = pd.to_datetime(train_df[\"event_time\"])\n",
    "    with open(CLEORA_INPUT_FILE, \"w\") as tsv_file:\n",
    "        train_df.to_csv(tsv_file, sep=\"\\t\", header=True, index=False)"
   ]
  },
  {
   "cell_type": "code",
   "execution_count": 92,
   "metadata": {},
   "outputs": [],
   "source": [
    "prepare_cleora_input_file()"
   ]
  },
  {
   "cell_type": "code",
   "execution_count": 93,
   "metadata": {},
   "outputs": [
    {
     "name": "stdout",
     "output_type": "stream",
     "text": [
      "logged in successfully\n"
     ]
    }
   ],
   "source": [
    "cleora = CLI()\n",
    "cleora.login(CLEORA_API_TOKEN)"
   ]
  },
  {
   "cell_type": "code",
   "execution_count": 94,
   "metadata": {},
   "outputs": [
    {
     "name": "stdout",
     "output_type": "stream",
     "text": [
      "-- Start --\n"
     ]
    },
    {
     "name": "stdout",
     "output_type": "stream",
     "text": [
      "-- Config to trigger run prepared --\n",
      "-- Run started --\n",
      "-- Logs: --\n",
      "Started at 2024-03-21 17:53:51\n",
      "Downloading input file.\n",
      "Input file downloaded with 1592254 rows.\n",
      "Number of rows after preprocessing: 1592254\n",
      "Number of embedded nodes: 2012\n",
      "Initializing Cleora.\n",
      "Iteration 1/3 done\n",
      "Iteration 2/3 done\n",
      "Iteration 3/3 done\n",
      "Saving results.\n",
      "-- Result download started --\n",
      "-- Result download finished --\n"
     ]
    }
   ],
   "source": [
    "\n",
    "cleora.run(256, 3, input_path=os.path.join(DATA_DIR, \"cleora_input.tsv\"), run_name=\"colab_clustering\")"
   ]
  },
  {
   "cell_type": "markdown",
   "metadata": {},
   "source": [
    "# Exercise 1\n",
    "\n",
    "Instead of using 3 iterations with dimension 256 set the number of iterations to 4 and dimension to 128."
   ]
  },
  {
   "cell_type": "code",
   "execution_count": 95,
   "metadata": {},
   "outputs": [
    {
     "name": "stdout",
     "output_type": "stream",
     "text": [
      "-- Start --\n",
      "-- Config to trigger run prepared --\n",
      "-- Run started --\n",
      "-- Logs: --\n",
      "Downloading input file.\n",
      "Input file downloaded with 1592254 rows.\n",
      "Number of rows in original data: 1592254\n",
      "Number of rows after preprocessing: 1592254\n",
      "Number of embedded nodes: 2012\n",
      "Iteration 1/4 done\n",
      "Iteration 2/4 done\n",
      "Iteration 3/4 done\n",
      "Iteration 4/4 done\n",
      "Saving results.\n",
      "-- Result download started --\n",
      "-- Result download finished --\n"
     ]
    }
   ],
   "source": [
    "# @title Solution\n",
    "\n",
    "cleora.run(128, 4, input_path=os.path.join(DATA_DIR, \"cleora_input.tsv\"), run_name=\"colab_clustering\")"
   ]
  },
  {
   "cell_type": "markdown",
   "metadata": {},
   "source": [
    "The following function is used to load embeddings."
   ]
  },
  {
   "cell_type": "code",
   "execution_count": 96,
   "metadata": {},
   "outputs": [],
   "source": [
    "def load_embeddings(embeddings_path: str):\n",
    "    embeddings = np.load(embeddings_path)\n",
    "    return embeddings[\"entity_id\"], embeddings[\"vectors\"]"
   ]
  },
  {
   "cell_type": "markdown",
   "metadata": {},
   "source": [
    "We explain now the output of cleora.ai app."
   ]
  },
  {
   "cell_type": "code",
   "execution_count": 97,
   "metadata": {},
   "outputs": [
    {
     "name": "stdout",
     "output_type": "stream",
     "text": [
      "embeddings shape: (2012, 128), embeddings dtype: float32\n",
      "brands_ids shape: (2012,)\n"
     ]
    }
   ],
   "source": [
    "brands_ids, embeddings = load_embeddings(embeddings_path=EMBEDDINGS_NPZ)\n",
    "print(f\"embeddings shape: {embeddings.shape}, embeddings dtype: {embeddings.dtype}\")\n",
    "print(f\"brands_ids shape: {brands_ids.shape}\")"
   ]
  },
  {
   "cell_type": "code",
   "execution_count": 98,
   "metadata": {},
   "outputs": [
    {
     "data": {
      "text/plain": [
       "array(['cettua', 'framesi', 'riken', 'palit', 'fant-mebel', 'gauss',\n",
       "       'klima', 'bradex', 'hammer', 'gigawatt'], dtype='<U28')"
      ]
     },
     "execution_count": 98,
     "metadata": {},
     "output_type": "execute_result"
    }
   ],
   "source": [
    "brands_ids[:10]"
   ]
  },
  {
   "cell_type": "markdown",
   "metadata": {},
   "source": [
    "Let us find brand which corresponds to some index and then print its embedding."
   ]
  },
  {
   "cell_type": "code",
   "execution_count": 99,
   "metadata": {},
   "outputs": [
    {
     "data": {
      "text/plain": [
       "'riken'"
      ]
     },
     "execution_count": 99,
     "metadata": {},
     "output_type": "execute_result"
    }
   ],
   "source": [
    "idx = 2\n",
    "brands_ids[idx]"
   ]
  },
  {
   "cell_type": "code",
   "execution_count": 100,
   "metadata": {},
   "outputs": [
    {
     "data": {
      "text/plain": [
       "array([ 5.2203432e-02,  9.8275715e-01,  1.4525849e+00, -8.1913650e-01,\n",
       "       -9.3787903e-01, -3.3210702e-02,  1.1031355e+00, -3.1739187e-01,\n",
       "       -6.7270838e-02, -8.3447969e-01,  3.4845215e-01,  4.6769354e-01,\n",
       "       -3.2006365e-01,  7.8768378e-01, -5.2892792e-01, -1.5577459e+00,\n",
       "        2.1008503e+00, -3.3234674e-01, -1.1201485e+00,  4.6563688e-01,\n",
       "        1.1937059e+00, -2.9301026e-01,  1.1808606e+00,  2.6155993e-01,\n",
       "        6.8150032e-01,  4.2396948e-01, -1.2651014e+00,  1.5718993e+00,\n",
       "       -2.1713115e-01, -5.9269357e-01,  2.4874845e-01,  1.5925591e+00,\n",
       "        1.0905770e+00, -1.9755769e+00, -5.9820825e-01,  1.6714933e+00,\n",
       "       -2.7265817e-01, -1.9789447e+00, -2.9253724e-01,  5.9670705e-01,\n",
       "        1.0392156e+00,  1.6492684e-01, -3.3817455e-01,  1.3349828e+00,\n",
       "        2.8050438e-01,  5.2947062e-01,  9.6487153e-01, -1.2477564e+00,\n",
       "       -1.8460258e+00, -3.1909788e-01, -3.8807210e-01,  1.7016935e-01,\n",
       "        1.3059106e+00, -4.2900866e-01, -6.6070771e-01, -5.3676438e-01,\n",
       "        9.8530024e-01,  1.8306278e+00, -9.4909793e-01, -1.6237304e+00,\n",
       "        1.8408773e+00,  8.9073561e-02,  2.0135224e+00, -9.2239505e-01,\n",
       "        6.2273389e-01,  7.7545963e-02,  2.6980579e-01,  1.0885365e+00,\n",
       "       -1.1795830e+00, -1.0764951e+00,  9.5441443e-01,  9.8258263e-01,\n",
       "        1.9307035e-01, -1.3828567e+00, -7.6120526e-02, -1.4052377e+00,\n",
       "        6.7970686e-02,  4.9107376e-01,  9.0747386e-01, -1.0327442e+00,\n",
       "       -1.0385287e+00, -1.2236338e+00,  1.5341305e+00,  2.6195860e-01,\n",
       "       -4.8752111e-01,  1.5869777e+00,  5.2229649e-01,  4.8198414e-01,\n",
       "       -9.9360235e-02, -7.9926914e-01,  1.7201196e+00,  8.1948835e-01,\n",
       "        6.3848883e-01, -1.5183479e-01, -2.7597252e-01,  8.4678300e-02,\n",
       "       -1.2417468e+00, -5.9577906e-01, -1.0403115e+00,  8.0661058e-01,\n",
       "        1.6064649e+00,  1.1258353e+00,  7.7127606e-01, -4.8356098e-01,\n",
       "        8.2226779e-04, -1.1608701e+00, -6.8415862e-01,  4.0406480e-01,\n",
       "        1.5352666e+00, -8.2578355e-01, -3.1720471e-01, -2.3323290e+00,\n",
       "       -1.5225751e+00, -1.2139372e+00,  2.9020789e-01,  1.3521538e+00,\n",
       "       -7.3894793e-01, -4.7640800e-01, -1.3823977e+00,  1.5192156e-01,\n",
       "       -3.8132775e-01, -5.3436249e-01,  4.9785295e-01, -8.4368452e-02,\n",
       "        5.3111601e-01, -1.5332561e+00, -1.6974288e+00, -1.1117494e+00],\n",
       "      dtype=float32)"
      ]
     },
     "execution_count": 100,
     "metadata": {},
     "output_type": "execute_result"
    }
   ],
   "source": [
    "embeddings[idx]"
   ]
  },
  {
   "cell_type": "markdown",
   "metadata": {},
   "source": [
    "# Implementing Dataset class\n",
    "\n",
    "We explain here some details related to our implementation of Dataset class."
   ]
  },
  {
   "cell_type": "markdown",
   "metadata": {},
   "source": [
    "First we investigate the contents of training DataFrame."
   ]
  },
  {
   "cell_type": "code",
   "execution_count": 101,
   "metadata": {},
   "outputs": [
    {
     "data": {
      "text/html": [
       "<div>\n",
       "<style scoped>\n",
       "    .dataframe tbody tr th:only-of-type {\n",
       "        vertical-align: middle;\n",
       "    }\n",
       "\n",
       "    .dataframe tbody tr th {\n",
       "        vertical-align: top;\n",
       "    }\n",
       "\n",
       "    .dataframe thead th {\n",
       "        text-align: right;\n",
       "    }\n",
       "</style>\n",
       "<table border=\"1\" class=\"dataframe\">\n",
       "  <thead>\n",
       "    <tr style=\"text-align: right;\">\n",
       "      <th></th>\n",
       "      <th>event_time</th>\n",
       "      <th>brand</th>\n",
       "      <th>user_id</th>\n",
       "    </tr>\n",
       "  </thead>\n",
       "  <tbody>\n",
       "    <tr>\n",
       "      <th>0</th>\n",
       "      <td>2019-10-01 00:02:14 UTC</td>\n",
       "      <td>samsung</td>\n",
       "      <td>543272936</td>\n",
       "    </tr>\n",
       "    <tr>\n",
       "      <th>1</th>\n",
       "      <td>2019-10-01 00:04:37 UTC</td>\n",
       "      <td>apple</td>\n",
       "      <td>551377651</td>\n",
       "    </tr>\n",
       "    <tr>\n",
       "      <th>2</th>\n",
       "      <td>2019-10-01 00:05:14 UTC</td>\n",
       "      <td>xiaomi</td>\n",
       "      <td>550121407</td>\n",
       "    </tr>\n",
       "    <tr>\n",
       "      <th>3</th>\n",
       "      <td>2019-10-01 00:06:02 UTC</td>\n",
       "      <td>xiaomi</td>\n",
       "      <td>514591159</td>\n",
       "    </tr>\n",
       "    <tr>\n",
       "      <th>4</th>\n",
       "      <td>2019-10-01 00:07:07 UTC</td>\n",
       "      <td>santeri</td>\n",
       "      <td>555332717</td>\n",
       "    </tr>\n",
       "    <tr>\n",
       "      <th>5</th>\n",
       "      <td>2019-10-01 00:09:26 UTC</td>\n",
       "      <td>apple</td>\n",
       "      <td>524601178</td>\n",
       "    </tr>\n",
       "    <tr>\n",
       "      <th>6</th>\n",
       "      <td>2019-10-01 00:09:33 UTC</td>\n",
       "      <td>apple</td>\n",
       "      <td>524325294</td>\n",
       "    </tr>\n",
       "    <tr>\n",
       "      <th>7</th>\n",
       "      <td>2019-10-01 00:09:54 UTC</td>\n",
       "      <td>apple</td>\n",
       "      <td>551377651</td>\n",
       "    </tr>\n",
       "    <tr>\n",
       "      <th>8</th>\n",
       "      <td>2019-10-01 00:10:08 UTC</td>\n",
       "      <td>apple</td>\n",
       "      <td>524325294</td>\n",
       "    </tr>\n",
       "    <tr>\n",
       "      <th>9</th>\n",
       "      <td>2019-10-01 00:10:56 UTC</td>\n",
       "      <td>oasis</td>\n",
       "      <td>548691404</td>\n",
       "    </tr>\n",
       "  </tbody>\n",
       "</table>\n",
       "</div>"
      ],
      "text/plain": [
       "                event_time    brand    user_id\n",
       "0  2019-10-01 00:02:14 UTC  samsung  543272936\n",
       "1  2019-10-01 00:04:37 UTC    apple  551377651\n",
       "2  2019-10-01 00:05:14 UTC   xiaomi  550121407\n",
       "3  2019-10-01 00:06:02 UTC   xiaomi  514591159\n",
       "4  2019-10-01 00:07:07 UTC  santeri  555332717\n",
       "5  2019-10-01 00:09:26 UTC    apple  524601178\n",
       "6  2019-10-01 00:09:33 UTC    apple  524325294\n",
       "7  2019-10-01 00:09:54 UTC    apple  551377651\n",
       "8  2019-10-01 00:10:08 UTC    apple  524325294\n",
       "9  2019-10-01 00:10:56 UTC    oasis  548691404"
      ]
     },
     "execution_count": 101,
     "metadata": {},
     "output_type": "execute_result"
    }
   ],
   "source": [
    "train_df = pd.read_csv(TRAIN_PD_PATH)\n",
    "train_df.head(10)"
   ]
  },
  {
   "cell_type": "markdown",
   "metadata": {},
   "source": [
    "We group train Dataframe by user and aggregate obtained groups by applying list construtor. This constructs Series that contains list of interactions of every user."
   ]
  },
  {
   "cell_type": "code",
   "execution_count": 102,
   "metadata": {},
   "outputs": [
    {
     "data": {
      "text/plain": [
       "user_id\n",
       "264649825        [kiturami, kiturami]\n",
       "284344819                     [apple]\n",
       "293957954                    [xiaomi]\n",
       "303160429                    [garmin]\n",
       "304325717    [huawei, huawei, huawei]\n",
       "318611205              [huawei, zeta]\n",
       "336595257          [samsung, samsung]\n",
       "340041246        [lg, lg, lg, lg, lg]\n",
       "348815209                   [samsung]\n",
       "362327778                     [apple]\n",
       "Name: brand, dtype: object"
      ]
     },
     "execution_count": 102,
     "metadata": {},
     "output_type": "execute_result"
    }
   ],
   "source": [
    "brands = train_df.groupby(\"user_id\", group_keys=True)[\"brand\"].apply(list)\n",
    "brands.head(10)"
   ]
  },
  {
   "cell_type": "markdown",
   "metadata": {},
   "source": [
    "Now we are ready to implement our custom dataset class."
   ]
  },
  {
   "cell_type": "code",
   "execution_count": 113,
   "metadata": {},
   "outputs": [],
   "source": [
    "class UsersBrandsDataset(Dataset):\n",
    "    def __init__(\n",
    "        self,\n",
    "        absolute_codes: np.ndarray,\n",
    "        brands_ids: np.ndarray,\n",
    "        train_df_path: str,\n",
    "        targets_path: str,\n",
    "        user_ids_path: str,\n",
    "        sketch_width: int,\n",
    "        sketch_depth: int,\n",
    "        sketch_decay: float = 0.94,\n",
    "    ):\n",
    "        \"\"\"\n",
    "        Args:\n",
    "            absolute_codes (np.ndarray): Array of shape (num_brands, sketch_depth) containing the absolute codes for each item\n",
    "            brands_ids (np.ndarray): Array of shape (num_brands) mapping each idx to corresponding brand\n",
    "            inputs_df_path (str): path to train dataframe\n",
    "            targets_path (str): path to targets array\n",
    "            sketch_width (int): width of the sketch\n",
    "            sketch_depth (int): depth of the sketch\n",
    "            sketch_decay (float): Decay factor for the sketch\n",
    "        \"\"\"\n",
    "        self.absolute_codes = absolute_codes\n",
    "        self.sketch_depth = sketch_depth\n",
    "        self.sketch_width = sketch_width\n",
    "        self.sketch_decay = sketch_decay\n",
    "\n",
    "        self.brand_to_ids = {brands_ids[idx]: idx for idx in range(len(brands_ids))}\n",
    "\n",
    "        train_df = pd.read_csv(train_df_path)\n",
    "\n",
    "        self.brands = train_df.groupby(\"user_id\")[\"brand\"].apply(list)\n",
    "        self.users_ids = np.load(user_ids_path)\n",
    "        self.target_brands = np.load(targets_path)\n",
    "\n",
    "    def __len__(self):\n",
    "        return len(self.users_ids)\n",
    "\n",
    "    def __getitem__(self, idx: int):\n",
    "        user_brands = self.brands.iloc[idx]\n",
    "        user_brands = [self.brand_to_ids[brand] for brand in user_brands]\n",
    "        user_brands_codes = torch.from_numpy(self.absolute_codes[user_brands])\n",
    "        # Assume that user interacted with 5 brands. Then user_brands_codes is a list of 5 emde_codes \n",
    "        # and emde_code is itself a list of sketch_depth integers.\n",
    "        user_sketch = torch.zeros(self.sketch_depth * self.sketch_width, dtype=torch.float32)\n",
    "        for brand_codes in user_brands_codes:\n",
    "            user_sketch *= self.sketch_decay\n",
    "            user_sketch[brand_codes] += 1\n",
    "\n",
    "        target = self.target_brands[idx]\n",
    "        return user_sketch, target"
   ]
  },
  {
   "cell_type": "markdown",
   "metadata": {},
   "source": [
    "Since we are using PyTorch Lightning, we need to wrap our dataset in LightningDataModule."
   ]
  },
  {
   "cell_type": "code",
   "execution_count": 114,
   "metadata": {},
   "outputs": [],
   "source": [
    "class UserBrandDataModule(pl.LightningDataModule):\n",
    "    def __init__(\n",
    "        self,\n",
    "        brands_ids: np.array,\n",
    "        embeddings: np.array,\n",
    "        train_df_path: str,\n",
    "        targets_path: str,\n",
    "        validation_targets_path: str,\n",
    "        user_ids_path: str,\n",
    "        sketch_width: int,\n",
    "        sketch_depth: int,\n",
    "        batch_size: int,\n",
    "        num_workers: int,\n",
    "    ) -> None:\n",
    "        super().__init__()\n",
    "        self.brands_ids = brands_ids\n",
    "        self.embeddings = embeddings\n",
    "        self.train_df_path = train_df_path\n",
    "        self.targets_path = targets_path\n",
    "        self.validation_targets_path = validation_targets_path\n",
    "        self.user_ids_path = user_ids_path\n",
    "        self.sketch_depth = sketch_depth\n",
    "        self.sketch_width = sketch_width\n",
    "        self.batch_size = batch_size\n",
    "        self.num_workers = num_workers\n",
    "\n",
    "    def setup(self, stage) -> None:\n",
    "        if stage == \"fit\":\n",
    "            absolute_emde_codes = calculate_absolute_emde_codes(self.sketch_depth, self.sketch_width, self.embeddings)\n",
    "            self.train_data = UsersBrandsDataset(\n",
    "                absolute_codes=absolute_emde_codes,\n",
    "                brands_ids=self.brands_ids,\n",
    "                train_df_path=self.train_df_path,\n",
    "                targets_path=self.targets_path,\n",
    "                user_ids_path=self.user_ids_path,\n",
    "                sketch_depth=self.sketch_depth,\n",
    "                sketch_width=self.sketch_width,\n",
    "            )\n",
    "            self.validation_data = UsersBrandsDataset(\n",
    "                absolute_codes=absolute_emde_codes,\n",
    "                brands_ids=self.brands_ids,\n",
    "                train_df_path=self.train_df_path,\n",
    "                targets_path=self.validation_targets_path,\n",
    "                user_ids_path=self.user_ids_path,\n",
    "                sketch_depth=self.sketch_depth,\n",
    "                sketch_width=self.sketch_width,\n",
    "            )\n",
    "\n",
    "    def train_dataloader(self) -> DataLoader:\n",
    "        return DataLoader(self.train_data, batch_size=self.batch_size, num_workers=self.num_workers)\n",
    "\n",
    "    def val_dataloader(self) -> DataLoader:\n",
    "        return DataLoader(\n",
    "            self.validation_data,\n",
    "            batch_size=self.batch_size,\n",
    "            num_workers=self.num_workers,\n",
    "        )"
   ]
  },
  {
   "cell_type": "markdown",
   "metadata": {},
   "source": [
    "# Defining simple feedforward Neural Network\n",
    "\n",
    "Below we implement simple feedforward neural network with binary cross entropy loss and multilabel auroc as validation score."
   ]
  },
  {
   "cell_type": "code",
   "execution_count": 115,
   "metadata": {},
   "outputs": [],
   "source": [
    "class Net(torch.nn.Module):\n",
    "    def __init__(\n",
    "        self,\n",
    "        input_dim: int,\n",
    "        hidden_size: int,\n",
    "        output_dim: int,\n",
    "    ) -> None:\n",
    "        super().__init__()\n",
    "        self.linear_relu_stack = nn.Sequential(\n",
    "            nn.Linear(input_dim, hidden_size),\n",
    "            nn.ReLU(),\n",
    "            nn.BatchNorm1d(hidden_size),\n",
    "            nn.Linear(hidden_size, hidden_size),\n",
    "            nn.ReLU(),\n",
    "            nn.BatchNorm1d(hidden_size),\n",
    "            nn.Linear(hidden_size, hidden_size),\n",
    "            nn.ReLU(),\n",
    "            nn.BatchNorm1d(hidden_size),\n",
    "            nn.Linear(hidden_size, hidden_size),\n",
    "            nn.ReLU(),\n",
    "            nn.BatchNorm1d(hidden_size),\n",
    "            nn.Linear(hidden_size, output_dim),\n",
    "        )\n",
    "\n",
    "    def forward(self, x) -> torch.Tensor:\n",
    "        return self.linear_relu_stack(x)\n",
    "        \n",
    "    "
   ]
  },
  {
   "cell_type": "code",
   "execution_count": 116,
   "metadata": {},
   "outputs": [],
   "source": [
    "class Model(pl.LightningModule):\n",
    "    def __init__(\n",
    "        self,\n",
    "        input_dim: int,\n",
    "        hidden_size: int,\n",
    "        output_dim: int,\n",
    "        learning_rate: float,\n",
    "    ) -> None:\n",
    "        super().__init__()\n",
    "        self.learning_rate = learning_rate\n",
    "        self.net = Net(hidden_size=hidden_size, input_dim=input_dim, output_dim=output_dim)\n",
    "        self.val_auroc = AUROC(task=\"multilabel\", num_labels=output_dim)\n",
    "\n",
    "    def forward(self, x) -> Tensor:\n",
    "        return self.net(x)\n",
    "\n",
    "    def configure_optimizers(self) -> optim.Optimizer:\n",
    "        optimizer = optim.AdamW(self.parameters(), lr=self.learning_rate)\n",
    "        return optimizer\n",
    "\n",
    "    def training_step(self, train_batch, batch_idx) -> Tensor:\n",
    "        x, y = train_batch\n",
    "        preds = self.forward(x)\n",
    "        loss = F.binary_cross_entropy_with_logits(preds, y)\n",
    "        self.log(\"train_loss\", loss, on_step=True, on_epoch=True, prog_bar=True, logger=True)\n",
    "        return loss\n",
    "\n",
    "    def validation_step(self, val_batch, batch_idx) -> None:\n",
    "        x, y = val_batch\n",
    "        preds = self.forward(x)\n",
    "        loss = F.binary_cross_entropy_with_logits(preds, y)\n",
    "        self.val_auroc(preds, y.long())\n",
    "        self.log(\"val_loss\", loss, prog_bar=True, on_epoch=True, logger=True)\n",
    "\n",
    "    def on_validation_epoch_end(self) -> None:\n",
    "        self.log(\"val_auroc\", self.val_auroc, prog_bar=True, on_epoch=True, logger=True)"
   ]
  },
  {
   "cell_type": "markdown",
   "metadata": {},
   "source": [
    "# Training and results\n",
    "\n",
    "Now we combine all these elements together into a piece of code which trains our model."
   ]
  },
  {
   "cell_type": "markdown",
   "metadata": {},
   "source": [
    "First we need calculate number of target brands, since this is the ouput size of our model."
   ]
  },
  {
   "cell_type": "code",
   "execution_count": 117,
   "metadata": {},
   "outputs": [],
   "source": [
    "num_target_brands = np.load(TARGETS_PATH).shape[1]"
   ]
  },
  {
   "cell_type": "markdown",
   "metadata": {},
   "source": [
    "Next we load embeddings and brands_ids."
   ]
  },
  {
   "cell_type": "code",
   "execution_count": 118,
   "metadata": {},
   "outputs": [],
   "source": [
    "brands_ids, embeddings = load_embeddings(embeddings_path=EMBEDDINGS_NPZ)"
   ]
  },
  {
   "cell_type": "markdown",
   "metadata": {},
   "source": [
    "Now we are able to construct data module and model."
   ]
  },
  {
   "cell_type": "code",
   "execution_count": 119,
   "metadata": {},
   "outputs": [],
   "source": [
    "data = UserBrandDataModule(\n",
    "    brands_ids=brands_ids,\n",
    "    embeddings=embeddings,\n",
    "    train_df_path=TRAIN_PD_PATH,\n",
    "    targets_path=TARGETS_PATH,\n",
    "    validation_targets_path=VALIDATION_TARGETS_PATH,\n",
    "    user_ids_path=USER_IDS,\n",
    "    sketch_width=SKETCH_WIDTH,\n",
    "    sketch_depth=SKETCH_DEPTH,\n",
    "    batch_size=BATCH_SIZE,\n",
    "    num_workers=NUM_WORKERS,\n",
    ")\n",
    "\n",
    "model = Model(\n",
    "    input_dim=SKETCH_DEPTH * SKETCH_WIDTH, hidden_size=2048, output_dim=num_target_brands, learning_rate=LEARNING_RATE\n",
    ")"
   ]
  },
  {
   "cell_type": "markdown",
   "metadata": {},
   "source": [
    "We also want to print some useful messages concerning training progress, current loss and validation scores. In order to to do this we add some basic logger. "
   ]
  },
  {
   "cell_type": "code",
   "execution_count": 120,
   "metadata": {},
   "outputs": [],
   "source": [
    "logger = TensorBoardLogger(save_dir=\"logs\", name=f\"{EXPERIMENT_NAME}\")"
   ]
  },
  {
   "cell_type": "markdown",
   "metadata": {},
   "source": [
    "Finally we employ PyTorch Lightning Trainer class to wrap all configurations concerning training and validation together. "
   ]
  },
  {
   "cell_type": "code",
   "execution_count": 121,
   "metadata": {},
   "outputs": [
    {
     "name": "stderr",
     "output_type": "stream",
     "text": [
      "GPU available: True (cuda), used: True\n",
      "TPU available: False, using: 0 TPU cores\n",
      "IPU available: False, using: 0 IPUs\n",
      "HPU available: False, using: 0 HPUs\n"
     ]
    }
   ],
   "source": [
    "trainer = pl.Trainer(\n",
    "    accelerator=ACCELERATOR,\n",
    "    devices=DEVICES,\n",
    "    max_epochs=MAX_EPOCH,\n",
    "    logger=logger,\n",
    ")"
   ]
  },
  {
   "cell_type": "markdown",
   "metadata": {},
   "source": [
    "Now by call to fit method on trainer with model and data as arguments in order to train and validate our pipeline. "
   ]
  },
  {
   "cell_type": "code",
   "execution_count": 122,
   "metadata": {},
   "outputs": [
    {
     "name": "stderr",
     "output_type": "stream",
     "text": [
      "/data1/lsienkiewicz/miniconda/envs/minenv/lib/python3.11/site-packages/sklearn/random_projection.py:408: DataDimensionalityWarning: The number of components is higher than the number of features: n_features < n_components (128 < 320).The dimensionality of the problem will not be reduced.\n",
      "  warnings.warn(\n"
     ]
    },
    {
     "name": "stderr",
     "output_type": "stream",
     "text": [
      "LOCAL_RANK: 0 - CUDA_VISIBLE_DEVICES: [0,1,2,3]\n",
      "\n",
      "  | Name      | Type            | Params\n",
      "----------------------------------------------\n",
      "0 | net       | Net             | 15.3 M\n",
      "1 | val_auroc | MultilabelAUROC | 0     \n",
      "----------------------------------------------\n",
      "15.3 M    Trainable params\n",
      "0         Non-trainable params\n",
      "15.3 M    Total params\n",
      "61.080    Total estimated model params size (MB)\n"
     ]
    },
    {
     "data": {
      "application/vnd.jupyter.widget-view+json": {
       "model_id": "4dc1d8d0543d427ca3ddf5e355850f3d",
       "version_major": 2,
       "version_minor": 0
      },
      "text/plain": [
       "Sanity Checking: |          | 0/? [00:00<?, ?it/s]"
      ]
     },
     "metadata": {},
     "output_type": "display_data"
    },
    {
     "name": "stderr",
     "output_type": "stream",
     "text": [
      "/data1/lsienkiewicz/miniconda/envs/minenv/lib/python3.11/site-packages/torchmetrics/utilities/prints.py:43: UserWarning: No positive samples in targets, true positive value should be meaningless. Returning zero tensor in true positive score\n",
      "  warnings.warn(*args, **kwargs)  # noqa: B028\n"
     ]
    },
    {
     "data": {
      "application/vnd.jupyter.widget-view+json": {
       "model_id": "4df00f3e1ec442cf8a6c193e56fb20f4",
       "version_major": 2,
       "version_minor": 0
      },
      "text/plain": [
       "Training: |          | 0/? [00:00<?, ?it/s]"
      ]
     },
     "metadata": {},
     "output_type": "display_data"
    },
    {
     "data": {
      "application/vnd.jupyter.widget-view+json": {
       "model_id": "f0443f8503c2440b8742a0b0c5a49666",
       "version_major": 2,
       "version_minor": 0
      },
      "text/plain": [
       "Validation: |          | 0/? [00:00<?, ?it/s]"
      ]
     },
     "metadata": {},
     "output_type": "display_data"
    },
    {
     "name": "stderr",
     "output_type": "stream",
     "text": [
      "`Trainer.fit` stopped: `max_epochs=1` reached.\n"
     ]
    }
   ],
   "source": [
    "trainer.fit(model, data)"
   ]
  },
  {
   "cell_type": "markdown",
   "metadata": {},
   "source": [
    "# Exercise 2\n",
    "Consider the following code, which adds additional linear layer on top of previously defined model. \n",
    "\n",
    "    class DeepNet(torch.nn.Module):\n",
    "        def __init__(\n",
    "            self,\n",
    "            input_dim: int,\n",
    "            hidden_size: int,\n",
    "            output_dim: int,\n",
    "        ) -> None:\n",
    "            super().__init__()\n",
    "            self.linear_relu_stack = nn.Sequential(\n",
    "                nn.Linear(input_dim, hidden_size),\n",
    "                nn.ReLU(),\n",
    "                nn.BatchNorm1d(hidden_size),\n",
    "                nn.Linear(hidden_size, hidden_size),\n",
    "                nn.ReLU(),\n",
    "                nn.BatchNorm1d(hidden_size),\n",
    "                nn.Linear(hidden_size, hidden_size),\n",
    "                nn.ReLU(),\n",
    "                nn.BatchNorm1d(hidden_size),\n",
    "                nn.Linear(hidden_size, hidden_size),\n",
    "                nn.ReLU(),\n",
    "                nn.BatchNorm1d(hidden_size),\n",
    "                nn.Linear(hidden_size, hidden_size),\n",
    "                nn.ReLU(),\n",
    "                nn.BatchNorm1d(hidden_size),\n",
    "            )\n",
    "\n",
    "        def forward(self, x) -> torch.Tensor:\n",
    "            return self.linear_relu_stack(x)\n",
    "\n",
    "Replace Net with DeepNet in appropriate cell above and try to run the the training.\n",
    "\n",
    "**Q1:** Do you know what went wrong?\n",
    "\n",
    "**Q2:** Can you fix it?"
   ]
  },
  {
   "cell_type": "code",
   "execution_count": 123,
   "metadata": {},
   "outputs": [],
   "source": [
    "# @title Solution\n",
    "\n",
    "# output of the sequential network has incorrect dimension!!!\n",
    "\n",
    "\n",
    "class DeepNet(torch.nn.Module):\n",
    "    def __init__(\n",
    "        self,\n",
    "        input_dim: int,\n",
    "        hidden_size: int,\n",
    "        output_dim: int,\n",
    "    ) -> None:\n",
    "        super().__init__()\n",
    "        self.linear_relu_stack = nn.Sequential(\n",
    "            nn.Linear(input_dim, hidden_size),\n",
    "            nn.ReLU(),\n",
    "            nn.BatchNorm1d(hidden_size),\n",
    "            nn.Linear(hidden_size, hidden_size),\n",
    "            nn.ReLU(),\n",
    "            nn.BatchNorm1d(hidden_size),\n",
    "            nn.Linear(hidden_size, hidden_size),\n",
    "            nn.ReLU(),\n",
    "            nn.BatchNorm1d(hidden_size),\n",
    "            nn.Linear(hidden_size, hidden_size),\n",
    "            nn.ReLU(),\n",
    "            nn.BatchNorm1d(hidden_size),\n",
    "            nn.Linear(hidden_size, hidden_size),\n",
    "            nn.ReLU(),\n",
    "            nn.BatchNorm1d(hidden_size),\n",
    "            nn.Linear(hidden_size, output_dim),\n",
    "        )\n",
    "\n",
    "    def forward(self, x) -> torch.Tensor:\n",
    "        return self.linear_relu_stack(x)"
   ]
  },
  {
   "cell_type": "code",
   "execution_count": null,
   "metadata": {},
   "outputs": [],
   "source": []
  }
 ],
 "metadata": {
  "kernelspec": {
   "display_name": "minenv",
   "language": "python",
   "name": "python3"
  },
  "language_info": {
   "codemirror_mode": {
    "name": "ipython",
    "version": 3
   },
   "file_extension": ".py",
   "mimetype": "text/x-python",
   "name": "python",
   "nbconvert_exporter": "python",
   "pygments_lexer": "ipython3",
   "version": "3.11.7"
  }
 },
 "nbformat": 4,
 "nbformat_minor": 2
}
