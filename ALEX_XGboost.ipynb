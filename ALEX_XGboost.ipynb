{
  "nbformat": 4,
  "nbformat_minor": 0,
  "metadata": {
    "colab": {
      "provenance": [],
      "gpuType": "T4",
      "authorship_tag": "ABX9TyMKtD+kNH7fmwbR5hVx0NNo",
      "include_colab_link": true
    },
    "kernelspec": {
      "name": "python3",
      "display_name": "Python 3"
    },
    "language_info": {
      "name": "python"
    },
    "accelerator": "GPU"
  },
  "cells": [
    {
      "cell_type": "markdown",
      "metadata": {
        "id": "view-in-github",
        "colab_type": "text"
      },
      "source": [
        "<a href=\"https://colab.research.google.com/github/DrAlexSanz/predicting-user-behavior-workshop/blob/main/ALEX_XGboost.ipynb\" target=\"_parent\"><img src=\"https://colab.research.google.com/assets/colab-badge.svg\" alt=\"Open In Colab\"/></a>"
      ]
    },
    {
      "cell_type": "code",
      "execution_count": 1,
      "metadata": {
        "colab": {
          "base_uri": "https://localhost:8080/"
        },
        "id": "8cFNQN5g7h7c",
        "outputId": "971ee8d8-c4bf-4f36-aa02-a70d58886693"
      },
      "outputs": [
        {
          "output_type": "stream",
          "name": "stdout",
          "text": [
            "Requirement already satisfied: pandas in /usr/local/lib/python3.10/dist-packages (1.5.3)\n",
            "Requirement already satisfied: numpy in /usr/local/lib/python3.10/dist-packages (1.25.2)\n",
            "Requirement already satisfied: tqdm in /usr/local/lib/python3.10/dist-packages (4.66.2)\n",
            "Requirement already satisfied: scikit-learn in /usr/local/lib/python3.10/dist-packages (1.2.2)\n",
            "Requirement already satisfied: python-dateutil>=2.8.1 in /usr/local/lib/python3.10/dist-packages (from pandas) (2.8.2)\n",
            "Requirement already satisfied: pytz>=2020.1 in /usr/local/lib/python3.10/dist-packages (from pandas) (2023.4)\n",
            "Requirement already satisfied: scipy>=1.3.2 in /usr/local/lib/python3.10/dist-packages (from scikit-learn) (1.11.4)\n",
            "Requirement already satisfied: joblib>=1.1.1 in /usr/local/lib/python3.10/dist-packages (from scikit-learn) (1.3.2)\n",
            "Requirement already satisfied: threadpoolctl>=2.0.0 in /usr/local/lib/python3.10/dist-packages (from scikit-learn) (3.4.0)\n",
            "Requirement already satisfied: six>=1.5 in /usr/local/lib/python3.10/dist-packages (from python-dateutil>=2.8.1->pandas) (1.16.0)\n"
          ]
        }
      ],
      "source": [
        "! pip install pandas numpy tqdm  scikit-learn"
      ]
    },
    {
      "cell_type": "code",
      "source": [
        "import pandas as pd\n",
        "import numpy as np\n",
        "import matplotlib.pyplot as plt\n",
        "import torch\n",
        "from tqdm import tqdm\n",
        "from datetime import timedelta, datetime\n",
        "from sklearn.preprocessing import normalize"
      ],
      "metadata": {
        "id": "KXSKCLkW7pX_"
      },
      "execution_count": 1,
      "outputs": []
    },
    {
      "cell_type": "code",
      "source": [
        "device = torch.device('cuda' if torch.cuda.is_available() else 'cpu')\n",
        "print(f\"Device: '{device}'\")"
      ],
      "metadata": {
        "colab": {
          "base_uri": "https://localhost:8080/"
        },
        "id": "UqAGxt2c7zEJ",
        "outputId": "7da509e6-4979-456c-e3fd-d5321f4a9c93"
      },
      "execution_count": 2,
      "outputs": [
        {
          "output_type": "stream",
          "name": "stdout",
          "text": [
            "Device: 'cuda'\n"
          ]
        }
      ]
    },
    {
      "cell_type": "code",
      "source": [
        "!git clone https://github.com/Synerise/predicting-user-behavior-workshop.git"
      ],
      "metadata": {
        "colab": {
          "base_uri": "https://localhost:8080/"
        },
        "id": "Z9ZR7fLy77kk",
        "outputId": "4887ac96-4b0e-4776-8505-3e4a325db7ba"
      },
      "execution_count": 3,
      "outputs": [
        {
          "output_type": "stream",
          "name": "stdout",
          "text": [
            "Cloning into 'predicting-user-behavior-workshop'...\n",
            "remote: Enumerating objects: 77, done.\u001b[K\n",
            "remote: Counting objects: 100% (34/34), done.\u001b[K\n",
            "remote: Compressing objects: 100% (26/26), done.\u001b[K\n",
            "remote: Total 77 (delta 16), reused 26 (delta 8), pack-reused 43\u001b[K\n",
            "Receiving objects: 100% (77/77), 37.40 MiB | 15.70 MiB/s, done.\n",
            "Resolving deltas: 100% (33/33), done.\n",
            "Updating files: 100% (13/13), done.\n"
          ]
        }
      ]
    },
    {
      "cell_type": "code",
      "source": [
        "DATA_DIR = \"./predicting-user-behavior-workshop/data\""
      ],
      "metadata": {
        "id": "9fomx9ed8AT3"
      },
      "execution_count": 4,
      "outputs": []
    },
    {
      "cell_type": "code",
      "source": [
        "df = pd.read_csv(f\"{DATA_DIR}/2019-Oct_small.csv\")\n",
        "target_brands = np.load(f\"{DATA_DIR}/target_brands.npy\", allow_pickle=True)\n",
        "train_target = np.load(f\"{DATA_DIR}/train_target.npy\")\n",
        "test_target = np.load(f\"{DATA_DIR}/test_target.npy\")\n",
        "user_ids = np.load(f\"{DATA_DIR}/user_ids.npy\")\n",
        "df"
      ],
      "metadata": {
        "colab": {
          "base_uri": "https://localhost:8080/",
          "height": 424
        },
        "id": "lT1leO6c8Dm3",
        "outputId": "d6483229-11a2-4169-e8db-15e5b60487d0"
      },
      "execution_count": 5,
      "outputs": [
        {
          "output_type": "execute_result",
          "data": {
            "text/plain": [
              "                      event_time     brand    user_id\n",
              "0        2019-10-01 00:02:14 UTC   samsung  543272936\n",
              "1        2019-10-01 00:04:37 UTC     apple  551377651\n",
              "2        2019-10-01 00:05:14 UTC    xiaomi  550121407\n",
              "3        2019-10-01 00:06:02 UTC    xiaomi  514591159\n",
              "4        2019-10-01 00:07:07 UTC   santeri  555332717\n",
              "...                          ...       ...        ...\n",
              "1592249  2019-10-31 23:55:21 UTC  puckator  514622109\n",
              "1592250  2019-10-31 23:56:03 UTC     apple  512717356\n",
              "1592251  2019-10-31 23:56:11 UTC     apple  533892594\n",
              "1592252  2019-10-31 23:56:53 UTC     apple  533892594\n",
              "1592253  2019-10-31 23:59:16 UTC     apple  544501248\n",
              "\n",
              "[1592254 rows x 3 columns]"
            ],
            "text/html": [
              "\n",
              "  <div id=\"df-70b13e37-e789-4543-a101-ee46006ca93b\" class=\"colab-df-container\">\n",
              "    <div>\n",
              "<style scoped>\n",
              "    .dataframe tbody tr th:only-of-type {\n",
              "        vertical-align: middle;\n",
              "    }\n",
              "\n",
              "    .dataframe tbody tr th {\n",
              "        vertical-align: top;\n",
              "    }\n",
              "\n",
              "    .dataframe thead th {\n",
              "        text-align: right;\n",
              "    }\n",
              "</style>\n",
              "<table border=\"1\" class=\"dataframe\">\n",
              "  <thead>\n",
              "    <tr style=\"text-align: right;\">\n",
              "      <th></th>\n",
              "      <th>event_time</th>\n",
              "      <th>brand</th>\n",
              "      <th>user_id</th>\n",
              "    </tr>\n",
              "  </thead>\n",
              "  <tbody>\n",
              "    <tr>\n",
              "      <th>0</th>\n",
              "      <td>2019-10-01 00:02:14 UTC</td>\n",
              "      <td>samsung</td>\n",
              "      <td>543272936</td>\n",
              "    </tr>\n",
              "    <tr>\n",
              "      <th>1</th>\n",
              "      <td>2019-10-01 00:04:37 UTC</td>\n",
              "      <td>apple</td>\n",
              "      <td>551377651</td>\n",
              "    </tr>\n",
              "    <tr>\n",
              "      <th>2</th>\n",
              "      <td>2019-10-01 00:05:14 UTC</td>\n",
              "      <td>xiaomi</td>\n",
              "      <td>550121407</td>\n",
              "    </tr>\n",
              "    <tr>\n",
              "      <th>3</th>\n",
              "      <td>2019-10-01 00:06:02 UTC</td>\n",
              "      <td>xiaomi</td>\n",
              "      <td>514591159</td>\n",
              "    </tr>\n",
              "    <tr>\n",
              "      <th>4</th>\n",
              "      <td>2019-10-01 00:07:07 UTC</td>\n",
              "      <td>santeri</td>\n",
              "      <td>555332717</td>\n",
              "    </tr>\n",
              "    <tr>\n",
              "      <th>...</th>\n",
              "      <td>...</td>\n",
              "      <td>...</td>\n",
              "      <td>...</td>\n",
              "    </tr>\n",
              "    <tr>\n",
              "      <th>1592249</th>\n",
              "      <td>2019-10-31 23:55:21 UTC</td>\n",
              "      <td>puckator</td>\n",
              "      <td>514622109</td>\n",
              "    </tr>\n",
              "    <tr>\n",
              "      <th>1592250</th>\n",
              "      <td>2019-10-31 23:56:03 UTC</td>\n",
              "      <td>apple</td>\n",
              "      <td>512717356</td>\n",
              "    </tr>\n",
              "    <tr>\n",
              "      <th>1592251</th>\n",
              "      <td>2019-10-31 23:56:11 UTC</td>\n",
              "      <td>apple</td>\n",
              "      <td>533892594</td>\n",
              "    </tr>\n",
              "    <tr>\n",
              "      <th>1592252</th>\n",
              "      <td>2019-10-31 23:56:53 UTC</td>\n",
              "      <td>apple</td>\n",
              "      <td>533892594</td>\n",
              "    </tr>\n",
              "    <tr>\n",
              "      <th>1592253</th>\n",
              "      <td>2019-10-31 23:59:16 UTC</td>\n",
              "      <td>apple</td>\n",
              "      <td>544501248</td>\n",
              "    </tr>\n",
              "  </tbody>\n",
              "</table>\n",
              "<p>1592254 rows × 3 columns</p>\n",
              "</div>\n",
              "    <div class=\"colab-df-buttons\">\n",
              "\n",
              "  <div class=\"colab-df-container\">\n",
              "    <button class=\"colab-df-convert\" onclick=\"convertToInteractive('df-70b13e37-e789-4543-a101-ee46006ca93b')\"\n",
              "            title=\"Convert this dataframe to an interactive table.\"\n",
              "            style=\"display:none;\">\n",
              "\n",
              "  <svg xmlns=\"http://www.w3.org/2000/svg\" height=\"24px\" viewBox=\"0 -960 960 960\">\n",
              "    <path d=\"M120-120v-720h720v720H120Zm60-500h600v-160H180v160Zm220 220h160v-160H400v160Zm0 220h160v-160H400v160ZM180-400h160v-160H180v160Zm440 0h160v-160H620v160ZM180-180h160v-160H180v160Zm440 0h160v-160H620v160Z\"/>\n",
              "  </svg>\n",
              "    </button>\n",
              "\n",
              "  <style>\n",
              "    .colab-df-container {\n",
              "      display:flex;\n",
              "      gap: 12px;\n",
              "    }\n",
              "\n",
              "    .colab-df-convert {\n",
              "      background-color: #E8F0FE;\n",
              "      border: none;\n",
              "      border-radius: 50%;\n",
              "      cursor: pointer;\n",
              "      display: none;\n",
              "      fill: #1967D2;\n",
              "      height: 32px;\n",
              "      padding: 0 0 0 0;\n",
              "      width: 32px;\n",
              "    }\n",
              "\n",
              "    .colab-df-convert:hover {\n",
              "      background-color: #E2EBFA;\n",
              "      box-shadow: 0px 1px 2px rgba(60, 64, 67, 0.3), 0px 1px 3px 1px rgba(60, 64, 67, 0.15);\n",
              "      fill: #174EA6;\n",
              "    }\n",
              "\n",
              "    .colab-df-buttons div {\n",
              "      margin-bottom: 4px;\n",
              "    }\n",
              "\n",
              "    [theme=dark] .colab-df-convert {\n",
              "      background-color: #3B4455;\n",
              "      fill: #D2E3FC;\n",
              "    }\n",
              "\n",
              "    [theme=dark] .colab-df-convert:hover {\n",
              "      background-color: #434B5C;\n",
              "      box-shadow: 0px 1px 3px 1px rgba(0, 0, 0, 0.15);\n",
              "      filter: drop-shadow(0px 1px 2px rgba(0, 0, 0, 0.3));\n",
              "      fill: #FFFFFF;\n",
              "    }\n",
              "  </style>\n",
              "\n",
              "    <script>\n",
              "      const buttonEl =\n",
              "        document.querySelector('#df-70b13e37-e789-4543-a101-ee46006ca93b button.colab-df-convert');\n",
              "      buttonEl.style.display =\n",
              "        google.colab.kernel.accessAllowed ? 'block' : 'none';\n",
              "\n",
              "      async function convertToInteractive(key) {\n",
              "        const element = document.querySelector('#df-70b13e37-e789-4543-a101-ee46006ca93b');\n",
              "        const dataTable =\n",
              "          await google.colab.kernel.invokeFunction('convertToInteractive',\n",
              "                                                    [key], {});\n",
              "        if (!dataTable) return;\n",
              "\n",
              "        const docLinkHtml = 'Like what you see? Visit the ' +\n",
              "          '<a target=\"_blank\" href=https://colab.research.google.com/notebooks/data_table.ipynb>data table notebook</a>'\n",
              "          + ' to learn more about interactive tables.';\n",
              "        element.innerHTML = '';\n",
              "        dataTable['output_type'] = 'display_data';\n",
              "        await google.colab.output.renderOutput(dataTable, element);\n",
              "        const docLink = document.createElement('div');\n",
              "        docLink.innerHTML = docLinkHtml;\n",
              "        element.appendChild(docLink);\n",
              "      }\n",
              "    </script>\n",
              "  </div>\n",
              "\n",
              "\n",
              "<div id=\"df-ac9e1f9d-5fd1-477d-a232-67aede047bbe\">\n",
              "  <button class=\"colab-df-quickchart\" onclick=\"quickchart('df-ac9e1f9d-5fd1-477d-a232-67aede047bbe')\"\n",
              "            title=\"Suggest charts\"\n",
              "            style=\"display:none;\">\n",
              "\n",
              "<svg xmlns=\"http://www.w3.org/2000/svg\" height=\"24px\"viewBox=\"0 0 24 24\"\n",
              "     width=\"24px\">\n",
              "    <g>\n",
              "        <path d=\"M19 3H5c-1.1 0-2 .9-2 2v14c0 1.1.9 2 2 2h14c1.1 0 2-.9 2-2V5c0-1.1-.9-2-2-2zM9 17H7v-7h2v7zm4 0h-2V7h2v10zm4 0h-2v-4h2v4z\"/>\n",
              "    </g>\n",
              "</svg>\n",
              "  </button>\n",
              "\n",
              "<style>\n",
              "  .colab-df-quickchart {\n",
              "      --bg-color: #E8F0FE;\n",
              "      --fill-color: #1967D2;\n",
              "      --hover-bg-color: #E2EBFA;\n",
              "      --hover-fill-color: #174EA6;\n",
              "      --disabled-fill-color: #AAA;\n",
              "      --disabled-bg-color: #DDD;\n",
              "  }\n",
              "\n",
              "  [theme=dark] .colab-df-quickchart {\n",
              "      --bg-color: #3B4455;\n",
              "      --fill-color: #D2E3FC;\n",
              "      --hover-bg-color: #434B5C;\n",
              "      --hover-fill-color: #FFFFFF;\n",
              "      --disabled-bg-color: #3B4455;\n",
              "      --disabled-fill-color: #666;\n",
              "  }\n",
              "\n",
              "  .colab-df-quickchart {\n",
              "    background-color: var(--bg-color);\n",
              "    border: none;\n",
              "    border-radius: 50%;\n",
              "    cursor: pointer;\n",
              "    display: none;\n",
              "    fill: var(--fill-color);\n",
              "    height: 32px;\n",
              "    padding: 0;\n",
              "    width: 32px;\n",
              "  }\n",
              "\n",
              "  .colab-df-quickchart:hover {\n",
              "    background-color: var(--hover-bg-color);\n",
              "    box-shadow: 0 1px 2px rgba(60, 64, 67, 0.3), 0 1px 3px 1px rgba(60, 64, 67, 0.15);\n",
              "    fill: var(--button-hover-fill-color);\n",
              "  }\n",
              "\n",
              "  .colab-df-quickchart-complete:disabled,\n",
              "  .colab-df-quickchart-complete:disabled:hover {\n",
              "    background-color: var(--disabled-bg-color);\n",
              "    fill: var(--disabled-fill-color);\n",
              "    box-shadow: none;\n",
              "  }\n",
              "\n",
              "  .colab-df-spinner {\n",
              "    border: 2px solid var(--fill-color);\n",
              "    border-color: transparent;\n",
              "    border-bottom-color: var(--fill-color);\n",
              "    animation:\n",
              "      spin 1s steps(1) infinite;\n",
              "  }\n",
              "\n",
              "  @keyframes spin {\n",
              "    0% {\n",
              "      border-color: transparent;\n",
              "      border-bottom-color: var(--fill-color);\n",
              "      border-left-color: var(--fill-color);\n",
              "    }\n",
              "    20% {\n",
              "      border-color: transparent;\n",
              "      border-left-color: var(--fill-color);\n",
              "      border-top-color: var(--fill-color);\n",
              "    }\n",
              "    30% {\n",
              "      border-color: transparent;\n",
              "      border-left-color: var(--fill-color);\n",
              "      border-top-color: var(--fill-color);\n",
              "      border-right-color: var(--fill-color);\n",
              "    }\n",
              "    40% {\n",
              "      border-color: transparent;\n",
              "      border-right-color: var(--fill-color);\n",
              "      border-top-color: var(--fill-color);\n",
              "    }\n",
              "    60% {\n",
              "      border-color: transparent;\n",
              "      border-right-color: var(--fill-color);\n",
              "    }\n",
              "    80% {\n",
              "      border-color: transparent;\n",
              "      border-right-color: var(--fill-color);\n",
              "      border-bottom-color: var(--fill-color);\n",
              "    }\n",
              "    90% {\n",
              "      border-color: transparent;\n",
              "      border-bottom-color: var(--fill-color);\n",
              "    }\n",
              "  }\n",
              "</style>\n",
              "\n",
              "  <script>\n",
              "    async function quickchart(key) {\n",
              "      const quickchartButtonEl =\n",
              "        document.querySelector('#' + key + ' button');\n",
              "      quickchartButtonEl.disabled = true;  // To prevent multiple clicks.\n",
              "      quickchartButtonEl.classList.add('colab-df-spinner');\n",
              "      try {\n",
              "        const charts = await google.colab.kernel.invokeFunction(\n",
              "            'suggestCharts', [key], {});\n",
              "      } catch (error) {\n",
              "        console.error('Error during call to suggestCharts:', error);\n",
              "      }\n",
              "      quickchartButtonEl.classList.remove('colab-df-spinner');\n",
              "      quickchartButtonEl.classList.add('colab-df-quickchart-complete');\n",
              "    }\n",
              "    (() => {\n",
              "      let quickchartButtonEl =\n",
              "        document.querySelector('#df-ac9e1f9d-5fd1-477d-a232-67aede047bbe button');\n",
              "      quickchartButtonEl.style.display =\n",
              "        google.colab.kernel.accessAllowed ? 'block' : 'none';\n",
              "    })();\n",
              "  </script>\n",
              "</div>\n",
              "    </div>\n",
              "  </div>\n"
            ],
            "application/vnd.google.colaboratory.intrinsic+json": {
              "type": "dataframe",
              "variable_name": "df"
            }
          },
          "metadata": {},
          "execution_count": 5
        }
      ]
    },
    {
      "cell_type": "markdown",
      "source": [
        "## Task\n",
        "We want to predict if a user will buy products of selected brands. Here, we use the 20 most popular brands:"
      ],
      "metadata": {
        "id": "NBw_3paQ8LyP"
      }
    },
    {
      "cell_type": "code",
      "source": [
        "target_brands"
      ],
      "metadata": {
        "colab": {
          "base_uri": "https://localhost:8080/"
        },
        "id": "hP8j3NUr8N8h",
        "outputId": "90025331-f7dc-42d3-a2e2-4d590d7084b7"
      },
      "execution_count": 6,
      "outputs": [
        {
          "output_type": "execute_result",
          "data": {
            "text/plain": [
              "array(['samsung', 'apple', 'xiaomi', 'huawei', 'oppo', 'lg', 'sony',\n",
              "       'acer', 'cordiant', 'elenberg', 'bosch', 'artel', 'indesit',\n",
              "       'lucente', 'philips', 'nokian', 'redmond', 'beko', 'haier',\n",
              "       'vitek'], dtype=object)"
            ]
          },
          "metadata": {},
          "execution_count": 6
        }
      ]
    },
    {
      "cell_type": "markdown",
      "source": [
        "## Number of events per brand for the top 20 brands"
      ],
      "metadata": {
        "id": "0JDS_grA8RvR"
      }
    },
    {
      "cell_type": "code",
      "source": [
        "plt.figure().set_figwidth(18)\n",
        "plt.bar(target_brands, df['brand'].value_counts()[:20].to_numpy())\n",
        "plt.show()"
      ],
      "metadata": {
        "colab": {
          "base_uri": "https://localhost:8080/",
          "height": 364
        },
        "id": "KoOC5ocS8UtL",
        "outputId": "56a9c000-a3af-48e6-b9cb-48320ce1ae9d"
      },
      "execution_count": 7,
      "outputs": [
        {
          "output_type": "display_data",
          "data": {
            "text/plain": [
              "<Figure size 1800x480 with 1 Axes>"
            ],
            "image/png": "[encoded data removed]"
          },
          "metadata": {}
        }
      ]
    },
    {
      "cell_type": "markdown",
      "source": [
        "### Other applications\n",
        "When working with real-life data, this task can be easily modified to better fit business requierments. For example:\n",
        "\n",
        "* selecting an arbitrary subset of brands for the targeted campaigns\n",
        "* predicting product categories user will buy\n",
        "* predicting offers a user will be interested in\n",
        "* predicting what kind of subscription plan is user willing to choose"
      ],
      "metadata": {
        "id": "9fHCX2pU8dc3"
      }
    },
    {
      "cell_type": "markdown",
      "source": [
        "### Target\n",
        "In this workshop, we use all events from October 2019 to create the model's input representing user interactions from this period. To create training targets (ground truth labels), we use the first week of November.\n",
        "\n",
        "For each of the selected brands, we check if a user bought any product of this brand in the first week of November."
      ],
      "metadata": {
        "id": "hNj015LE8kyM"
      }
    },
    {
      "cell_type": "code",
      "source": [
        "train_target.shape"
      ],
      "metadata": {
        "colab": {
          "base_uri": "https://localhost:8080/"
        },
        "id": "ULp98A7g8pJS",
        "outputId": "2e3aaa9c-eb73-414d-a7a2-1b1356401aad"
      },
      "execution_count": 8,
      "outputs": [
        {
          "output_type": "execute_result",
          "data": {
            "text/plain": [
              "(458835, 20)"
            ]
          },
          "metadata": {},
          "execution_count": 8
        }
      ]
    },
    {
      "cell_type": "code",
      "source": [
        "example_ind = 871\n",
        "print(f\"User id: {user_ids[example_ind]}\")\n",
        "print(f\"Target: {train_target[example_ind]}\")\n",
        "print(f\"Brands in target: {target_brands[np.where(train_target[example_ind] == 1)]}\")"
      ],
      "metadata": {
        "colab": {
          "base_uri": "https://localhost:8080/"
        },
        "id": "N14UDGci8ryz",
        "outputId": "ef591544-4a24-473f-eea5-06df77ec0bc1"
      },
      "execution_count": 9,
      "outputs": [
        {
          "output_type": "stream",
          "name": "stdout",
          "text": [
            "User id: 512366225\n",
            "Target: [1. 0. 1. 0. 0. 0. 0. 0. 0. 0. 0. 1. 0. 0. 0. 0. 0. 0. 0. 0.]\n",
            "Brands in target: ['samsung' 'xiaomi' 'artel']\n"
          ]
        }
      ]
    },
    {
      "cell_type": "markdown",
      "source": [
        "Next, we use the following 7 days — the second week of November, to measure model performance."
      ],
      "metadata": {
        "id": "O1PQTxoa8yhZ"
      }
    },
    {
      "cell_type": "code",
      "source": [
        "test_target.shape"
      ],
      "metadata": {
        "colab": {
          "base_uri": "https://localhost:8080/"
        },
        "id": "4Rd0b2qW8x9q",
        "outputId": "465af56d-71f1-4b5a-aa2c-fd6562b90737"
      },
      "execution_count": 10,
      "outputs": [
        {
          "output_type": "execute_result",
          "data": {
            "text/plain": [
              "(458835, 20)"
            ]
          },
          "metadata": {},
          "execution_count": 10
        }
      ]
    },
    {
      "cell_type": "markdown",
      "source": [
        "To create the train and the test sets, we use the same set of users but two consecutive time windows — the first week of November for training and the second for testing. This mimics a real-life setting where we predict the future actions of our users based on historical data."
      ],
      "metadata": {
        "id": "n4a3Yqs286P2"
      }
    },
    {
      "cell_type": "markdown",
      "source": [
        "### Hand-crafted features\n",
        "To create a user representation that we can use as a model input, we must aggregate information from user history and represent it in a numerical form.\n",
        "\n",
        "The presented method is based on features that are hand-picked and tested by a data scientist contrary to learned representations, e.g. embeddings.\n",
        "\n",
        "Example of hand-crafted features in e-commerce:\n",
        "\n",
        "* number of products bought in the last day, week or month\n",
        "* products bought/viewed/added-to-cart in the given category, brand\n",
        "* average cart value\n",
        "\n",
        "Example of hand-crafted features in banking:\n",
        "\n",
        "* number of transactions per day\n",
        "* number of transactions per category\n",
        "* average transaction value\n",
        "* account type\n",
        "* special offers\n",
        "\n",
        "Example of hand-crafted features in telecom:\n",
        "\n",
        "* type of subscription\n",
        "* internet usage\n",
        "* number of phone calls per day/week/month\n",
        "\n",
        "These are only a few examples of such features. In practice, feature creation stems from domain knowledge and information available in data. What should be considered are:\n",
        "\n",
        "* available types of events (e.g., page view, likes, transaction, subscription, product buy, add-to-cart)\n",
        "* time windows relevant for given data characteristics and domain requirements (lastmonths, last days, last hours)\n",
        "* event object metadata (e.g., product brand, transaction value, offer popularity, page category)\n",
        "* user metadata (e.g., age, location, account type)\n",
        "\n",
        "Example features\n",
        "In the toy dataset, we have only information about user, brand, and time. What we can consider when creating a user feature vector:\n",
        "\n",
        "* total number of events per user\n",
        "* number of events per brand (or selected subset of brands)\n",
        "* number of events in selected time windows\n",
        "* number of events per brand in selected time windows\n",
        "\n",
        "In the following code, we want to consider for each user:\n",
        "\n",
        "* total number of events\n",
        "* number of events per brand for 30 most popular brands"
      ],
      "metadata": {
        "id": "gvmMerZn868Y"
      }
    },
    {
      "cell_type": "code",
      "source": [
        "BRANDS = df[\"brand\"].value_counts()[:30].index\n",
        "BRANDS"
      ],
      "metadata": {
        "colab": {
          "base_uri": "https://localhost:8080/"
        },
        "id": "jHDrGnd_830m",
        "outputId": "4e418c6e-5e7e-40ce-bf7b-45ce56c68ada"
      },
      "execution_count": 11,
      "outputs": [
        {
          "output_type": "execute_result",
          "data": {
            "text/plain": [
              "Index(['samsung', 'apple', 'xiaomi', 'huawei', 'oppo', 'lg', 'sony', 'acer',\n",
              "       'cordiant', 'elenberg', 'bosch', 'artel', 'indesit', 'lucente',\n",
              "       'philips', 'nokian', 'redmond', 'beko', 'haier', 'vitek', 'tefal',\n",
              "       'lenovo', 'triangle', 'hp', 'nokia', 'starline', 'jbl', 'dauscher',\n",
              "       'polaris', 'vivo'],\n",
              "      dtype='object')"
            ]
          },
          "metadata": {},
          "execution_count": 11
        }
      ]
    },
    {
      "cell_type": "markdown",
      "source": [
        "To create features we consider events from October.\n",
        "We group events by users and for each user, we check:\n",
        "\n",
        "* number of events in each of the selected 30 brands\n",
        "* total number of events"
      ],
      "metadata": {
        "id": "j_UcMp6o9db4"
      }
    },
    {
      "cell_type": "code",
      "source": [
        "def compute_features(events, brands):\n",
        "    features = np.zeros(len(brands))\n",
        "    # number of events per brand in brands\n",
        "    for val in events[\"brand\"].unique():\n",
        "        features[np.where(brands == val)] += np.sum(\n",
        "            events[\"brand\"] == val\n",
        "        )\n",
        "      # total number of events\n",
        "    features = np.hstack([events.shape[0], features])\n",
        "    return features"
      ],
      "metadata": {
        "id": "gt6IZUqN9fWZ"
      },
      "execution_count": 12,
      "outputs": []
    },
    {
      "cell_type": "code",
      "source": [
        "user_events = df.groupby(\"user_id\")\n",
        "feature_size = len(BRANDS) + 1\n",
        "features = np.zeros((len(user_ids), feature_size))\n",
        "for user, events in tqdm(user_events):\n",
        "    user_features = compute_features(events, BRANDS)\n",
        "    features[np.where(user_ids == user), :] = user_features"
      ],
      "metadata": {
        "colab": {
          "base_uri": "https://localhost:8080/"
        },
        "id": "msKNdWCR9kjy",
        "outputId": "78f9d2fd-8ebc-418f-f90c-c458073e3d07"
      },
      "execution_count": 13,
      "outputs": [
        {
          "output_type": "stream",
          "name": "stderr",
          "text": [
            "100%|██████████| 458835/458835 [06:40<00:00, 1145.63it/s]\n"
          ]
        }
      ]
    },
    {
      "cell_type": "code",
      "source": [
        "features.shape"
      ],
      "metadata": {
        "colab": {
          "base_uri": "https://localhost:8080/"
        },
        "id": "sRN5qWSj9roH",
        "outputId": "90c09c21-8a73-4919-9a95-7a53093fb19e"
      },
      "execution_count": 14,
      "outputs": [
        {
          "output_type": "execute_result",
          "data": {
            "text/plain": [
              "(458835, 31)"
            ]
          },
          "metadata": {},
          "execution_count": 14
        }
      ]
    },
    {
      "cell_type": "code",
      "source": [
        "print(f\"User id: {user_ids[example_ind]}\")\n",
        "print(f\"Features: {features[example_ind]}\")"
      ],
      "metadata": {
        "colab": {
          "base_uri": "https://localhost:8080/"
        },
        "id": "hoa1CeD79uwD",
        "outputId": "3e066628-073c-48c2-b629-f5178a47942f"
      },
      "execution_count": 15,
      "outputs": [
        {
          "output_type": "stream",
          "name": "stdout",
          "text": [
            "User id: 512366225\n",
            "Features: [9. 1. 0. 2. 6. 0. 0. 0. 0. 0. 0. 0. 0. 0. 0. 0. 0. 0. 0. 0. 0. 0. 0. 0.\n",
            " 0. 0. 0. 0. 0. 0. 0.]\n"
          ]
        }
      ]
    },
    {
      "cell_type": "markdown",
      "source": [
        "## Training XGBoost model\n",
        "First, we set model parameters:\n",
        "**n_estimators** — number of trees\n",
        "**max_depth** — maximum depth of a tree\n",
        "**learning_rate** — shrinkage factor used in model updates to prevent overfitting\n",
        "**objective** — foss function; here we use loss function for binary classification task"
      ],
      "metadata": {
        "id": "hErex9zr9x-g"
      }
    },
    {
      "cell_type": "code",
      "source": [
        "N_ESTIMATORS = 10\n",
        "MAX_DEPTH = 4\n",
        "LEARNING_RATE = 0.1\n",
        "OBJECTIVE = 'binary:logistic'"
      ],
      "metadata": {
        "id": "tNznmdFn92mK"
      },
      "execution_count": 16,
      "outputs": []
    },
    {
      "cell_type": "markdown",
      "source": [
        "### Imbalanced data\n",
        "Positive examples are rare in the presented dataset. This means that the number of products bought for the selected brands is low relative to the number of users.\n",
        "\n",
        "**Total number of users:**"
      ],
      "metadata": {
        "id": "t-tnhstXHixt"
      }
    },
    {
      "cell_type": "code",
      "source": [
        "user_ids.size"
      ],
      "metadata": {
        "colab": {
          "base_uri": "https://localhost:8080/"
        },
        "id": "BZDcHabkHk4W",
        "outputId": "c2cf9c48-b0e3-493a-e6ab-4b627c19a790"
      },
      "execution_count": 17,
      "outputs": [
        {
          "output_type": "execute_result",
          "data": {
            "text/plain": [
              "458835"
            ]
          },
          "metadata": {},
          "execution_count": 17
        }
      ]
    },
    {
      "cell_type": "markdown",
      "source": [
        "### Number of users that bought products of a given brands in train target"
      ],
      "metadata": {
        "id": "G8BVuOfkHn1N"
      }
    },
    {
      "cell_type": "code",
      "source": [
        "plt.figure().set_figwidth(18)\n",
        "plt.bar(target_brands, np.sum(train_target, axis=0))\n",
        "plt.show()"
      ],
      "metadata": {
        "colab": {
          "base_uri": "https://localhost:8080/",
          "height": 366
        },
        "id": "Cy78ljfZHsAI",
        "outputId": "f20fd1f6-b720-4148-edfe-c14434d62904"
      },
      "execution_count": 18,
      "outputs": [
        {
          "output_type": "display_data",
          "data": {
            "text/plain": [
              "<Figure size 1800x480 with 1 Axes>"
            ],
            "image/png": "[encoded data removed]"
          },
          "metadata": {}
        }
      ]
    },
    {
      "cell_type": "markdown",
      "source": [
        "### Number of users that bought products of a given brands in test target"
      ],
      "metadata": {
        "id": "qeUzYJK4HxLF"
      }
    },
    {
      "cell_type": "code",
      "source": [
        "plt.figure().set_figwidth(18)\n",
        "plt.bar(target_brands, np.sum(test_target, axis=0))\n",
        "plt.show()"
      ],
      "metadata": {
        "colab": {
          "base_uri": "https://localhost:8080/",
          "height": 370
        },
        "id": "uoZQnWCgHw0q",
        "outputId": "d469dbaf-6b34-41db-9fe0-12f6f00ec321"
      },
      "execution_count": 19,
      "outputs": [
        {
          "output_type": "display_data",
          "data": {
            "text/plain": [
              "<Figure size 1800x480 with 1 Axes>"
            ],
            "image/png": "[encoded data removed]"
          },
          "metadata": {}
        }
      ]
    },
    {
      "cell_type": "markdown",
      "source": [
        "### Working with imbalanced data\n",
        "One way to handle imbalanced data working with XGBoost library is to set scale_pos_weight. It is a multiplier of a loss function on positive training examples."
      ],
      "metadata": {
        "id": "RMz7JIRZH4_c"
      }
    },
    {
      "cell_type": "code",
      "source": [
        "SCALE_POS_WEIGHT = 100"
      ],
      "metadata": {
        "id": "L2USHUKrH6kQ"
      },
      "execution_count": 20,
      "outputs": []
    },
    {
      "cell_type": "markdown",
      "source": [
        "### Model\n",
        "Next, we create an XGBoost model for the classification task and fit it on our data. Generated features are what we input to the model and train_target is what the model predicts."
      ],
      "metadata": {
        "id": "x-F8yNJ-H_ea"
      }
    },
    {
      "cell_type": "code",
      "source": [
        "from xgboost import XGBClassifier\n",
        "\n",
        "# create model instance\n",
        "bst = XGBClassifier(n_estimators=N_ESTIMATORS, max_depth=MAX_DEPTH, learning_rate=LEARNING_RATE, scale_pos_weight=SCALE_POS_WEIGHT, n_jobs=10, objective=OBJECTIVE)\n",
        "# fit model\n",
        "bst.fit(features, train_target)"
      ],
      "metadata": {
        "colab": {
          "base_uri": "https://localhost:8080/",
          "height": 248
        },
        "id": "UnP9wYUPH_H_",
        "outputId": "b7ff5650-5615-4def-8d22-8d296eb76973"
      },
      "execution_count": 21,
      "outputs": [
        {
          "output_type": "execute_result",
          "data": {
            "text/plain": [
              "XGBClassifier(base_score=None, booster=None, callbacks=None,\n",
              "              colsample_bylevel=None, colsample_bynode=None,\n",
              "              colsample_bytree=None, device=None, early_stopping_rounds=None,\n",
              "              enable_categorical=False, eval_metric=None, feature_types=None,\n",
              "              gamma=None, grow_policy=None, importance_type=None,\n",
              "              interaction_constraints=None, learning_rate=0.1, max_bin=None,\n",
              "              max_cat_threshold=None, max_cat_to_onehot=None,\n",
              "              max_delta_step=None, max_depth=4, max_leaves=None,\n",
              "              min_child_weight=None, missing=nan, monotone_constraints=None,\n",
              "              multi_strategy=None, n_estimators=10, n_jobs=10,\n",
              "              num_parallel_tree=None, random_state=None, ...)"
            ],
            "text/html": [
              "<style>#sk-container-id-1 {color: black;background-color: white;}#sk-container-id-1 pre{padding: 0;}#sk-container-id-1 div.sk-toggleable {background-color: white;}#sk-container-id-1 label.sk-toggleable__label {cursor: pointer;display: block;width: 100%;margin-bottom: 0;padding: 0.3em;box-sizing: border-box;text-align: center;}#sk-container-id-1 label.sk-toggleable__label-arrow:before {content: \"▸\";float: left;margin-right: 0.25em;color: #696969;}#sk-container-id-1 label.sk-toggleable__label-arrow:hover:before {color: black;}#sk-container-id-1 div.sk-estimator:hover label.sk-toggleable__label-arrow:before {color: black;}#sk-container-id-1 div.sk-toggleable__content {max-height: 0;max-width: 0;overflow: hidden;text-align: left;background-color: #f0f8ff;}#sk-container-id-1 div.sk-toggleable__content pre {margin: 0.2em;color: black;border-radius: 0.25em;background-color: #f0f8ff;}#sk-container-id-1 input.sk-toggleable__control:checked~div.sk-toggleable__content {max-height: 200px;max-width: 100%;overflow: auto;}#sk-container-id-1 input.sk-toggleable__control:checked~label.sk-toggleable__label-arrow:before {content: \"▾\";}#sk-container-id-1 div.sk-estimator input.sk-toggleable__control:checked~label.sk-toggleable__label {background-color: #d4ebff;}#sk-container-id-1 div.sk-label input.sk-toggleable__control:checked~label.sk-toggleable__label {background-color: #d4ebff;}#sk-container-id-1 input.sk-hidden--visually {border: 0;clip: rect(1px 1px 1px 1px);clip: rect(1px, 1px, 1px, 1px);height: 1px;margin: -1px;overflow: hidden;padding: 0;position: absolute;width: 1px;}#sk-container-id-1 div.sk-estimator {font-family: monospace;background-color: #f0f8ff;border: 1px dotted black;border-radius: 0.25em;box-sizing: border-box;margin-bottom: 0.5em;}#sk-container-id-1 div.sk-estimator:hover {background-color: #d4ebff;}#sk-container-id-1 div.sk-parallel-item::after {content: \"\";width: 100%;border-bottom: 1px solid gray;flex-grow: 1;}#sk-container-id-1 div.sk-label:hover label.sk-toggleable__label {background-color: #d4ebff;}#sk-container-id-1 div.sk-serial::before {content: \"\";position: absolute;border-left: 1px solid gray;box-sizing: border-box;top: 0;bottom: 0;left: 50%;z-index: 0;}#sk-container-id-1 div.sk-serial {display: flex;flex-direction: column;align-items: center;background-color: white;padding-right: 0.2em;padding-left: 0.2em;position: relative;}#sk-container-id-1 div.sk-item {position: relative;z-index: 1;}#sk-container-id-1 div.sk-parallel {display: flex;align-items: stretch;justify-content: center;background-color: white;position: relative;}#sk-container-id-1 div.sk-item::before, #sk-container-id-1 div.sk-parallel-item::before {content: \"\";position: absolute;border-left: 1px solid gray;box-sizing: border-box;top: 0;bottom: 0;left: 50%;z-index: -1;}#sk-container-id-1 div.sk-parallel-item {display: flex;flex-direction: column;z-index: 1;position: relative;background-color: white;}#sk-container-id-1 div.sk-parallel-item:first-child::after {align-self: flex-end;width: 50%;}#sk-container-id-1 div.sk-parallel-item:last-child::after {align-self: flex-start;width: 50%;}#sk-container-id-1 div.sk-parallel-item:only-child::after {width: 0;}#sk-container-id-1 div.sk-dashed-wrapped {border: 1px dashed gray;margin: 0 0.4em 0.5em 0.4em;box-sizing: border-box;padding-bottom: 0.4em;background-color: white;}#sk-container-id-1 div.sk-label label {font-family: monospace;font-weight: bold;display: inline-block;line-height: 1.2em;}#sk-container-id-1 div.sk-label-container {text-align: center;}#sk-container-id-1 div.sk-container {/* jupyter's `normalize.less` sets `[hidden] { display: none; }` but bootstrap.min.css set `[hidden] { display: none !important; }` so we also need the `!important` here to be able to override the default hidden behavior on the sphinx rendered scikit-learn.org. See: https://github.com/scikit-learn/scikit-learn/issues/21755 */display: inline-block !important;position: relative;}#sk-container-id-1 div.sk-text-repr-fallback {display: none;}</style><div id=\"sk-container-id-1\" class=\"sk-top-container\"><div class=\"sk-text-repr-fallback\"><pre>XGBClassifier(base_score=None, booster=None, callbacks=None,\n",
              "              colsample_bylevel=None, colsample_bynode=None,\n",
              "              colsample_bytree=None, device=None, early_stopping_rounds=None,\n",
              "              enable_categorical=False, eval_metric=None, feature_types=None,\n",
              "              gamma=None, grow_policy=None, importance_type=None,\n",
              "              interaction_constraints=None, learning_rate=0.1, max_bin=None,\n",
              "              max_cat_threshold=None, max_cat_to_onehot=None,\n",
              "              max_delta_step=None, max_depth=4, max_leaves=None,\n",
              "              min_child_weight=None, missing=nan, monotone_constraints=None,\n",
              "              multi_strategy=None, n_estimators=10, n_jobs=10,\n",
              "              num_parallel_tree=None, random_state=None, ...)</pre><b>In a Jupyter environment, please rerun this cell to show the HTML representation or trust the notebook. <br />On GitHub, the HTML representation is unable to render, please try loading this page with nbviewer.org.</b></div><div class=\"sk-container\" hidden><div class=\"sk-item\"><div class=\"sk-estimator sk-toggleable\"><input class=\"sk-toggleable__control sk-hidden--visually\" id=\"sk-estimator-id-1\" type=\"checkbox\" checked><label for=\"sk-estimator-id-1\" class=\"sk-toggleable__label sk-toggleable__label-arrow\">XGBClassifier</label><div class=\"sk-toggleable__content\"><pre>XGBClassifier(base_score=None, booster=None, callbacks=None,\n",
              "              colsample_bylevel=None, colsample_bynode=None,\n",
              "              colsample_bytree=None, device=None, early_stopping_rounds=None,\n",
              "              enable_categorical=False, eval_metric=None, feature_types=None,\n",
              "              gamma=None, grow_policy=None, importance_type=None,\n",
              "              interaction_constraints=None, learning_rate=0.1, max_bin=None,\n",
              "              max_cat_threshold=None, max_cat_to_onehot=None,\n",
              "              max_delta_step=None, max_depth=4, max_leaves=None,\n",
              "              min_child_weight=None, missing=nan, monotone_constraints=None,\n",
              "              multi_strategy=None, n_estimators=10, n_jobs=10,\n",
              "              num_parallel_tree=None, random_state=None, ...)</pre></div></div></div></div></div>"
            ]
          },
          "metadata": {},
          "execution_count": 21
        }
      ]
    },
    {
      "cell_type": "markdown",
      "source": [
        "### Finally, we compute the AUC score on the test target:"
      ],
      "metadata": {
        "id": "0SGJ59nyINjS"
      }
    },
    {
      "cell_type": "code",
      "source": [
        "from sklearn.metrics import roc_auc_score\n",
        "# make predictions\n",
        "preds = bst.predict(features)\n",
        "# compute test score\n",
        "test_score = roc_auc_score(test_target, preds)\n",
        "test_score"
      ],
      "metadata": {
        "colab": {
          "base_uri": "https://localhost:8080/"
        },
        "id": "we1pViSIIPSq",
        "outputId": "83b536b6-777c-4f9e-c85d-50ef299379f3"
      },
      "execution_count": 22,
      "outputs": [
        {
          "output_type": "execute_result",
          "data": {
            "text/plain": [
              "0.5979377288904779"
            ]
          },
          "metadata": {},
          "execution_count": 22
        }
      ]
    },
    {
      "cell_type": "markdown",
      "source": [
        "### Compute features for different time windows."
      ],
      "metadata": {
        "id": "W6PHmy1eIYMQ"
      }
    },
    {
      "cell_type": "code",
      "source": [
        "def compute_timewindows_features(events, num_days, max_date, brands):\n",
        "    features = np.array([])\n",
        "    events = events.sort_values(\"event_time\")\n",
        "    for days in num_days:\n",
        "        start_date = max_date - timedelta(days=days)\n",
        "        idx = np.searchsorted(events[\"event_time\"], start_date)\n",
        "        features_per_days = np.zeros(len(brands))\n",
        "        values = events[\"brand\"].to_numpy(na_value=\"nan\")[idx:]\n",
        "        for val in np.unique(values):\n",
        "            features_per_days[np.where(brands == val)] += np.sum(\n",
        "                values == val\n",
        "            )\n",
        "        features_per_days = np.hstack([len(values), features_per_days])\n",
        "        features = np.hstack([features, features_per_days])\n",
        "    return features\n",
        "\n",
        "TIME_WINDOWS = [1, 7, 30]\n",
        "\n",
        "df[\"event_time\"] = pd.to_datetime(df.event_time)\n",
        "user_events = df.groupby(\"user_id\")\n",
        "max_date = df[\"event_time\"].max()\n",
        "feature_size = len(TIME_WINDOWS) * len(BRANDS) + len(TIME_WINDOWS)\n",
        "features = np.zeros((len(user_ids), feature_size))\n",
        "for user, events in tqdm(user_events):\n",
        "    user_features = compute_timewindows_features(events, TIME_WINDOWS, max_date, BRANDS)\n",
        "    features[np.where(user_ids == user), :] = user_features"
      ],
      "metadata": {
        "colab": {
          "base_uri": "https://localhost:8080/"
        },
        "id": "Q0jvyQmlIZPN",
        "outputId": "cbd7a9e2-f5b9-4bc3-c669-7dbd835c0207"
      },
      "execution_count": null,
      "outputs": [
        {
          "output_type": "stream",
          "name": "stderr",
          "text": [
            " 27%|██▋       | 121788/458835 [03:20<08:33, 656.00it/s]"
          ]
        }
      ]
    }
  ]
}