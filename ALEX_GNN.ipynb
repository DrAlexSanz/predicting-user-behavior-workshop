{
  "nbformat": 4,
  "nbformat_minor": 0,
  "metadata": {
    "colab": {
      "provenance": [],
      "gpuType": "T4",
      "authorship_tag": "ABX9TyNOVLuKUseucUcIhICeO9EV",
      "include_colab_link": true
    },
    "kernelspec": {
      "name": "python3",
      "display_name": "Python 3"
    },
    "language_info": {
      "name": "python"
    },
    "accelerator": "GPU"
  },
  "cells": [
    {
      "cell_type": "markdown",
      "metadata": {
        "id": "view-in-github",
        "colab_type": "text"
      },
      "source": [
        "<a href=\"https://colab.research.google.com/github/DrAlexSanz/predicting-user-behavior-workshop/blob/main/ALEX_GNN.ipynb\" target=\"_parent\"><img src=\"https://colab.research.google.com/assets/colab-badge.svg\" alt=\"Open In Colab\"/></a>"
      ]
    },
    {
      "cell_type": "code",
      "execution_count": 1,
      "metadata": {
        "colab": {
          "base_uri": "https://localhost:8080/"
        },
        "id": "fOr597gJ_kZj",
        "outputId": "d45c6fef-439f-4682-f996-84c27764c7c2"
      },
      "outputs": [
        {
          "output_type": "stream",
          "name": "stdout",
          "text": [
            "Requirement already satisfied: torch_geometric in /usr/local/lib/python3.10/dist-packages (2.6.0)\n",
            "Requirement already satisfied: aiohttp in /usr/local/lib/python3.10/dist-packages (from torch_geometric) (3.9.3)\n",
            "Requirement already satisfied: fsspec in /usr/local/lib/python3.10/dist-packages (from torch_geometric) (2023.6.0)\n",
            "Requirement already satisfied: jinja2 in /usr/local/lib/python3.10/dist-packages (from torch_geometric) (3.1.3)\n",
            "Requirement already satisfied: numpy in /usr/local/lib/python3.10/dist-packages (from torch_geometric) (1.25.2)\n",
            "Requirement already satisfied: psutil>=5.8.0 in /usr/local/lib/python3.10/dist-packages (from torch_geometric) (5.9.5)\n",
            "Requirement already satisfied: pyparsing in /usr/local/lib/python3.10/dist-packages (from torch_geometric) (3.1.2)\n",
            "Requirement already satisfied: requests in /usr/local/lib/python3.10/dist-packages (from torch_geometric) (2.31.0)\n",
            "Requirement already satisfied: scikit-learn in /usr/local/lib/python3.10/dist-packages (from torch_geometric) (1.2.2)\n",
            "Requirement already satisfied: scipy in /usr/local/lib/python3.10/dist-packages (from torch_geometric) (1.11.4)\n",
            "Requirement already satisfied: tqdm in /usr/local/lib/python3.10/dist-packages (from torch_geometric) (4.66.2)\n",
            "Requirement already satisfied: aiosignal>=1.1.2 in /usr/local/lib/python3.10/dist-packages (from aiohttp->torch_geometric) (1.3.1)\n",
            "Requirement already satisfied: attrs>=17.3.0 in /usr/local/lib/python3.10/dist-packages (from aiohttp->torch_geometric) (23.2.0)\n",
            "Requirement already satisfied: frozenlist>=1.1.1 in /usr/local/lib/python3.10/dist-packages (from aiohttp->torch_geometric) (1.4.1)\n",
            "Requirement already satisfied: multidict<7.0,>=4.5 in /usr/local/lib/python3.10/dist-packages (from aiohttp->torch_geometric) (6.0.5)\n",
            "Requirement already satisfied: yarl<2.0,>=1.0 in /usr/local/lib/python3.10/dist-packages (from aiohttp->torch_geometric) (1.9.4)\n",
            "Requirement already satisfied: async-timeout<5.0,>=4.0 in /usr/local/lib/python3.10/dist-packages (from aiohttp->torch_geometric) (4.0.3)\n",
            "Requirement already satisfied: MarkupSafe>=2.0 in /usr/local/lib/python3.10/dist-packages (from jinja2->torch_geometric) (2.1.5)\n",
            "Requirement already satisfied: charset-normalizer<4,>=2 in /usr/local/lib/python3.10/dist-packages (from requests->torch_geometric) (3.3.2)\n",
            "Requirement already satisfied: idna<4,>=2.5 in /usr/local/lib/python3.10/dist-packages (from requests->torch_geometric) (3.6)\n",
            "Requirement already satisfied: urllib3<3,>=1.21.1 in /usr/local/lib/python3.10/dist-packages (from requests->torch_geometric) (2.0.7)\n",
            "Requirement already satisfied: certifi>=2017.4.17 in /usr/local/lib/python3.10/dist-packages (from requests->torch_geometric) (2024.2.2)\n",
            "Requirement already satisfied: joblib>=1.1.1 in /usr/local/lib/python3.10/dist-packages (from scikit-learn->torch_geometric) (1.3.2)\n",
            "Requirement already satisfied: threadpoolctl>=2.0.0 in /usr/local/lib/python3.10/dist-packages (from scikit-learn->torch_geometric) (3.4.0)\n",
            "Found existing installation: torch_scatter 2.1.2+pt22cu121\n",
            "Uninstalling torch_scatter-2.1.2+pt22cu121:\n",
            "  Successfully uninstalled torch_scatter-2.1.2+pt22cu121\n",
            "Found existing installation: torch_sparse 0.6.18+pt22cu121\n",
            "Uninstalling torch_sparse-0.6.18+pt22cu121:\n",
            "  Successfully uninstalled torch_sparse-0.6.18+pt22cu121\n",
            "Found existing installation: torch_geometric 2.6.0\n",
            "Uninstalling torch_geometric-2.6.0:\n",
            "  Successfully uninstalled torch_geometric-2.6.0\n",
            "Found existing installation: torch_cluster 1.6.3+pt22cu121\n",
            "Uninstalling torch_cluster-1.6.3+pt22cu121:\n",
            "  Successfully uninstalled torch_cluster-1.6.3+pt22cu121\n",
            "Looking in links: https://data.pyg.org/whl/torch-2.2.1+cu121.html\n",
            "Collecting torch-scatter\n",
            "  Using cached https://data.pyg.org/whl/torch-2.2.0%2Bcu121/torch_scatter-2.1.2%2Bpt22cu121-cp310-cp310-linux_x86_64.whl (10.9 MB)\n",
            "Installing collected packages: torch-scatter\n",
            "Successfully installed torch-scatter-2.1.2+pt22cu121\n",
            "Looking in links: https://data.pyg.org/whl/torch-2.2.1+cu121.html\n",
            "Collecting torch-sparse\n",
            "  Using cached https://data.pyg.org/whl/torch-2.2.0%2Bcu121/torch_sparse-0.6.18%2Bpt22cu121-cp310-cp310-linux_x86_64.whl (5.0 MB)\n",
            "Requirement already satisfied: scipy in /usr/local/lib/python3.10/dist-packages (from torch-sparse) (1.11.4)\n",
            "Requirement already satisfied: numpy<1.28.0,>=1.21.6 in /usr/local/lib/python3.10/dist-packages (from scipy->torch-sparse) (1.25.2)\n",
            "Installing collected packages: torch-sparse\n",
            "Successfully installed torch-sparse-0.6.18+pt22cu121\n",
            "Looking in links: https://data.pyg.org/whl/torch-2.2.1+cu121.html\n",
            "Collecting torch-cluster\n",
            "  Using cached https://data.pyg.org/whl/torch-2.2.0%2Bcu121/torch_cluster-1.6.3%2Bpt22cu121-cp310-cp310-linux_x86_64.whl (3.4 MB)\n",
            "Requirement already satisfied: scipy in /usr/local/lib/python3.10/dist-packages (from torch-cluster) (1.11.4)\n",
            "Requirement already satisfied: numpy<1.28.0,>=1.21.6 in /usr/local/lib/python3.10/dist-packages (from scipy->torch-cluster) (1.25.2)\n",
            "Installing collected packages: torch-cluster\n",
            "Successfully installed torch-cluster-1.6.3+pt22cu121\n",
            "Collecting git+https://github.com/pyg-team/pytorch_geometric.git\n",
            "  Cloning https://github.com/pyg-team/pytorch_geometric.git to /tmp/pip-req-build-0hh3k79l\n",
            "  Running command git clone --filter=blob:none --quiet https://github.com/pyg-team/pytorch_geometric.git /tmp/pip-req-build-0hh3k79l\n",
            "  Resolved https://github.com/pyg-team/pytorch_geometric.git to commit beb9f7d70d20aa326de005d6f4e4cc6026d1c539\n",
            "  Installing build dependencies ... \u001b[?25l\u001b[?25hdone\n",
            "  Getting requirements to build wheel ... \u001b[?25l\u001b[?25hdone\n",
            "  Preparing metadata (pyproject.toml) ... \u001b[?25l\u001b[?25hdone\n",
            "Requirement already satisfied: aiohttp in /usr/local/lib/python3.10/dist-packages (from torch_geometric==2.6.0) (3.9.3)\n",
            "Requirement already satisfied: fsspec in /usr/local/lib/python3.10/dist-packages (from torch_geometric==2.6.0) (2023.6.0)\n",
            "Requirement already satisfied: jinja2 in /usr/local/lib/python3.10/dist-packages (from torch_geometric==2.6.0) (3.1.3)\n",
            "Requirement already satisfied: numpy in /usr/local/lib/python3.10/dist-packages (from torch_geometric==2.6.0) (1.25.2)\n",
            "Requirement already satisfied: psutil>=5.8.0 in /usr/local/lib/python3.10/dist-packages (from torch_geometric==2.6.0) (5.9.5)\n",
            "Requirement already satisfied: pyparsing in /usr/local/lib/python3.10/dist-packages (from torch_geometric==2.6.0) (3.1.2)\n",
            "Requirement already satisfied: requests in /usr/local/lib/python3.10/dist-packages (from torch_geometric==2.6.0) (2.31.0)\n",
            "Requirement already satisfied: scikit-learn in /usr/local/lib/python3.10/dist-packages (from torch_geometric==2.6.0) (1.2.2)\n",
            "Requirement already satisfied: scipy in /usr/local/lib/python3.10/dist-packages (from torch_geometric==2.6.0) (1.11.4)\n",
            "Requirement already satisfied: tqdm in /usr/local/lib/python3.10/dist-packages (from torch_geometric==2.6.0) (4.66.2)\n",
            "Requirement already satisfied: aiosignal>=1.1.2 in /usr/local/lib/python3.10/dist-packages (from aiohttp->torch_geometric==2.6.0) (1.3.1)\n",
            "Requirement already satisfied: attrs>=17.3.0 in /usr/local/lib/python3.10/dist-packages (from aiohttp->torch_geometric==2.6.0) (23.2.0)\n",
            "Requirement already satisfied: frozenlist>=1.1.1 in /usr/local/lib/python3.10/dist-packages (from aiohttp->torch_geometric==2.6.0) (1.4.1)\n",
            "Requirement already satisfied: multidict<7.0,>=4.5 in /usr/local/lib/python3.10/dist-packages (from aiohttp->torch_geometric==2.6.0) (6.0.5)\n",
            "Requirement already satisfied: yarl<2.0,>=1.0 in /usr/local/lib/python3.10/dist-packages (from aiohttp->torch_geometric==2.6.0) (1.9.4)\n",
            "Requirement already satisfied: async-timeout<5.0,>=4.0 in /usr/local/lib/python3.10/dist-packages (from aiohttp->torch_geometric==2.6.0) (4.0.3)\n",
            "Requirement already satisfied: MarkupSafe>=2.0 in /usr/local/lib/python3.10/dist-packages (from jinja2->torch_geometric==2.6.0) (2.1.5)\n",
            "Requirement already satisfied: charset-normalizer<4,>=2 in /usr/local/lib/python3.10/dist-packages (from requests->torch_geometric==2.6.0) (3.3.2)\n",
            "Requirement already satisfied: idna<4,>=2.5 in /usr/local/lib/python3.10/dist-packages (from requests->torch_geometric==2.6.0) (3.6)\n",
            "Requirement already satisfied: urllib3<3,>=1.21.1 in /usr/local/lib/python3.10/dist-packages (from requests->torch_geometric==2.6.0) (2.0.7)\n",
            "Requirement already satisfied: certifi>=2017.4.17 in /usr/local/lib/python3.10/dist-packages (from requests->torch_geometric==2.6.0) (2024.2.2)\n",
            "Requirement already satisfied: joblib>=1.1.1 in /usr/local/lib/python3.10/dist-packages (from scikit-learn->torch_geometric==2.6.0) (1.3.2)\n",
            "Requirement already satisfied: threadpoolctl>=2.0.0 in /usr/local/lib/python3.10/dist-packages (from scikit-learn->torch_geometric==2.6.0) (3.4.0)\n",
            "Building wheels for collected packages: torch_geometric\n",
            "  Building wheel for torch_geometric (pyproject.toml) ... \u001b[?25l\u001b[?25hdone\n",
            "  Created wheel for torch_geometric: filename=torch_geometric-2.6.0-py3-none-any.whl size=1102339 sha256=a4a0855cb79a8bd0ffe87e05c58dd786937ebd93bb8e3059f7d45c077f265fe9\n",
            "  Stored in directory: /tmp/pip-ephem-wheel-cache-qlidbrpw/wheels/d3/78/eb/9e26525b948d19533f1688fb6c209cec8a0ba793d39b49ae8f\n",
            "Successfully built torch_geometric\n",
            "Installing collected packages: torch_geometric\n",
            "Successfully installed torch_geometric-2.6.0\n",
            "Requirement already satisfied: torchviz in /usr/local/lib/python3.10/dist-packages (0.0.2)\n",
            "Requirement already satisfied: torch in /usr/local/lib/python3.10/dist-packages (from torchviz) (2.2.1+cu121)\n",
            "Requirement already satisfied: graphviz in /usr/local/lib/python3.10/dist-packages (from torchviz) (0.20.3)\n",
            "Requirement already satisfied: filelock in /usr/local/lib/python3.10/dist-packages (from torch->torchviz) (3.13.3)\n",
            "Requirement already satisfied: typing-extensions>=4.8.0 in /usr/local/lib/python3.10/dist-packages (from torch->torchviz) (4.10.0)\n",
            "Requirement already satisfied: sympy in /usr/local/lib/python3.10/dist-packages (from torch->torchviz) (1.12)\n",
            "Requirement already satisfied: networkx in /usr/local/lib/python3.10/dist-packages (from torch->torchviz) (3.2.1)\n",
            "Requirement already satisfied: jinja2 in /usr/local/lib/python3.10/dist-packages (from torch->torchviz) (3.1.3)\n",
            "Requirement already satisfied: fsspec in /usr/local/lib/python3.10/dist-packages (from torch->torchviz) (2023.6.0)\n",
            "Requirement already satisfied: nvidia-cuda-nvrtc-cu12==12.1.105 in /usr/local/lib/python3.10/dist-packages (from torch->torchviz) (12.1.105)\n",
            "Requirement already satisfied: nvidia-cuda-runtime-cu12==12.1.105 in /usr/local/lib/python3.10/dist-packages (from torch->torchviz) (12.1.105)\n",
            "Requirement already satisfied: nvidia-cuda-cupti-cu12==12.1.105 in /usr/local/lib/python3.10/dist-packages (from torch->torchviz) (12.1.105)\n",
            "Requirement already satisfied: nvidia-cudnn-cu12==8.9.2.26 in /usr/local/lib/python3.10/dist-packages (from torch->torchviz) (8.9.2.26)\n",
            "Requirement already satisfied: nvidia-cublas-cu12==12.1.3.1 in /usr/local/lib/python3.10/dist-packages (from torch->torchviz) (12.1.3.1)\n",
            "Requirement already satisfied: nvidia-cufft-cu12==11.0.2.54 in /usr/local/lib/python3.10/dist-packages (from torch->torchviz) (11.0.2.54)\n",
            "Requirement already satisfied: nvidia-curand-cu12==10.3.2.106 in /usr/local/lib/python3.10/dist-packages (from torch->torchviz) (10.3.2.106)\n",
            "Requirement already satisfied: nvidia-cusolver-cu12==11.4.5.107 in /usr/local/lib/python3.10/dist-packages (from torch->torchviz) (11.4.5.107)\n",
            "Requirement already satisfied: nvidia-cusparse-cu12==12.1.0.106 in /usr/local/lib/python3.10/dist-packages (from torch->torchviz) (12.1.0.106)\n",
            "Requirement already satisfied: nvidia-nccl-cu12==2.19.3 in /usr/local/lib/python3.10/dist-packages (from torch->torchviz) (2.19.3)\n",
            "Requirement already satisfied: nvidia-nvtx-cu12==12.1.105 in /usr/local/lib/python3.10/dist-packages (from torch->torchviz) (12.1.105)\n",
            "Requirement already satisfied: triton==2.2.0 in /usr/local/lib/python3.10/dist-packages (from torch->torchviz) (2.2.0)\n",
            "Requirement already satisfied: nvidia-nvjitlink-cu12 in /usr/local/lib/python3.10/dist-packages (from nvidia-cusolver-cu12==11.4.5.107->torch->torchviz) (12.4.99)\n",
            "Requirement already satisfied: MarkupSafe>=2.0 in /usr/local/lib/python3.10/dist-packages (from jinja2->torch->torchviz) (2.1.5)\n",
            "Requirement already satisfied: mpmath>=0.19 in /usr/local/lib/python3.10/dist-packages (from sympy->torch->torchviz) (1.3.0)\n",
            "Requirement already satisfied: matplotlib in /usr/local/lib/python3.10/dist-packages (3.7.1)\n",
            "Requirement already satisfied: contourpy>=1.0.1 in /usr/local/lib/python3.10/dist-packages (from matplotlib) (1.2.0)\n",
            "Requirement already satisfied: cycler>=0.10 in /usr/local/lib/python3.10/dist-packages (from matplotlib) (0.12.1)\n",
            "Requirement already satisfied: fonttools>=4.22.0 in /usr/local/lib/python3.10/dist-packages (from matplotlib) (4.50.0)\n",
            "Requirement already satisfied: kiwisolver>=1.0.1 in /usr/local/lib/python3.10/dist-packages (from matplotlib) (1.4.5)\n",
            "Requirement already satisfied: numpy>=1.20 in /usr/local/lib/python3.10/dist-packages (from matplotlib) (1.25.2)\n",
            "Requirement already satisfied: packaging>=20.0 in /usr/local/lib/python3.10/dist-packages (from matplotlib) (24.0)\n",
            "Requirement already satisfied: pillow>=6.2.0 in /usr/local/lib/python3.10/dist-packages (from matplotlib) (9.4.0)\n",
            "Requirement already satisfied: pyparsing>=2.3.1 in /usr/local/lib/python3.10/dist-packages (from matplotlib) (3.1.2)\n",
            "Requirement already satisfied: python-dateutil>=2.7 in /usr/local/lib/python3.10/dist-packages (from matplotlib) (2.8.2)\n",
            "Requirement already satisfied: six>=1.5 in /usr/local/lib/python3.10/dist-packages (from python-dateutil>=2.7->matplotlib) (1.16.0)\n"
          ]
        }
      ],
      "source": [
        "import os\n",
        "import numpy as np\n",
        "import pandas as pd\n",
        "import torch\n",
        "from torch import Tensor\n",
        "import torch.nn.functional as F\n",
        "\n",
        "!pip install torch_geometric\n",
        "!pip uninstall torch-scatter torch-sparse torch-geometric torch-cluster  --y\n",
        "!pip install torch-scatter -f https://data.pyg.org/whl/torch-{torch.__version__}.html\n",
        "!pip install torch-sparse -f https://data.pyg.org/whl/torch-{torch.__version__}.html\n",
        "!pip install torch-cluster -f https://data.pyg.org/whl/torch-{torch.__version__}.html\n",
        "!pip install git+https://github.com/pyg-team/pytorch_geometric.git\n",
        "!pip install torchviz\n",
        "!pip install matplotlib\n",
        "\n",
        "\n",
        "import torch_geometric.transforms as T\n",
        "from torch_geometric.data import HeteroData\n",
        "from torch_geometric.loader import LinkNeighborLoader\n",
        "from torch_geometric.nn import SAGEConv, to_hetero"
      ]
    },
    {
      "cell_type": "code",
      "source": [
        "!git clone https://github.com/Synerise/predicting-user-behavior-workshop.git\n",
        "DATA_DIR = \"./predicting-user-behavior-workshop/data\""
      ],
      "metadata": {
        "colab": {
          "base_uri": "https://localhost:8080/"
        },
        "id": "qH6JfGZz_yM7",
        "outputId": "cd52a86a-77c4-4b9f-b5c0-eec474eb714a"
      },
      "execution_count": 2,
      "outputs": [
        {
          "output_type": "stream",
          "name": "stdout",
          "text": [
            "fatal: destination path 'predicting-user-behavior-workshop' already exists and is not an empty directory.\n"
          ]
        }
      ]
    },
    {
      "cell_type": "code",
      "source": [
        "TRAIN_PD_PATH = f\"{DATA_DIR}/2019-Oct_small.csv\"\n",
        "TARGETS_PD_PATH = f\"{DATA_DIR}/2019-Nov_train_target.csv\"\n",
        "TEST_TARGETS_PATH = f\"{DATA_DIR}/test_target.npy\"\n",
        "TARGET_LABELS = f'{DATA_DIR}/target_brands.npy'\n",
        "USER_IDS = f'{DATA_DIR}/user_ids.npy'"
      ],
      "metadata": {
        "id": "HH41GE9u_1LK"
      },
      "execution_count": 3,
      "outputs": []
    },
    {
      "cell_type": "code",
      "source": [
        "device = torch.device('cuda' if torch.cuda.is_available() else 'cpu')\n",
        "print(f\"Device: '{device}'\")"
      ],
      "metadata": {
        "colab": {
          "base_uri": "https://localhost:8080/"
        },
        "id": "EZS4AZAGABa9",
        "outputId": "315f583d-e366-49c6-a8e6-155567a6ec6f"
      },
      "execution_count": 4,
      "outputs": [
        {
          "output_type": "stream",
          "name": "stdout",
          "text": [
            "Device: 'cuda'\n"
          ]
        }
      ]
    },
    {
      "cell_type": "code",
      "source": [
        "def load_data():\n",
        "    train_df = pd.read_csv(TRAIN_PD_PATH)\n",
        "    target_df = pd.read_csv(TARGETS_PD_PATH)\n",
        "    test_targets_np = np.load(TEST_TARGETS_PATH)\n",
        "    target_labels = np.load(TARGET_LABELS, allow_pickle=True)\n",
        "    user_ids = np.load(USER_IDS)\n",
        "\n",
        "    return train_df, target_df, test_targets_np, target_labels, user_ids"
      ],
      "metadata": {
        "id": "ofuh1s4NASXy"
      },
      "execution_count": 5,
      "outputs": []
    },
    {
      "cell_type": "code",
      "source": [
        "train_df, target_df, targets, target_labels, users_in_target = load_data()"
      ],
      "metadata": {
        "id": "fK8Ymzf3AUOj"
      },
      "execution_count": 6,
      "outputs": []
    },
    {
      "cell_type": "code",
      "source": [
        "train_df"
      ],
      "metadata": {
        "colab": {
          "base_uri": "https://localhost:8080/",
          "height": 424
        },
        "id": "1SI5LkBmAVhR",
        "outputId": "202d12a3-ff93-4e3c-bdfd-b99ef5deb325"
      },
      "execution_count": 7,
      "outputs": [
        {
          "output_type": "execute_result",
          "data": {
            "text/plain": [
              "                      event_time     brand    user_id\n",
              "0        2019-10-01 00:02:14 UTC   samsung  543272936\n",
              "1        2019-10-01 00:04:37 UTC     apple  551377651\n",
              "2        2019-10-01 00:05:14 UTC    xiaomi  550121407\n",
              "3        2019-10-01 00:06:02 UTC    xiaomi  514591159\n",
              "4        2019-10-01 00:07:07 UTC   santeri  555332717\n",
              "...                          ...       ...        ...\n",
              "1592249  2019-10-31 23:55:21 UTC  puckator  514622109\n",
              "1592250  2019-10-31 23:56:03 UTC     apple  512717356\n",
              "1592251  2019-10-31 23:56:11 UTC     apple  533892594\n",
              "1592252  2019-10-31 23:56:53 UTC     apple  533892594\n",
              "1592253  2019-10-31 23:59:16 UTC     apple  544501248\n",
              "\n",
              "[1592254 rows x 3 columns]"
            ],
            "text/html": [
              "\n",
              "  <div id=\"df-4913aa49-48c8-490b-94e2-77fdd5d76f28\" class=\"colab-df-container\">\n",
              "    <div>\n",
              "<style scoped>\n",
              "    .dataframe tbody tr th:only-of-type {\n",
              "        vertical-align: middle;\n",
              "    }\n",
              "\n",
              "    .dataframe tbody tr th {\n",
              "        vertical-align: top;\n",
              "    }\n",
              "\n",
              "    .dataframe thead th {\n",
              "        text-align: right;\n",
              "    }\n",
              "</style>\n",
              "<table border=\"1\" class=\"dataframe\">\n",
              "  <thead>\n",
              "    <tr style=\"text-align: right;\">\n",
              "      <th></th>\n",
              "      <th>event_time</th>\n",
              "      <th>brand</th>\n",
              "      <th>user_id</th>\n",
              "    </tr>\n",
              "  </thead>\n",
              "  <tbody>\n",
              "    <tr>\n",
              "      <th>0</th>\n",
              "      <td>2019-10-01 00:02:14 UTC</td>\n",
              "      <td>samsung</td>\n",
              "      <td>543272936</td>\n",
              "    </tr>\n",
              "    <tr>\n",
              "      <th>1</th>\n",
              "      <td>2019-10-01 00:04:37 UTC</td>\n",
              "      <td>apple</td>\n",
              "      <td>551377651</td>\n",
              "    </tr>\n",
              "    <tr>\n",
              "      <th>2</th>\n",
              "      <td>2019-10-01 00:05:14 UTC</td>\n",
              "      <td>xiaomi</td>\n",
              "      <td>550121407</td>\n",
              "    </tr>\n",
              "    <tr>\n",
              "      <th>3</th>\n",
              "      <td>2019-10-01 00:06:02 UTC</td>\n",
              "      <td>xiaomi</td>\n",
              "      <td>514591159</td>\n",
              "    </tr>\n",
              "    <tr>\n",
              "      <th>4</th>\n",
              "      <td>2019-10-01 00:07:07 UTC</td>\n",
              "      <td>santeri</td>\n",
              "      <td>555332717</td>\n",
              "    </tr>\n",
              "    <tr>\n",
              "      <th>...</th>\n",
              "      <td>...</td>\n",
              "      <td>...</td>\n",
              "      <td>...</td>\n",
              "    </tr>\n",
              "    <tr>\n",
              "      <th>1592249</th>\n",
              "      <td>2019-10-31 23:55:21 UTC</td>\n",
              "      <td>puckator</td>\n",
              "      <td>514622109</td>\n",
              "    </tr>\n",
              "    <tr>\n",
              "      <th>1592250</th>\n",
              "      <td>2019-10-31 23:56:03 UTC</td>\n",
              "      <td>apple</td>\n",
              "      <td>512717356</td>\n",
              "    </tr>\n",
              "    <tr>\n",
              "      <th>1592251</th>\n",
              "      <td>2019-10-31 23:56:11 UTC</td>\n",
              "      <td>apple</td>\n",
              "      <td>533892594</td>\n",
              "    </tr>\n",
              "    <tr>\n",
              "      <th>1592252</th>\n",
              "      <td>2019-10-31 23:56:53 UTC</td>\n",
              "      <td>apple</td>\n",
              "      <td>533892594</td>\n",
              "    </tr>\n",
              "    <tr>\n",
              "      <th>1592253</th>\n",
              "      <td>2019-10-31 23:59:16 UTC</td>\n",
              "      <td>apple</td>\n",
              "      <td>544501248</td>\n",
              "    </tr>\n",
              "  </tbody>\n",
              "</table>\n",
              "<p>1592254 rows × 3 columns</p>\n",
              "</div>\n",
              "    <div class=\"colab-df-buttons\">\n",
              "\n",
              "  <div class=\"colab-df-container\">\n",
              "    <button class=\"colab-df-convert\" onclick=\"convertToInteractive('df-4913aa49-48c8-490b-94e2-77fdd5d76f28')\"\n",
              "            title=\"Convert this dataframe to an interactive table.\"\n",
              "            style=\"display:none;\">\n",
              "\n",
              "  <svg xmlns=\"http://www.w3.org/2000/svg\" height=\"24px\" viewBox=\"0 -960 960 960\">\n",
              "    <path d=\"M120-120v-720h720v720H120Zm60-500h600v-160H180v160Zm220 220h160v-160H400v160Zm0 220h160v-160H400v160ZM180-400h160v-160H180v160Zm440 0h160v-160H620v160ZM180-180h160v-160H180v160Zm440 0h160v-160H620v160Z\"/>\n",
              "  </svg>\n",
              "    </button>\n",
              "\n",
              "  <style>\n",
              "    .colab-df-container {\n",
              "      display:flex;\n",
              "      gap: 12px;\n",
              "    }\n",
              "\n",
              "    .colab-df-convert {\n",
              "      background-color: #E8F0FE;\n",
              "      border: none;\n",
              "      border-radius: 50%;\n",
              "      cursor: pointer;\n",
              "      display: none;\n",
              "      fill: #1967D2;\n",
              "      height: 32px;\n",
              "      padding: 0 0 0 0;\n",
              "      width: 32px;\n",
              "    }\n",
              "\n",
              "    .colab-df-convert:hover {\n",
              "      background-color: #E2EBFA;\n",
              "      box-shadow: 0px 1px 2px rgba(60, 64, 67, 0.3), 0px 1px 3px 1px rgba(60, 64, 67, 0.15);\n",
              "      fill: #174EA6;\n",
              "    }\n",
              "\n",
              "    .colab-df-buttons div {\n",
              "      margin-bottom: 4px;\n",
              "    }\n",
              "\n",
              "    [theme=dark] .colab-df-convert {\n",
              "      background-color: #3B4455;\n",
              "      fill: #D2E3FC;\n",
              "    }\n",
              "\n",
              "    [theme=dark] .colab-df-convert:hover {\n",
              "      background-color: #434B5C;\n",
              "      box-shadow: 0px 1px 3px 1px rgba(0, 0, 0, 0.15);\n",
              "      filter: drop-shadow(0px 1px 2px rgba(0, 0, 0, 0.3));\n",
              "      fill: #FFFFFF;\n",
              "    }\n",
              "  </style>\n",
              "\n",
              "    <script>\n",
              "      const buttonEl =\n",
              "        document.querySelector('#df-4913aa49-48c8-490b-94e2-77fdd5d76f28 button.colab-df-convert');\n",
              "      buttonEl.style.display =\n",
              "        google.colab.kernel.accessAllowed ? 'block' : 'none';\n",
              "\n",
              "      async function convertToInteractive(key) {\n",
              "        const element = document.querySelector('#df-4913aa49-48c8-490b-94e2-77fdd5d76f28');\n",
              "        const dataTable =\n",
              "          await google.colab.kernel.invokeFunction('convertToInteractive',\n",
              "                                                    [key], {});\n",
              "        if (!dataTable) return;\n",
              "\n",
              "        const docLinkHtml = 'Like what you see? Visit the ' +\n",
              "          '<a target=\"_blank\" href=https://colab.research.google.com/notebooks/data_table.ipynb>data table notebook</a>'\n",
              "          + ' to learn more about interactive tables.';\n",
              "        element.innerHTML = '';\n",
              "        dataTable['output_type'] = 'display_data';\n",
              "        await google.colab.output.renderOutput(dataTable, element);\n",
              "        const docLink = document.createElement('div');\n",
              "        docLink.innerHTML = docLinkHtml;\n",
              "        element.appendChild(docLink);\n",
              "      }\n",
              "    </script>\n",
              "  </div>\n",
              "\n",
              "\n",
              "<div id=\"df-c51aac19-00a2-4142-9e0d-a9d685f34d52\">\n",
              "  <button class=\"colab-df-quickchart\" onclick=\"quickchart('df-c51aac19-00a2-4142-9e0d-a9d685f34d52')\"\n",
              "            title=\"Suggest charts\"\n",
              "            style=\"display:none;\">\n",
              "\n",
              "<svg xmlns=\"http://www.w3.org/2000/svg\" height=\"24px\"viewBox=\"0 0 24 24\"\n",
              "     width=\"24px\">\n",
              "    <g>\n",
              "        <path d=\"M19 3H5c-1.1 0-2 .9-2 2v14c0 1.1.9 2 2 2h14c1.1 0 2-.9 2-2V5c0-1.1-.9-2-2-2zM9 17H7v-7h2v7zm4 0h-2V7h2v10zm4 0h-2v-4h2v4z\"/>\n",
              "    </g>\n",
              "</svg>\n",
              "  </button>\n",
              "\n",
              "<style>\n",
              "  .colab-df-quickchart {\n",
              "      --bg-color: #E8F0FE;\n",
              "      --fill-color: #1967D2;\n",
              "      --hover-bg-color: #E2EBFA;\n",
              "      --hover-fill-color: #174EA6;\n",
              "      --disabled-fill-color: #AAA;\n",
              "      --disabled-bg-color: #DDD;\n",
              "  }\n",
              "\n",
              "  [theme=dark] .colab-df-quickchart {\n",
              "      --bg-color: #3B4455;\n",
              "      --fill-color: #D2E3FC;\n",
              "      --hover-bg-color: #434B5C;\n",
              "      --hover-fill-color: #FFFFFF;\n",
              "      --disabled-bg-color: #3B4455;\n",
              "      --disabled-fill-color: #666;\n",
              "  }\n",
              "\n",
              "  .colab-df-quickchart {\n",
              "    background-color: var(--bg-color);\n",
              "    border: none;\n",
              "    border-radius: 50%;\n",
              "    cursor: pointer;\n",
              "    display: none;\n",
              "    fill: var(--fill-color);\n",
              "    height: 32px;\n",
              "    padding: 0;\n",
              "    width: 32px;\n",
              "  }\n",
              "\n",
              "  .colab-df-quickchart:hover {\n",
              "    background-color: var(--hover-bg-color);\n",
              "    box-shadow: 0 1px 2px rgba(60, 64, 67, 0.3), 0 1px 3px 1px rgba(60, 64, 67, 0.15);\n",
              "    fill: var(--button-hover-fill-color);\n",
              "  }\n",
              "\n",
              "  .colab-df-quickchart-complete:disabled,\n",
              "  .colab-df-quickchart-complete:disabled:hover {\n",
              "    background-color: var(--disabled-bg-color);\n",
              "    fill: var(--disabled-fill-color);\n",
              "    box-shadow: none;\n",
              "  }\n",
              "\n",
              "  .colab-df-spinner {\n",
              "    border: 2px solid var(--fill-color);\n",
              "    border-color: transparent;\n",
              "    border-bottom-color: var(--fill-color);\n",
              "    animation:\n",
              "      spin 1s steps(1) infinite;\n",
              "  }\n",
              "\n",
              "  @keyframes spin {\n",
              "    0% {\n",
              "      border-color: transparent;\n",
              "      border-bottom-color: var(--fill-color);\n",
              "      border-left-color: var(--fill-color);\n",
              "    }\n",
              "    20% {\n",
              "      border-color: transparent;\n",
              "      border-left-color: var(--fill-color);\n",
              "      border-top-color: var(--fill-color);\n",
              "    }\n",
              "    30% {\n",
              "      border-color: transparent;\n",
              "      border-left-color: var(--fill-color);\n",
              "      border-top-color: var(--fill-color);\n",
              "      border-right-color: var(--fill-color);\n",
              "    }\n",
              "    40% {\n",
              "      border-color: transparent;\n",
              "      border-right-color: var(--fill-color);\n",
              "      border-top-color: var(--fill-color);\n",
              "    }\n",
              "    60% {\n",
              "      border-color: transparent;\n",
              "      border-right-color: var(--fill-color);\n",
              "    }\n",
              "    80% {\n",
              "      border-color: transparent;\n",
              "      border-right-color: var(--fill-color);\n",
              "      border-bottom-color: var(--fill-color);\n",
              "    }\n",
              "    90% {\n",
              "      border-color: transparent;\n",
              "      border-bottom-color: var(--fill-color);\n",
              "    }\n",
              "  }\n",
              "</style>\n",
              "\n",
              "  <script>\n",
              "    async function quickchart(key) {\n",
              "      const quickchartButtonEl =\n",
              "        document.querySelector('#' + key + ' button');\n",
              "      quickchartButtonEl.disabled = true;  // To prevent multiple clicks.\n",
              "      quickchartButtonEl.classList.add('colab-df-spinner');\n",
              "      try {\n",
              "        const charts = await google.colab.kernel.invokeFunction(\n",
              "            'suggestCharts', [key], {});\n",
              "      } catch (error) {\n",
              "        console.error('Error during call to suggestCharts:', error);\n",
              "      }\n",
              "      quickchartButtonEl.classList.remove('colab-df-spinner');\n",
              "      quickchartButtonEl.classList.add('colab-df-quickchart-complete');\n",
              "    }\n",
              "    (() => {\n",
              "      let quickchartButtonEl =\n",
              "        document.querySelector('#df-c51aac19-00a2-4142-9e0d-a9d685f34d52 button');\n",
              "      quickchartButtonEl.style.display =\n",
              "        google.colab.kernel.accessAllowed ? 'block' : 'none';\n",
              "    })();\n",
              "  </script>\n",
              "</div>\n",
              "    </div>\n",
              "  </div>\n"
            ],
            "application/vnd.google.colaboratory.intrinsic+json": {
              "type": "dataframe",
              "variable_name": "train_df"
            }
          },
          "metadata": {},
          "execution_count": 7
        }
      ]
    },
    {
      "cell_type": "code",
      "source": [
        "target_df = target_df[target_df['user_id'].isin(train_df['user_id'].unique())]"
      ],
      "metadata": {
        "id": "2vjQkTY2AZU5"
      },
      "execution_count": 8,
      "outputs": []
    },
    {
      "cell_type": "code",
      "source": [
        "train_df = pd.concat([train_df, target_df])"
      ],
      "metadata": {
        "id": "g2A8lFRyAajp"
      },
      "execution_count": 9,
      "outputs": []
    },
    {
      "cell_type": "markdown",
      "source": [
        "# Create artificial IDs for users and brands\n",
        "In a few moments we'll be using the PyG library. We must create some objects required by the library to represent our graph. First, we will map users and brands to artificial integer IDs."
      ],
      "metadata": {
        "id": "s7w4-SfUAckR"
      }
    },
    {
      "cell_type": "code",
      "source": [
        "users_in_target.shape, train_df['user_id'].nunique()"
      ],
      "metadata": {
        "colab": {
          "base_uri": "https://localhost:8080/"
        },
        "id": "0-0SQ9lQAe9S",
        "outputId": "9b53502f-f6b8-4a13-d545-7b4ab6e7ccd1"
      },
      "execution_count": 10,
      "outputs": [
        {
          "output_type": "execute_result",
          "data": {
            "text/plain": [
              "((458835,), 458835)"
            ]
          },
          "metadata": {},
          "execution_count": 10
        }
      ]
    },
    {
      "cell_type": "code",
      "source": [
        "unique_user_ids = pd.DataFrame(data={\n",
        "    'user_id': users_in_target,\n",
        "    'mapped_user_id': pd.RangeIndex(len(users_in_target)),\n",
        "})\n",
        "print(\"Mapping of user IDs to consecutive values:\")\n",
        "print(\"==========================================\")\n",
        "print(unique_user_ids.head())\n",
        "print()"
      ],
      "metadata": {
        "colab": {
          "base_uri": "https://localhost:8080/"
        },
        "id": "D12pHUd5AkjS",
        "outputId": "7187c735-12a8-4b7f-b465-b6e55b4e7aa6"
      },
      "execution_count": 11,
      "outputs": [
        {
          "output_type": "stream",
          "name": "stdout",
          "text": [
            "Mapping of user IDs to consecutive values:\n",
            "==========================================\n",
            "     user_id  mapped_user_id\n",
            "0  264649825               0\n",
            "1  284344819               1\n",
            "2  293957954               2\n",
            "3  303160429               3\n",
            "4  304325717               4\n",
            "\n"
          ]
        }
      ]
    },
    {
      "cell_type": "code",
      "source": [
        "unique_brands = train_df['brand'].unique()\n",
        "unique_brands = pd.DataFrame(data={\n",
        "    'brand': unique_brands,\n",
        "    'mapped_brand': pd.RangeIndex(len(unique_brands)),\n",
        "})\n",
        "print(\"Mapping of brands to consecutive values:\")\n",
        "print(\"===========================================\")\n",
        "print(unique_brands)"
      ],
      "metadata": {
        "colab": {
          "base_uri": "https://localhost:8080/"
        },
        "id": "kojFjOITAoPi",
        "outputId": "9eb42e4e-05f7-4f91-a131-2d994d2920e1"
      },
      "execution_count": 12,
      "outputs": [
        {
          "output_type": "stream",
          "name": "stdout",
          "text": [
            "Mapping of brands to consecutive values:\n",
            "===========================================\n",
            "          brand  mapped_brand\n",
            "0       samsung             0\n",
            "1         apple             1\n",
            "2        xiaomi             2\n",
            "3       santeri             3\n",
            "4         oasis             4\n",
            "...         ...           ...\n",
            "2084      elite          2084\n",
            "2085  ciaobimbi          2085\n",
            "2086        mtx          2086\n",
            "2087   babycare          2087\n",
            "2088    joonies          2088\n",
            "\n",
            "[2089 rows x 2 columns]\n"
          ]
        }
      ]
    },
    {
      "cell_type": "markdown",
      "source": [
        "Next, we merge the IDs with our dataset:"
      ],
      "metadata": {
        "id": "jfWIczE-ArRT"
      }
    },
    {
      "cell_type": "code",
      "source": [
        "purchases_user_id = pd.merge(train_df['user_id'], unique_user_ids,\n",
        "                            left_on='user_id', right_on='user_id', how='left')\n",
        "purchases_brand = pd.merge(train_df['brand'], unique_brands,\n",
        "                            left_on='brand', right_on='brand', how='left')"
      ],
      "metadata": {
        "id": "LIlFu78pAroz"
      },
      "execution_count": 13,
      "outputs": []
    },
    {
      "cell_type": "markdown",
      "source": [
        "We switch to representing our graph by only the artificial IDs, by taking matching user ID and brand ID of each transaction:"
      ],
      "metadata": {
        "id": "fcVgmfYBAxVb"
      }
    },
    {
      "cell_type": "code",
      "source": [
        "purchases_user_id = torch.from_numpy(purchases_user_id['mapped_user_id'].values)\n",
        "purchases_brand = torch.from_numpy(purchases_brand['mapped_brand'].values)"
      ],
      "metadata": {
        "id": "SdN10fjOAu0r"
      },
      "execution_count": 14,
      "outputs": []
    },
    {
      "cell_type": "markdown",
      "source": [
        "# Create the HeteroData object\n",
        "Now, we finally create the native PyG object representing our graph. It's called HeteroData because we have a few different node types inside the graph. First, we merge the matching user and brand ids into a 2d numpy array:"
      ],
      "metadata": {
        "id": "3ViQVSYgA2Cz"
      }
    },
    {
      "cell_type": "code",
      "source": [
        "edge_index_user_to_brand = torch.stack([purchases_user_id, purchases_brand], dim=0)\n",
        "\n",
        "print(\"Final edge indices pointing from users to brands:\")\n",
        "print(\"=================================================\")\n",
        "print(edge_index_user_to_brand)"
      ],
      "metadata": {
        "colab": {
          "base_uri": "https://localhost:8080/"
        },
        "id": "Ds40BXhiA3KD",
        "outputId": "f3111ea6-0e90-42aa-c111-780b7613ecd9"
      },
      "execution_count": 15,
      "outputs": [
        {
          "output_type": "stream",
          "name": "stdout",
          "text": [
            "Final edge indices pointing from users to brands:\n",
            "=================================================\n",
            "tensor([[269291, 318410, 311172,  ..., 369565, 226688, 219058],\n",
            "        [     0,      1,      2,  ...,      0,      0,     89]])\n"
          ]
        }
      ]
    },
    {
      "cell_type": "markdown",
      "source": [
        "Then, we create an undirected HeteroData object. We need to name the main relationship between users and brands. We call it buys to reflect the relationship \"user A buys brand B\"."
      ],
      "metadata": {
        "id": "UAdGQNMlA7mC"
      }
    },
    {
      "cell_type": "code",
      "source": [
        "num_users = len(unique_user_ids)\n",
        "num_brands = len(unique_brands)\n",
        "\n",
        "data = HeteroData()\n",
        "data[\"user\"].node_id = torch.arange(num_users)\n",
        "data[\"brand\"].node_id = torch.arange(num_brands)\n",
        "\n",
        "#give some name to the relationship between user nodes and brand nodes\n",
        "data[\"user\", \"buys\", \"brand\"].edge_index = edge_index_user_to_brand\n",
        "data = T.ToUndirected()(data)"
      ],
      "metadata": {
        "id": "AZNk6PawA8Ia"
      },
      "execution_count": 16,
      "outputs": []
    },
    {
      "cell_type": "markdown",
      "source": [
        "# Visualize the Graph with networkx"
      ],
      "metadata": {
        "id": "rgUvyDO2BAI6"
      }
    },
    {
      "cell_type": "code",
      "source": [
        "import networkx as nx\n",
        "\n",
        "subgraph = edge_index_user_to_brand[:, :200].T.numpy()\n",
        "\n",
        "user2name = {x:f'user{x}' for x in subgraph[:, 0]}\n",
        "brand2name = {x:f'brand{x}' for x in subgraph[:, 1]}\n",
        "\n",
        "named_subgraph = [(user2name[start], brand2name[end]) for start, end in subgraph]\n",
        "\n",
        "g = nx.from_edgelist(named_subgraph)\n",
        "g = nx.DiGraph(g)\n",
        "\n",
        "nx.draw(g, node_size=40)"
      ],
      "metadata": {
        "colab": {
          "base_uri": "https://localhost:8080/",
          "height": 516
        },
        "id": "dTpN1tFqBApq",
        "outputId": "63937ee5-c8cd-4308-a7ab-19e8715985a9"
      },
      "execution_count": 17,
      "outputs": [
        {
          "output_type": "display_data",
          "data": {
            "text/plain": [
              "<Figure size 640x480 with 1 Axes>"
            ],
            "image/png": "[encoded data removed]"
          },
          "metadata": {}
        }
      ]
    },
    {
      "cell_type": "code",
      "source": [
        "g.nodes"
      ],
      "metadata": {
        "colab": {
          "base_uri": "https://localhost:8080/"
        },
        "id": "FkbbRbZ8BFyR",
        "outputId": "64f72470-16fa-4d3c-8f87-27112defce4e"
      },
      "execution_count": 18,
      "outputs": [
        {
          "output_type": "execute_result",
          "data": {
            "text/plain": [
              "NodeView(('user269291', 'brand0', 'user318410', 'brand1', 'user311172', 'brand2', 'user66925', 'user344786', 'brand3', 'user180805', 'user179240', 'user302537', 'brand4', 'user221216', 'user342836', 'brand5', 'user233498', 'user81999', 'user99290', 'brand6', 'user343384', 'user43721', 'brand7', 'user342935', 'user113953', 'user8963', 'brand8', 'user253124', 'user49754', 'user99592', 'user343464', 'user40345', 'brand9', 'user109999', 'brand10', 'user149124', 'user151673', 'brand11', 'user308368', 'user84186', 'user27744', 'brand12', 'user55764', 'brand13', 'user339275', 'user72390', 'brand14', 'user74104', 'brand15', 'user16440', 'user18475', 'user168697', 'brand16', 'user311318', 'user129158', 'brand17', 'user317750', 'brand18', 'user33481', 'user14872', 'user177993', 'user68783', 'user145217', 'user138147', 'user97116', 'user232615', 'user311751', 'user345441', 'user129751', 'brand19', 'user345439', 'user323176', 'user63683', 'user295264', 'user97389', 'brand20', 'user171332', 'brand21', 'user175618', 'user345435', 'user345448', 'user227925', 'brand22', 'user257581', 'user325797', 'user59849', 'user325590', 'user9202', 'user345443', 'user269976', 'user185114', 'user345354', 'user144213', 'brand23', 'user334769', 'brand24', 'user297844', 'brand25', 'user10585', 'user18235', 'brand26', 'user94555', 'brand27', 'user318232', 'user275827', 'brand28', 'user42071', 'user45312', 'user177998', 'user196168', 'brand29', 'user42714', 'user118649', 'user312996', 'brand30', 'user15129', 'user11075', 'user99646', 'brand31', 'user73554', 'user5960', 'brand32', 'user10295', 'brand33', 'user343175', 'user130326', 'user168473', 'user27872', 'user309299', 'user252456', 'user65710', 'user128788', 'user68554', 'user73875', 'user290819', 'brand34', 'user336269', 'user312964', 'brand35', 'user343107', 'user237034', 'user345451', 'user31500', 'brand36', 'user100819', 'brand37', 'user68721', 'user345454', 'brand38', 'user168830', 'user38297', 'user323833', 'user24577', 'brand39', 'user46465', 'user306371', 'user229823', 'brand40', 'user319867', 'user320636', 'user335702', 'brand41', 'user305872', 'user218721', 'user186077', 'user310117', 'brand42', 'user300473', 'brand43', 'user309373', 'brand44', 'user285170', 'user333180', 'user130959', 'user58000', 'user261949', 'user93157', 'user55806'))"
            ]
          },
          "metadata": {},
          "execution_count": 18
        }
      ]
    },
    {
      "cell_type": "markdown",
      "source": [
        "# Exercise 1\n",
        "We want to color the nodes to show which are USERS, and which are BRANDS. Create a `color_map` list with strings: 'red' for users, and 'green' for brands, to match the ordering of USER and BRAND nodes in `g.nodes` above.\n",
        "\n",
        "The result should look like this: `color_map = ('green', 'red', 'green', 'red', ...)`"
      ],
      "metadata": {
        "id": "j-TqOSypBJPQ"
      }
    },
    {
      "cell_type": "code",
      "source": [
        "color_map = ['green' if x.startswith('brand') else 'red' for x in g.nodes]"
      ],
      "metadata": {
        "id": "IDAapJAbBOqh"
      },
      "execution_count": 19,
      "outputs": []
    },
    {
      "cell_type": "code",
      "source": [
        "#BRANDS are GREEN\n",
        "#USERS are RED\n",
        "nx.draw(g, node_size=40, node_color=color_map)"
      ],
      "metadata": {
        "colab": {
          "base_uri": "https://localhost:8080/",
          "height": 516
        },
        "id": "dmBnkz5MBSBg",
        "outputId": "5c7e4393-7779-4640-8cc3-182a8d29addf"
      },
      "execution_count": 20,
      "outputs": [
        {
          "output_type": "display_data",
          "data": {
            "text/plain": [
              "<Figure size 640x480 with 1 Axes>"
            ],
            "image/png": "[encoded data removed]"
          },
          "metadata": {}
        }
      ]
    },
    {
      "cell_type": "markdown",
      "source": [
        "# Define the Splits\n",
        "Now, we need to define how our data will be split during training:\n",
        "\n",
        "* `num_val` - what portion of the graph we want to validate on during training\n",
        "* `num_test` - what portion of the graph we want to use for testing (it's 0.0 because we want to do a full prediction for all users during test)\n",
        "* `disjoint_train_ratio=0.3` - 30% of edges will be used as training targets (0 or 1 values will teach the model whether it should predict an edge or not between a given pair of nodes). 70% of edges will be used for aggregating neighbors and walking over the graph.\n",
        "* `neg_sampling_ratio=2.0` - non-existent edges will be created as well (to be used as negative examples during validation) with a ratio of 2 non-existent edges to 1 existing edge\n",
        "* `add_negative_train_samples=False` - negative edges during training will not be generated beforehand, but will be generated on-the-fly\n",
        "* `edge_types` - our chosen name for the user-brand relationship\n",
        "* `rev_edge_types` - we want to go from users to brands, but also from brands to users (two-way connections in the graph). We call it a reverse buy operation"
      ],
      "metadata": {
        "id": "PRHN1bWgBdpa"
      }
    },
    {
      "cell_type": "code",
      "source": [
        "transform = T.RandomLinkSplit(\n",
        "    num_val=0.1,\n",
        "    num_test=0.0,\n",
        "    disjoint_train_ratio=0.3,\n",
        "    neg_sampling_ratio=2.0,\n",
        "    add_negative_train_samples=False,\n",
        "    edge_types=(\"user\", \"buys\", \"brand\"),\n",
        "    rev_edge_types=(\"brand\", \"rev_buys\", \"user\"),\n",
        ")\n",
        "train_data, val_data, _ = transform(data)"
      ],
      "metadata": {
        "id": "QoHI6kqBBy28"
      },
      "execution_count": 21,
      "outputs": []
    },
    {
      "cell_type": "code",
      "source": [
        "train_data"
      ],
      "metadata": {
        "colab": {
          "base_uri": "https://localhost:8080/"
        },
        "id": "X765oebqB0uT",
        "outputId": "c657964a-cba0-40df-a627-784f82f556e0"
      },
      "execution_count": 22,
      "outputs": [
        {
          "output_type": "execute_result",
          "data": {
            "text/plain": [
              "HeteroData(\n",
              "  user={ node_id=[458835] },\n",
              "  brand={ node_id=[2089] },\n",
              "  (user, buys, brand)={\n",
              "    edge_index=[2, 1081202],\n",
              "    edge_label=[463371],\n",
              "    edge_label_index=[2, 463371],\n",
              "  },\n",
              "  (brand, rev_buys, user)={ edge_index=[2, 1081202] }\n",
              ")"
            ]
          },
          "metadata": {},
          "execution_count": 22
        }
      ]
    },
    {
      "cell_type": "markdown",
      "source": [
        "# Define the Loader\n",
        "We must also create a dataloader to generate training batches of the data. Neural networks rarely accept the whole dataset at once. More often, they gradually update their weights using portions of data (batches) until the whole dataset is processed.\n",
        "\n",
        "Some important parameters to give here:\n",
        "\n",
        "* `num_neighbors` - select max number of first-order neighbors and second-order neighbors\n",
        "* `neg_sampling_ratio` - similarly as before - define how many artificial negative edges should be generated for training.\n",
        "* `batch_size` - how many nodes (with their neighborhoods) we want to accept into the neural network in a given time\n",
        "* `shuffle=True` - we want to mix the ordering of training examples (it is shown to improve neural network quality)"
      ],
      "metadata": {
        "id": "7ZLMZATkB28k"
      }
    },
    {
      "cell_type": "code",
      "source": [
        "edge_label_index = train_data[\"user\", \"buys\", \"brand\"].edge_label_index\n",
        "edge_label = train_data[\"user\", \"buys\", \"brand\"].edge_label\n",
        "train_loader = LinkNeighborLoader(\n",
        "    data=train_data,\n",
        "    num_neighbors=[5, 5],\n",
        "    neg_sampling_ratio=2.0,\n",
        "    edge_label_index=((\"user\", \"buys\", \"brand\"), edge_label_index),\n",
        "    edge_label=edge_label,\n",
        "    batch_size=128,\n",
        "    shuffle=True,\n",
        ")"
      ],
      "metadata": {
        "colab": {
          "base_uri": "https://localhost:8080/"
        },
        "id": "0UNMcNrrB-Bz",
        "outputId": "68d44ea1-dacc-4196-d51d-0d1d26858e16"
      },
      "execution_count": 23,
      "outputs": [
        {
          "output_type": "stream",
          "name": "stderr",
          "text": [
            "/usr/local/lib/python3.10/dist-packages/torch_geometric/sampler/neighbor_sampler.py:61: UserWarning: Using 'NeighborSampler' without a 'pyg-lib' installation is deprecated and will be removed soon. Please install 'pyg-lib' for accelerated neighborhood sampling\n",
            "  warnings.warn(f\"Using '{self.__class__.__name__}' without a \"\n"
          ]
        }
      ]
    },
    {
      "cell_type": "markdown",
      "source": [
        "# Create the GNN Architecture"
      ],
      "metadata": {
        "id": "dHQytCuBCEQv"
      }
    },
    {
      "cell_type": "code",
      "source": [
        "class GNN(torch.nn.Module):\n",
        "    def __init__(self, hidden_channels):\n",
        "        \"\"\"\n",
        "        Defines the architecture of our GNN, such as the type and number of layers.\n",
        "        \"\"\"\n",
        "        super().__init__()\n",
        "        #create 2 GraphSAGE layers:\n",
        "        self.conv1 = SAGEConv(hidden_channels, hidden_channels)\n",
        "        self.conv2 = SAGEConv(hidden_channels, hidden_channels)\n",
        "    def forward(self, x: Tensor, edge_index: Tensor) -> Tensor:\n",
        "        x = F.relu(self.conv1(x, edge_index))\n",
        "        x = self.conv2(x, edge_index)\n",
        "        return x\n",
        "\n",
        "class Model(torch.nn.Module):\n",
        "    def __init__(self, hidden_channels):\n",
        "        super().__init__()\n",
        "        self.num_users = data[\"user\"].num_nodes\n",
        "        self.num_brands = data[\"brand\"].num_nodes\n",
        "\n",
        "        #create untrained Embedding objects for users and brands. These embeddings will start to change during network training.\n",
        "        self.user_emb = torch.nn.Embedding(self.num_users, hidden_channels)\n",
        "        self.brand_emb = torch.nn.Embedding(self.num_brands, hidden_channels)\n",
        "        # Instantiate a homogeneous GNN:\n",
        "        self.gnn = GNN(hidden_channels)\n",
        "        # Convert GNN model into a heterogeneous variant:\n",
        "        self.gnn = to_hetero(self.gnn, metadata=data.metadata())\n",
        "\n",
        "    def forward(self, data: HeteroData) -> Tensor:\n",
        "        edge_label_index = data[\"user\", \"buys\", \"brand\"].edge_label_index\n",
        "\n",
        "        x_dict = self.encode(data)\n",
        "        pred = self.decode(x_dict[\"user\"], x_dict[\"brand\"], edge_label_index)\n",
        "        return pred\n",
        "\n",
        "    def encode(self, data: HeteroData) -> Tensor:\n",
        "        \"\"\"\n",
        "        Takes a HeteroData object (so, our graph or a part of it) and runs it thought our GNN.\n",
        "        We obtain a dictionary of node embeddings.\n",
        "        \"\"\"\n",
        "        x_dict = {\n",
        "          \"user\": self.user_emb(data[\"user\"].node_id),\n",
        "          \"brand\": self.brand_emb(data[\"brand\"].node_id),\n",
        "        }\n",
        "        x_dict = self.gnn(x_dict, data.edge_index_dict)\n",
        "        return x_dict\n",
        "\n",
        "    def decode(self, x_user: Tensor, x_brand: Tensor, edge_label_index: np.array) -> Tensor:\n",
        "        \"\"\"\n",
        "        Computes similarity between given user and brand embeddings.\n",
        "        Similarity defines the \"relatedness\" of a given user with a given brand.\n",
        "        \"\"\"\n",
        "        edge_feat_user = x_user[edge_label_index[0]]\n",
        "        edge_feat_brand = x_brand[edge_label_index[1]]\n",
        "        # Apply dot-product to get a prediction per supervision edge:\n",
        "        return (edge_feat_user * edge_feat_brand).sum(dim=-1)\n",
        "\n",
        "model = Model(hidden_channels=32)"
      ],
      "metadata": {
        "id": "qKBfc7EmCFNb"
      },
      "execution_count": 24,
      "outputs": []
    },
    {
      "cell_type": "code",
      "source": [
        "from torchviz import make_dot\n",
        "\n",
        "\n",
        "batch = next(iter(train_loader))\n",
        "y = model(batch)\n",
        "\n",
        "make_dot(y.mean(), params=dict(model.named_parameters()))"
      ],
      "metadata": {
        "colab": {
          "base_uri": "https://localhost:8080/",
          "height": 1000
        },
        "id": "i9w46c4nCUHi",
        "outputId": "47faa6f2-4f80-412f-f179-ff0a17ca8b9c"
      },
      "execution_count": 25,
      "outputs": [
        {
          "output_type": "execute_result",
          "data": {
            "image/svg+xml": "<?xml version=\"1.0\" encoding=\"UTF-8\" standalone=\"no\"?>\n<!DOCTYPE svg PUBLIC \"-//W3C//DTD SVG 1.1//EN\"\n \"http://www.w3.org/Graphics/SVG/1.1/DTD/svg11.dtd\">\n<!-- Generated by graphviz version 2.43.0 (0)\n -->\n<!-- Title: %3 Pages: 1 -->\n<svg width=\"1534pt\" height=\"1095pt\"\n viewBox=\"0.00 0.00 1534.00 1095.00\" xmlns=\"http://www.w3.org/2000/svg\" xmlns:xlink=\"http://www.w3.org/1999/xlink\">\n<g id=\"graph0\" class=\"graph\" transform=\"scale(1 1) rotate(0) translate(4 1091)\">\n<title>%3</title>\n<polygon fill=\"white\" stroke=\"transparent\" points=\"-4,4 -4,-1091 1530,-1091 1530,4 -4,4\"/>\n<!-- 139699878850656 -->\n<g id=\"node1\" class=\"node\">\n<title>139699878850656</title>\n<polygon fill=\"#caff70\" stroke=\"black\" points=\"836.5,-31 782.5,-31 782.5,0 836.5,0 836.5,-31\"/>\n<text text-anchor=\"middle\" x=\"809.5\" y=\"-7\" font-family=\"monospace\" font-size=\"10.00\"> ()</text>\n</g>\n<!-- 139699893229584 -->\n<g id=\"node2\" class=\"node\">\n<title>139699893229584</title>\n<polygon fill=\"lightgrey\" stroke=\"black\" points=\"857,-86 762,-86 762,-67 857,-67 857,-86\"/>\n<text text-anchor=\"middle\" x=\"809.5\" y=\"-74\" font-family=\"monospace\" font-size=\"10.00\">MeanBackward0</text>\n</g>\n<!-- 139699893229584&#45;&gt;139699878850656 -->\n<g id=\"edge73\" class=\"edge\">\n<title>139699893229584&#45;&gt;139699878850656</title>\n<path fill=\"none\" stroke=\"black\" d=\"M809.5,-66.79C809.5,-60.07 809.5,-50.4 809.5,-41.34\"/>\n<polygon fill=\"black\" stroke=\"black\" points=\"813,-41.19 809.5,-31.19 806,-41.19 813,-41.19\"/>\n</g>\n<!-- 139699893229392 -->\n<g id=\"node3\" class=\"node\">\n<title>139699893229392</title>\n<polygon fill=\"lightgrey\" stroke=\"black\" points=\"854,-141 765,-141 765,-122 854,-122 854,-141\"/>\n<text text-anchor=\"middle\" x=\"809.5\" y=\"-129\" font-family=\"monospace\" font-size=\"10.00\">SumBackward1</text>\n</g>\n<!-- 139699893229392&#45;&gt;139699893229584 -->\n<g id=\"edge1\" class=\"edge\">\n<title>139699893229392&#45;&gt;139699893229584</title>\n<path fill=\"none\" stroke=\"black\" d=\"M809.5,-121.75C809.5,-114.8 809.5,-104.85 809.5,-96.13\"/>\n<polygon fill=\"black\" stroke=\"black\" points=\"813,-96.09 809.5,-86.09 806,-96.09 813,-96.09\"/>\n</g>\n<!-- 139699893230016 -->\n<g id=\"node4\" class=\"node\">\n<title>139699893230016</title>\n<polygon fill=\"lightgrey\" stroke=\"black\" points=\"854,-196 765,-196 765,-177 854,-177 854,-196\"/>\n<text text-anchor=\"middle\" x=\"809.5\" y=\"-184\" font-family=\"monospace\" font-size=\"10.00\">MulBackward0</text>\n</g>\n<!-- 139699893230016&#45;&gt;139699893229392 -->\n<g id=\"edge2\" class=\"edge\">\n<title>139699893230016&#45;&gt;139699893229392</title>\n<path fill=\"none\" stroke=\"black\" d=\"M809.5,-176.75C809.5,-169.8 809.5,-159.85 809.5,-151.13\"/>\n<polygon fill=\"black\" stroke=\"black\" points=\"813,-151.09 809.5,-141.09 806,-151.09 813,-151.09\"/>\n</g>\n<!-- 139699893230256 -->\n<g id=\"node5\" class=\"node\">\n<title>139699893230256</title>\n<polygon fill=\"lightgrey\" stroke=\"black\" points=\"801,-251 700,-251 700,-232 801,-232 801,-251\"/>\n<text text-anchor=\"middle\" x=\"750.5\" y=\"-239\" font-family=\"monospace\" font-size=\"10.00\">IndexBackward0</text>\n</g>\n<!-- 139699893230256&#45;&gt;139699893230016 -->\n<g id=\"edge3\" class=\"edge\">\n<title>139699893230256&#45;&gt;139699893230016</title>\n<path fill=\"none\" stroke=\"black\" d=\"M759.98,-231.98C768.7,-224.15 781.84,-212.34 792.4,-202.86\"/>\n<polygon fill=\"black\" stroke=\"black\" points=\"794.75,-205.46 799.85,-196.17 790.07,-200.25 794.75,-205.46\"/>\n</g>\n<!-- 139699893229008 -->\n<g id=\"node6\" class=\"node\">\n<title>139699893229008</title>\n<polygon fill=\"lightgrey\" stroke=\"black\" points=\"577,-306 488,-306 488,-287 577,-287 577,-306\"/>\n<text text-anchor=\"middle\" x=\"532.5\" y=\"-294\" font-family=\"monospace\" font-size=\"10.00\">AddBackward0</text>\n</g>\n<!-- 139699893229008&#45;&gt;139699893230256 -->\n<g id=\"edge4\" class=\"edge\">\n<title>139699893229008&#45;&gt;139699893230256</title>\n<path fill=\"none\" stroke=\"black\" d=\"M567.53,-286.98C605,-277.87 664.55,-263.4 705.48,-253.45\"/>\n<polygon fill=\"black\" stroke=\"black\" points=\"706.31,-256.85 715.2,-251.08 704.66,-250.04 706.31,-256.85\"/>\n</g>\n<!-- 139699893229776 -->\n<g id=\"node7\" class=\"node\">\n<title>139699893229776</title>\n<polygon fill=\"lightgrey\" stroke=\"black\" points=\"583,-361 482,-361 482,-342 583,-342 583,-361\"/>\n<text text-anchor=\"middle\" x=\"532.5\" y=\"-349\" font-family=\"monospace\" font-size=\"10.00\">AddmmBackward0</text>\n</g>\n<!-- 139699893229776&#45;&gt;139699893229008 -->\n<g id=\"edge5\" class=\"edge\">\n<title>139699893229776&#45;&gt;139699893229008</title>\n<path fill=\"none\" stroke=\"black\" d=\"M532.5,-341.75C532.5,-334.8 532.5,-324.85 532.5,-316.13\"/>\n<polygon fill=\"black\" stroke=\"black\" points=\"536,-316.09 532.5,-306.09 529,-316.09 536,-316.09\"/>\n</g>\n<!-- 139699893229824 -->\n<g id=\"node8\" class=\"node\">\n<title>139699893229824</title>\n<polygon fill=\"lightgrey\" stroke=\"black\" points=\"749,-416 648,-416 648,-397 749,-397 749,-416\"/>\n<text text-anchor=\"middle\" x=\"698.5\" y=\"-404\" font-family=\"monospace\" font-size=\"10.00\">AccumulateGrad</text>\n</g>\n<!-- 139699893229824&#45;&gt;139699893229776 -->\n<g id=\"edge6\" class=\"edge\">\n<title>139699893229824&#45;&gt;139699893229776</title>\n<path fill=\"none\" stroke=\"black\" d=\"M671.83,-396.98C643.96,-388.09 600.05,-374.07 568.98,-364.15\"/>\n<polygon fill=\"black\" stroke=\"black\" points=\"569.97,-360.79 559.38,-361.08 567.84,-367.46 569.97,-360.79\"/>\n</g>\n<!-- 139699878775920 -->\n<g id=\"node9\" class=\"node\">\n<title>139699878775920</title>\n<polygon fill=\"lightblue\" stroke=\"black\" points=\"885,-482 616,-482 616,-452 885,-452 885,-482\"/>\n<text text-anchor=\"middle\" x=\"750.5\" y=\"-470\" font-family=\"monospace\" font-size=\"10.00\">gnn.conv2.brand__rev_buys__user.lin_l.bias</text>\n<text text-anchor=\"middle\" x=\"750.5\" y=\"-459\" font-family=\"monospace\" font-size=\"10.00\"> (32)</text>\n</g>\n<!-- 139699878775920&#45;&gt;139699893229824 -->\n<g id=\"edge7\" class=\"edge\">\n<title>139699878775920&#45;&gt;139699893229824</title>\n<path fill=\"none\" stroke=\"black\" d=\"M737.91,-451.84C730.44,-443.43 720.94,-432.74 713.13,-423.96\"/>\n<polygon fill=\"black\" stroke=\"black\" points=\"715.55,-421.41 706.29,-416.27 710.32,-426.07 715.55,-421.41\"/>\n</g>\n<!-- 139699893229488 -->\n<g id=\"node10\" class=\"node\">\n<title>139699893229488</title>\n<polygon fill=\"lightgrey\" stroke=\"black\" points=\"577,-416 488,-416 488,-397 577,-397 577,-416\"/>\n<text text-anchor=\"middle\" x=\"532.5\" y=\"-404\" font-family=\"monospace\" font-size=\"10.00\">DivBackward0</text>\n</g>\n<!-- 139699893229488&#45;&gt;139699893229776 -->\n<g id=\"edge8\" class=\"edge\">\n<title>139699893229488&#45;&gt;139699893229776</title>\n<path fill=\"none\" stroke=\"black\" d=\"M532.5,-396.75C532.5,-389.8 532.5,-379.85 532.5,-371.13\"/>\n<polygon fill=\"black\" stroke=\"black\" points=\"536,-371.09 532.5,-361.09 529,-371.09 536,-371.09\"/>\n</g>\n<!-- 139699893228864 -->\n<g id=\"node11\" class=\"node\">\n<title>139699893228864</title>\n<polygon fill=\"lightgrey\" stroke=\"black\" points=\"598,-476.5 467,-476.5 467,-457.5 598,-457.5 598,-476.5\"/>\n<text text-anchor=\"middle\" x=\"532.5\" y=\"-464.5\" font-family=\"monospace\" font-size=\"10.00\">ScatterAddBackward0</text>\n</g>\n<!-- 139699893228864&#45;&gt;139699893229488 -->\n<g id=\"edge9\" class=\"edge\">\n<title>139699893228864&#45;&gt;139699893229488</title>\n<path fill=\"none\" stroke=\"black\" d=\"M532.5,-457.37C532.5,-449.25 532.5,-436.81 532.5,-426.39\"/>\n<polygon fill=\"black\" stroke=\"black\" points=\"536,-426.17 532.5,-416.17 529,-426.17 536,-426.17\"/>\n</g>\n<!-- 139699893228480 -->\n<g id=\"node12\" class=\"node\">\n<title>139699893228480</title>\n<polygon fill=\"lightgrey\" stroke=\"black\" points=\"767,-542.5 630,-542.5 630,-523.5 767,-523.5 767,-542.5\"/>\n<text text-anchor=\"middle\" x=\"698.5\" y=\"-530.5\" font-family=\"monospace\" font-size=\"10.00\">IndexSelectBackward0</text>\n</g>\n<!-- 139699893228480&#45;&gt;139699893228864 -->\n<g id=\"edge10\" class=\"edge\">\n<title>139699893228480&#45;&gt;139699893228864</title>\n<path fill=\"none\" stroke=\"black\" d=\"M676.11,-523.37C647.32,-512.27 597.13,-492.92 564.36,-480.28\"/>\n<polygon fill=\"black\" stroke=\"black\" points=\"565.39,-476.93 554.8,-476.6 562.87,-483.46 565.39,-476.93\"/>\n</g>\n<!-- 139699893233184 -->\n<g id=\"node13\" class=\"node\">\n<title>139699893233184</title>\n<polygon fill=\"lightgrey\" stroke=\"black\" points=\"1207,-603 1112,-603 1112,-584 1207,-584 1207,-603\"/>\n<text text-anchor=\"middle\" x=\"1159.5\" y=\"-591\" font-family=\"monospace\" font-size=\"10.00\">ReluBackward0</text>\n</g>\n<!-- 139699893233184&#45;&gt;139699893228480 -->\n<g id=\"edge11\" class=\"edge\">\n<title>139699893233184&#45;&gt;139699893228480</title>\n<path fill=\"none\" stroke=\"black\" d=\"M1111.91,-587.93C1039.37,-580.74 896.86,-565.78 776.5,-548 769.02,-546.9 761.16,-545.62 753.43,-544.3\"/>\n<polygon fill=\"black\" stroke=\"black\" points=\"753.83,-540.82 743.38,-542.55 752.63,-547.71 753.83,-540.82\"/>\n</g>\n<!-- 139699893233424 -->\n<g id=\"node67\" class=\"node\">\n<title>139699893233424</title>\n<polygon fill=\"lightgrey\" stroke=\"black\" points=\"1439,-542.5 1356,-542.5 1356,-523.5 1439,-523.5 1439,-542.5\"/>\n<text text-anchor=\"middle\" x=\"1397.5\" y=\"-530.5\" font-family=\"monospace\" font-size=\"10.00\">MmBackward0</text>\n</g>\n<!-- 139699893233184&#45;&gt;139699893233424 -->\n<g id=\"edge69\" class=\"edge\">\n<title>139699893233184&#45;&gt;139699893233424</title>\n<path fill=\"none\" stroke=\"black\" d=\"M1194.11,-583.99C1236.06,-573.68 1306.84,-556.28 1352.86,-544.97\"/>\n<polygon fill=\"black\" stroke=\"black\" points=\"1353.98,-548.3 1362.85,-542.52 1352.3,-541.5 1353.98,-548.3\"/>\n</g>\n<!-- 139699893233472 -->\n<g id=\"node14\" class=\"node\">\n<title>139699893233472</title>\n<polygon fill=\"lightgrey\" stroke=\"black\" points=\"1204,-658 1115,-658 1115,-639 1204,-639 1204,-658\"/>\n<text text-anchor=\"middle\" x=\"1159.5\" y=\"-646\" font-family=\"monospace\" font-size=\"10.00\">AddBackward0</text>\n</g>\n<!-- 139699893233472&#45;&gt;139699893233184 -->\n<g id=\"edge12\" class=\"edge\">\n<title>139699893233472&#45;&gt;139699893233184</title>\n<path fill=\"none\" stroke=\"black\" d=\"M1159.5,-638.75C1159.5,-631.8 1159.5,-621.85 1159.5,-613.13\"/>\n<polygon fill=\"black\" stroke=\"black\" points=\"1163,-613.09 1159.5,-603.09 1156,-613.09 1163,-613.09\"/>\n</g>\n<!-- 139699893223488 -->\n<g id=\"node15\" class=\"node\">\n<title>139699893223488</title>\n<polygon fill=\"lightgrey\" stroke=\"black\" points=\"1142,-718.5 1041,-718.5 1041,-699.5 1142,-699.5 1142,-718.5\"/>\n<text text-anchor=\"middle\" x=\"1091.5\" y=\"-706.5\" font-family=\"monospace\" font-size=\"10.00\">AddmmBackward0</text>\n</g>\n<!-- 139699893223488&#45;&gt;139699893233472 -->\n<g id=\"edge13\" class=\"edge\">\n<title>139699893223488&#45;&gt;139699893233472</title>\n<path fill=\"none\" stroke=\"black\" d=\"M1101.53,-699.37C1112.08,-690.3 1128.89,-675.84 1141.69,-664.82\"/>\n<polygon fill=\"black\" stroke=\"black\" points=\"1144.13,-667.34 1149.43,-658.17 1139.56,-662.04 1144.13,-667.34\"/>\n</g>\n<!-- 139699893223776 -->\n<g id=\"node16\" class=\"node\">\n<title>139699893223776</title>\n<polygon fill=\"lightgrey\" stroke=\"black\" points=\"899,-779 798,-779 798,-760 899,-760 899,-779\"/>\n<text text-anchor=\"middle\" x=\"848.5\" y=\"-767\" font-family=\"monospace\" font-size=\"10.00\">AccumulateGrad</text>\n</g>\n<!-- 139699893223776&#45;&gt;139699893223488 -->\n<g id=\"edge14\" class=\"edge\">\n<title>139699893223776&#45;&gt;139699893223488</title>\n<path fill=\"none\" stroke=\"black\" d=\"M883.83,-759.99C926.76,-749.66 999.24,-732.21 1046.22,-720.9\"/>\n<polygon fill=\"black\" stroke=\"black\" points=\"1047.22,-724.26 1056.12,-718.52 1045.58,-717.45 1047.22,-724.26\"/>\n</g>\n<!-- 139699878566448 -->\n<g id=\"node17\" class=\"node\">\n<title>139699878566448</title>\n<polygon fill=\"lightblue\" stroke=\"black\" points=\"932,-845 687,-845 687,-815 932,-815 932,-845\"/>\n<text text-anchor=\"middle\" x=\"809.5\" y=\"-833\" font-family=\"monospace\" font-size=\"10.00\">gnn.conv1.user__buys__brand.lin_l.bias</text>\n<text text-anchor=\"middle\" x=\"809.5\" y=\"-822\" font-family=\"monospace\" font-size=\"10.00\"> (32)</text>\n</g>\n<!-- 139699878566448&#45;&gt;139699893223776 -->\n<g id=\"edge15\" class=\"edge\">\n<title>139699878566448&#45;&gt;139699893223776</title>\n<path fill=\"none\" stroke=\"black\" d=\"M818.94,-814.84C824.37,-806.69 831.23,-796.4 836.98,-787.78\"/>\n<polygon fill=\"black\" stroke=\"black\" points=\"840.02,-789.53 842.66,-779.27 834.2,-785.65 840.02,-789.53\"/>\n</g>\n<!-- 139699893223824 -->\n<g id=\"node18\" class=\"node\">\n<title>139699893223824</title>\n<polygon fill=\"lightgrey\" stroke=\"black\" points=\"1069,-779 980,-779 980,-760 1069,-760 1069,-779\"/>\n<text text-anchor=\"middle\" x=\"1024.5\" y=\"-767\" font-family=\"monospace\" font-size=\"10.00\">DivBackward0</text>\n</g>\n<!-- 139699893223824&#45;&gt;139699893223488 -->\n<g id=\"edge16\" class=\"edge\">\n<title>139699893223824&#45;&gt;139699893223488</title>\n<path fill=\"none\" stroke=\"black\" d=\"M1034.39,-759.87C1044.78,-750.8 1061.34,-736.34 1073.95,-725.32\"/>\n<polygon fill=\"black\" stroke=\"black\" points=\"1076.34,-727.88 1081.57,-718.67 1071.74,-722.61 1076.34,-727.88\"/>\n</g>\n<!-- 139699893223728 -->\n<g id=\"node19\" class=\"node\">\n<title>139699893223728</title>\n<polygon fill=\"lightgrey\" stroke=\"black\" points=\"1081,-839.5 950,-839.5 950,-820.5 1081,-820.5 1081,-839.5\"/>\n<text text-anchor=\"middle\" x=\"1015.5\" y=\"-827.5\" font-family=\"monospace\" font-size=\"10.00\">ScatterAddBackward0</text>\n</g>\n<!-- 139699893223728&#45;&gt;139699893223824 -->\n<g id=\"edge17\" class=\"edge\">\n<title>139699893223728&#45;&gt;139699893223824</title>\n<path fill=\"none\" stroke=\"black\" d=\"M1016.83,-820.37C1018.09,-812.16 1020.03,-799.54 1021.65,-789.05\"/>\n<polygon fill=\"black\" stroke=\"black\" points=\"1025.11,-789.58 1023.17,-779.17 1018.19,-788.52 1025.11,-789.58\"/>\n</g>\n<!-- 139699893224592 -->\n<g id=\"node20\" class=\"node\">\n<title>139699893224592</title>\n<polygon fill=\"lightgrey\" stroke=\"black\" points=\"1003,-905.5 866,-905.5 866,-886.5 1003,-886.5 1003,-905.5\"/>\n<text text-anchor=\"middle\" x=\"934.5\" y=\"-893.5\" font-family=\"monospace\" font-size=\"10.00\">IndexSelectBackward0</text>\n</g>\n<!-- 139699893224592&#45;&gt;139699893223728 -->\n<g id=\"edge18\" class=\"edge\">\n<title>139699893224592&#45;&gt;139699893223728</title>\n<path fill=\"none\" stroke=\"black\" d=\"M945.42,-886.37C958.47,-876.06 980.51,-858.65 996.4,-846.09\"/>\n<polygon fill=\"black\" stroke=\"black\" points=\"998.81,-848.64 1004.49,-839.7 994.47,-843.15 998.81,-848.64\"/>\n</g>\n<!-- 139699893224160 -->\n<g id=\"node21\" class=\"node\">\n<title>139699893224160</title>\n<polygon fill=\"lightgrey\" stroke=\"black\" points=\"961,-966 836,-966 836,-947 961,-947 961,-966\"/>\n<text text-anchor=\"middle\" x=\"898.5\" y=\"-954\" font-family=\"monospace\" font-size=\"10.00\">EmbeddingBackward0</text>\n</g>\n<!-- 139699893224160&#45;&gt;139699893224592 -->\n<g id=\"edge19\" class=\"edge\">\n<title>139699893224160&#45;&gt;139699893224592</title>\n<path fill=\"none\" stroke=\"black\" d=\"M903.81,-946.87C909.08,-938.31 917.29,-924.97 923.89,-914.24\"/>\n<polygon fill=\"black\" stroke=\"black\" points=\"926.91,-916.02 929.17,-905.67 920.94,-912.35 926.91,-916.02\"/>\n</g>\n<!-- 139699893224112 -->\n<g id=\"node49\" class=\"node\">\n<title>139699893224112</title>\n<polygon fill=\"lightgrey\" stroke=\"black\" points=\"693,-905.5 610,-905.5 610,-886.5 693,-886.5 693,-905.5\"/>\n<text text-anchor=\"middle\" x=\"651.5\" y=\"-893.5\" font-family=\"monospace\" font-size=\"10.00\">MmBackward0</text>\n</g>\n<!-- 139699893224160&#45;&gt;139699893224112 -->\n<g id=\"edge49\" class=\"edge\">\n<title>139699893224160&#45;&gt;139699893224112</title>\n<path fill=\"none\" stroke=\"black\" d=\"M858.58,-946.98C818.89,-938.39 756.32,-924.49 702.5,-911 698.9,-910.1 695.17,-909.13 691.44,-908.15\"/>\n<polygon fill=\"black\" stroke=\"black\" points=\"692.21,-904.73 681.65,-905.51 690.39,-911.49 692.21,-904.73\"/>\n</g>\n<!-- 139699893224496 -->\n<g id=\"node22\" class=\"node\">\n<title>139699893224496</title>\n<polygon fill=\"lightgrey\" stroke=\"black\" points=\"949,-1021 848,-1021 848,-1002 949,-1002 949,-1021\"/>\n<text text-anchor=\"middle\" x=\"898.5\" y=\"-1009\" font-family=\"monospace\" font-size=\"10.00\">AccumulateGrad</text>\n</g>\n<!-- 139699893224496&#45;&gt;139699893224160 -->\n<g id=\"edge20\" class=\"edge\">\n<title>139699893224496&#45;&gt;139699893224160</title>\n<path fill=\"none\" stroke=\"black\" d=\"M898.5,-1001.75C898.5,-994.8 898.5,-984.85 898.5,-976.13\"/>\n<polygon fill=\"black\" stroke=\"black\" points=\"902,-976.09 898.5,-966.09 895,-976.09 902,-976.09\"/>\n</g>\n<!-- 139699878524656 -->\n<g id=\"node23\" class=\"node\">\n<title>139699878524656</title>\n<polygon fill=\"lightblue\" stroke=\"black\" points=\"952,-1087 845,-1087 845,-1057 952,-1057 952,-1087\"/>\n<text text-anchor=\"middle\" x=\"898.5\" y=\"-1075\" font-family=\"monospace\" font-size=\"10.00\">user_emb.weight</text>\n<text text-anchor=\"middle\" x=\"898.5\" y=\"-1064\" font-family=\"monospace\" font-size=\"10.00\"> (458835, 32)</text>\n</g>\n<!-- 139699878524656&#45;&gt;139699893224496 -->\n<g id=\"edge21\" class=\"edge\">\n<title>139699878524656&#45;&gt;139699893224496</title>\n<path fill=\"none\" stroke=\"black\" d=\"M898.5,-1056.84C898.5,-1049.21 898.5,-1039.7 898.5,-1031.45\"/>\n<polygon fill=\"black\" stroke=\"black\" points=\"902,-1031.27 898.5,-1021.27 895,-1031.27 902,-1031.27\"/>\n</g>\n<!-- 139699893223872 -->\n<g id=\"node24\" class=\"node\">\n<title>139699893223872</title>\n<polygon fill=\"lightgrey\" stroke=\"black\" points=\"1180,-779 1103,-779 1103,-760 1180,-760 1180,-779\"/>\n<text text-anchor=\"middle\" x=\"1141.5\" y=\"-767\" font-family=\"monospace\" font-size=\"10.00\">TBackward0</text>\n</g>\n<!-- 139699893223872&#45;&gt;139699893223488 -->\n<g id=\"edge22\" class=\"edge\">\n<title>139699893223872&#45;&gt;139699893223488</title>\n<path fill=\"none\" stroke=\"black\" d=\"M1134.12,-759.87C1126.59,-751.05 1114.71,-737.16 1105.41,-726.27\"/>\n<polygon fill=\"black\" stroke=\"black\" points=\"1108.07,-724 1098.91,-718.67 1102.74,-728.54 1108.07,-724\"/>\n</g>\n<!-- 139699893224544 -->\n<g id=\"node25\" class=\"node\">\n<title>139699893224544</title>\n<polygon fill=\"lightgrey\" stroke=\"black\" points=\"1200,-839.5 1099,-839.5 1099,-820.5 1200,-820.5 1200,-839.5\"/>\n<text text-anchor=\"middle\" x=\"1149.5\" y=\"-827.5\" font-family=\"monospace\" font-size=\"10.00\">AccumulateGrad</text>\n</g>\n<!-- 139699893224544&#45;&gt;139699893223872 -->\n<g id=\"edge23\" class=\"edge\">\n<title>139699893224544&#45;&gt;139699893223872</title>\n<path fill=\"none\" stroke=\"black\" d=\"M1148.32,-820.37C1147.21,-812.25 1145.51,-799.81 1144.08,-789.39\"/>\n<polygon fill=\"black\" stroke=\"black\" points=\"1147.51,-788.6 1142.69,-779.17 1140.57,-789.55 1147.51,-788.6\"/>\n</g>\n<!-- 139699878565808 -->\n<g id=\"node26\" class=\"node\">\n<title>139699878565808</title>\n<polygon fill=\"lightblue\" stroke=\"black\" points=\"1278,-911 1021,-911 1021,-881 1278,-881 1278,-911\"/>\n<text text-anchor=\"middle\" x=\"1149.5\" y=\"-899\" font-family=\"monospace\" font-size=\"10.00\">gnn.conv1.user__buys__brand.lin_l.weight</text>\n<text text-anchor=\"middle\" x=\"1149.5\" y=\"-888\" font-family=\"monospace\" font-size=\"10.00\"> (32, 32)</text>\n</g>\n<!-- 139699878565808&#45;&gt;139699893224544 -->\n<g id=\"edge24\" class=\"edge\">\n<title>139699878565808&#45;&gt;139699893224544</title>\n<path fill=\"none\" stroke=\"black\" d=\"M1149.5,-880.8C1149.5,-871.7 1149.5,-859.79 1149.5,-849.9\"/>\n<polygon fill=\"black\" stroke=\"black\" points=\"1153,-849.84 1149.5,-839.84 1146,-849.84 1153,-849.84\"/>\n</g>\n<!-- 139699893232752 -->\n<g id=\"node27\" class=\"node\">\n<title>139699893232752</title>\n<polygon fill=\"lightgrey\" stroke=\"black\" points=\"1379,-905.5 1296,-905.5 1296,-886.5 1379,-886.5 1379,-905.5\"/>\n<text text-anchor=\"middle\" x=\"1337.5\" y=\"-893.5\" font-family=\"monospace\" font-size=\"10.00\">MmBackward0</text>\n</g>\n<!-- 139699893232752&#45;&gt;139699893233472 -->\n<g id=\"edge25\" class=\"edge\">\n<title>139699893232752&#45;&gt;139699893233472</title>\n<path fill=\"none\" stroke=\"black\" d=\"M1331.16,-886.26C1305.16,-850.39 1206.33,-714.09 1171.63,-666.23\"/>\n<polygon fill=\"black\" stroke=\"black\" points=\"1174.46,-664.17 1165.76,-658.13 1168.8,-668.28 1174.46,-664.17\"/>\n</g>\n<!-- 139699893223920 -->\n<g id=\"node28\" class=\"node\">\n<title>139699893223920</title>\n<polygon fill=\"lightgrey\" stroke=\"black\" points=\"1151,-966 1026,-966 1026,-947 1151,-947 1151,-966\"/>\n<text text-anchor=\"middle\" x=\"1088.5\" y=\"-954\" font-family=\"monospace\" font-size=\"10.00\">EmbeddingBackward0</text>\n</g>\n<!-- 139699893223920&#45;&gt;139699893232752 -->\n<g id=\"edge26\" class=\"edge\">\n<title>139699893223920&#45;&gt;139699893232752</title>\n<path fill=\"none\" stroke=\"black\" d=\"M1129.81,-946.93C1170.17,-938.4 1233.26,-924.65 1287.5,-911 1290.93,-910.14 1294.47,-909.21 1298.03,-908.26\"/>\n<polygon fill=\"black\" stroke=\"black\" points=\"1299.23,-911.56 1307.96,-905.55 1297.39,-904.81 1299.23,-911.56\"/>\n</g>\n<!-- 139699893225024 -->\n<g id=\"node45\" class=\"node\">\n<title>139699893225024</title>\n<polygon fill=\"lightgrey\" stroke=\"black\" points=\"848,-905.5 711,-905.5 711,-886.5 848,-886.5 848,-905.5\"/>\n<text text-anchor=\"middle\" x=\"779.5\" y=\"-893.5\" font-family=\"monospace\" font-size=\"10.00\">IndexSelectBackward0</text>\n</g>\n<!-- 139699893223920&#45;&gt;139699893225024 -->\n<g id=\"edge44\" class=\"edge\">\n<title>139699893223920&#45;&gt;139699893225024</title>\n<path fill=\"none\" stroke=\"black\" d=\"M1043.57,-946.99C988.19,-936.51 894.11,-918.7 834.48,-907.41\"/>\n<polygon fill=\"black\" stroke=\"black\" points=\"834.96,-903.94 824.49,-905.52 833.66,-910.82 834.96,-903.94\"/>\n</g>\n<!-- 139699893223968 -->\n<g id=\"node29\" class=\"node\">\n<title>139699893223968</title>\n<polygon fill=\"lightgrey\" stroke=\"black\" points=\"1139,-1021 1038,-1021 1038,-1002 1139,-1002 1139,-1021\"/>\n<text text-anchor=\"middle\" x=\"1088.5\" y=\"-1009\" font-family=\"monospace\" font-size=\"10.00\">AccumulateGrad</text>\n</g>\n<!-- 139699893223968&#45;&gt;139699893223920 -->\n<g id=\"edge27\" class=\"edge\">\n<title>139699893223968&#45;&gt;139699893223920</title>\n<path fill=\"none\" stroke=\"black\" d=\"M1088.5,-1001.75C1088.5,-994.8 1088.5,-984.85 1088.5,-976.13\"/>\n<polygon fill=\"black\" stroke=\"black\" points=\"1092,-976.09 1088.5,-966.09 1085,-976.09 1092,-976.09\"/>\n</g>\n<!-- 139699878526656 -->\n<g id=\"node30\" class=\"node\">\n<title>139699878526656</title>\n<polygon fill=\"lightblue\" stroke=\"black\" points=\"1145,-1087 1032,-1087 1032,-1057 1145,-1057 1145,-1087\"/>\n<text text-anchor=\"middle\" x=\"1088.5\" y=\"-1075\" font-family=\"monospace\" font-size=\"10.00\">brand_emb.weight</text>\n<text text-anchor=\"middle\" x=\"1088.5\" y=\"-1064\" font-family=\"monospace\" font-size=\"10.00\"> (2089, 32)</text>\n</g>\n<!-- 139699878526656&#45;&gt;139699893223968 -->\n<g id=\"edge28\" class=\"edge\">\n<title>139699878526656&#45;&gt;139699893223968</title>\n<path fill=\"none\" stroke=\"black\" d=\"M1088.5,-1056.84C1088.5,-1049.21 1088.5,-1039.7 1088.5,-1031.45\"/>\n<polygon fill=\"black\" stroke=\"black\" points=\"1092,-1031.27 1088.5,-1021.27 1085,-1031.27 1092,-1031.27\"/>\n</g>\n<!-- 139699893223536 -->\n<g id=\"node31\" class=\"node\">\n<title>139699893223536</title>\n<polygon fill=\"lightgrey\" stroke=\"black\" points=\"1376,-966 1299,-966 1299,-947 1376,-947 1376,-966\"/>\n<text text-anchor=\"middle\" x=\"1337.5\" y=\"-954\" font-family=\"monospace\" font-size=\"10.00\">TBackward0</text>\n</g>\n<!-- 139699893223536&#45;&gt;139699893232752 -->\n<g id=\"edge29\" class=\"edge\">\n<title>139699893223536&#45;&gt;139699893232752</title>\n<path fill=\"none\" stroke=\"black\" d=\"M1337.5,-946.87C1337.5,-938.75 1337.5,-926.31 1337.5,-915.89\"/>\n<polygon fill=\"black\" stroke=\"black\" points=\"1341,-915.67 1337.5,-905.67 1334,-915.67 1341,-915.67\"/>\n</g>\n<!-- 139699893223584 -->\n<g id=\"node32\" class=\"node\">\n<title>139699893223584</title>\n<polygon fill=\"lightgrey\" stroke=\"black\" points=\"1388,-1021 1287,-1021 1287,-1002 1388,-1002 1388,-1021\"/>\n<text text-anchor=\"middle\" x=\"1337.5\" y=\"-1009\" font-family=\"monospace\" font-size=\"10.00\">AccumulateGrad</text>\n</g>\n<!-- 139699893223584&#45;&gt;139699893223536 -->\n<g id=\"edge30\" class=\"edge\">\n<title>139699893223584&#45;&gt;139699893223536</title>\n<path fill=\"none\" stroke=\"black\" d=\"M1337.5,-1001.75C1337.5,-994.8 1337.5,-984.85 1337.5,-976.13\"/>\n<polygon fill=\"black\" stroke=\"black\" points=\"1341,-976.09 1337.5,-966.09 1334,-976.09 1341,-976.09\"/>\n</g>\n<!-- 139699878584112 -->\n<g id=\"node33\" class=\"node\">\n<title>139699878584112</title>\n<polygon fill=\"lightblue\" stroke=\"black\" points=\"1466,-1087 1209,-1087 1209,-1057 1466,-1057 1466,-1087\"/>\n<text text-anchor=\"middle\" x=\"1337.5\" y=\"-1075\" font-family=\"monospace\" font-size=\"10.00\">gnn.conv1.user__buys__brand.lin_r.weight</text>\n<text text-anchor=\"middle\" x=\"1337.5\" y=\"-1064\" font-family=\"monospace\" font-size=\"10.00\"> (32, 32)</text>\n</g>\n<!-- 139699878584112&#45;&gt;139699893223584 -->\n<g id=\"edge31\" class=\"edge\">\n<title>139699878584112&#45;&gt;139699893223584</title>\n<path fill=\"none\" stroke=\"black\" d=\"M1337.5,-1056.84C1337.5,-1049.21 1337.5,-1039.7 1337.5,-1031.45\"/>\n<polygon fill=\"black\" stroke=\"black\" points=\"1341,-1031.27 1337.5,-1021.27 1334,-1031.27 1341,-1031.27\"/>\n</g>\n<!-- 139699893229728 -->\n<g id=\"node34\" class=\"node\">\n<title>139699893229728</title>\n<polygon fill=\"lightgrey\" stroke=\"black\" points=\"453,-416 376,-416 376,-397 453,-397 453,-416\"/>\n<text text-anchor=\"middle\" x=\"414.5\" y=\"-404\" font-family=\"monospace\" font-size=\"10.00\">TBackward0</text>\n</g>\n<!-- 139699893229728&#45;&gt;139699893229776 -->\n<g id=\"edge32\" class=\"edge\">\n<title>139699893229728&#45;&gt;139699893229776</title>\n<path fill=\"none\" stroke=\"black\" d=\"M433.46,-396.98C452.53,-388.42 482.16,-375.11 504.05,-365.28\"/>\n<polygon fill=\"black\" stroke=\"black\" points=\"505.51,-368.46 513.2,-361.17 502.64,-362.07 505.51,-368.46\"/>\n</g>\n<!-- 139699893228528 -->\n<g id=\"node35\" class=\"node\">\n<title>139699893228528</title>\n<polygon fill=\"lightgrey\" stroke=\"black\" points=\"449,-476.5 348,-476.5 348,-457.5 449,-457.5 449,-476.5\"/>\n<text text-anchor=\"middle\" x=\"398.5\" y=\"-464.5\" font-family=\"monospace\" font-size=\"10.00\">AccumulateGrad</text>\n</g>\n<!-- 139699893228528&#45;&gt;139699893229728 -->\n<g id=\"edge33\" class=\"edge\">\n<title>139699893228528&#45;&gt;139699893229728</title>\n<path fill=\"none\" stroke=\"black\" d=\"M400.86,-457.37C403.11,-449.16 406.56,-436.54 409.43,-426.05\"/>\n<polygon fill=\"black\" stroke=\"black\" points=\"412.87,-426.74 412.13,-416.17 406.12,-424.89 412.87,-426.74\"/>\n</g>\n<!-- 139699878774320 -->\n<g id=\"node36\" class=\"node\">\n<title>139699878774320</title>\n<polygon fill=\"lightblue\" stroke=\"black\" points=\"612,-548 331,-548 331,-518 612,-518 612,-548\"/>\n<text text-anchor=\"middle\" x=\"471.5\" y=\"-536\" font-family=\"monospace\" font-size=\"10.00\">gnn.conv2.brand__rev_buys__user.lin_l.weight</text>\n<text text-anchor=\"middle\" x=\"471.5\" y=\"-525\" font-family=\"monospace\" font-size=\"10.00\"> (32, 32)</text>\n</g>\n<!-- 139699878774320&#45;&gt;139699893228528 -->\n<g id=\"edge34\" class=\"edge\">\n<title>139699878774320&#45;&gt;139699893228528</title>\n<path fill=\"none\" stroke=\"black\" d=\"M455.3,-517.8C443.7,-507.62 428.08,-493.93 416.16,-483.48\"/>\n<polygon fill=\"black\" stroke=\"black\" points=\"418.41,-480.8 408.59,-476.84 413.8,-486.07 418.41,-480.8\"/>\n</g>\n<!-- 139699893229056 -->\n<g id=\"node37\" class=\"node\">\n<title>139699893229056</title>\n<polygon fill=\"lightgrey\" stroke=\"black\" points=\"313,-542.5 230,-542.5 230,-523.5 313,-523.5 313,-542.5\"/>\n<text text-anchor=\"middle\" x=\"271.5\" y=\"-530.5\" font-family=\"monospace\" font-size=\"10.00\">MmBackward0</text>\n</g>\n<!-- 139699893229056&#45;&gt;139699893229008 -->\n<g id=\"edge35\" class=\"edge\">\n<title>139699893229056&#45;&gt;139699893229008</title>\n<path fill=\"none\" stroke=\"black\" d=\"M275.83,-523.49C287.75,-500.73 323.04,-437.38 366.5,-397 408.46,-358.01 468.15,-326.82 503.34,-310.34\"/>\n<polygon fill=\"black\" stroke=\"black\" points=\"504.97,-313.45 512.59,-306.09 502.04,-307.09 504.97,-313.45\"/>\n</g>\n<!-- 139699893228576 -->\n<g id=\"node38\" class=\"node\">\n<title>139699893228576</title>\n<polygon fill=\"lightgrey\" stroke=\"black\" points=\"624,-603 529,-603 529,-584 624,-584 624,-603\"/>\n<text text-anchor=\"middle\" x=\"576.5\" y=\"-591\" font-family=\"monospace\" font-size=\"10.00\">ReluBackward0</text>\n</g>\n<!-- 139699893228576&#45;&gt;139699893229056 -->\n<g id=\"edge36\" class=\"edge\">\n<title>139699893228576&#45;&gt;139699893229056</title>\n<path fill=\"none\" stroke=\"black\" d=\"M528.75,-585.63C477.3,-577.89 393.16,-564.24 321.5,-548 317.81,-547.16 313.99,-546.23 310.17,-545.24\"/>\n<polygon fill=\"black\" stroke=\"black\" points=\"310.76,-541.77 300.19,-542.57 308.95,-548.54 310.76,-541.77\"/>\n</g>\n<!-- 139699893225264 -->\n<g id=\"node63\" class=\"node\">\n<title>139699893225264</title>\n<polygon fill=\"lightgrey\" stroke=\"black\" points=\"1197,-542.5 1060,-542.5 1060,-523.5 1197,-523.5 1197,-542.5\"/>\n<text text-anchor=\"middle\" x=\"1128.5\" y=\"-530.5\" font-family=\"monospace\" font-size=\"10.00\">IndexSelectBackward0</text>\n</g>\n<!-- 139699893228576&#45;&gt;139699893225264 -->\n<g id=\"edge64\" class=\"edge\">\n<title>139699893228576&#45;&gt;139699893225264</title>\n<path fill=\"none\" stroke=\"black\" d=\"M624.19,-589.4C709.95,-583.53 895.8,-569.41 1051.5,-548 1059.26,-546.93 1067.43,-545.64 1075.43,-544.27\"/>\n<polygon fill=\"black\" stroke=\"black\" points=\"1076.19,-547.69 1085.44,-542.51 1074.98,-540.79 1076.19,-547.69\"/>\n</g>\n<!-- 139699893223680 -->\n<g id=\"node39\" class=\"node\">\n<title>139699893223680</title>\n<polygon fill=\"lightgrey\" stroke=\"black\" points=\"621,-658 532,-658 532,-639 621,-639 621,-658\"/>\n<text text-anchor=\"middle\" x=\"576.5\" y=\"-646\" font-family=\"monospace\" font-size=\"10.00\">AddBackward0</text>\n</g>\n<!-- 139699893223680&#45;&gt;139699893228576 -->\n<g id=\"edge37\" class=\"edge\">\n<title>139699893223680&#45;&gt;139699893228576</title>\n<path fill=\"none\" stroke=\"black\" d=\"M576.5,-638.75C576.5,-631.8 576.5,-621.85 576.5,-613.13\"/>\n<polygon fill=\"black\" stroke=\"black\" points=\"580,-613.09 576.5,-603.09 573,-613.09 580,-613.09\"/>\n</g>\n<!-- 139699893224208 -->\n<g id=\"node40\" class=\"node\">\n<title>139699893224208</title>\n<polygon fill=\"lightgrey\" stroke=\"black\" points=\"555,-718.5 454,-718.5 454,-699.5 555,-699.5 555,-718.5\"/>\n<text text-anchor=\"middle\" x=\"504.5\" y=\"-706.5\" font-family=\"monospace\" font-size=\"10.00\">AddmmBackward0</text>\n</g>\n<!-- 139699893224208&#45;&gt;139699893223680 -->\n<g id=\"edge38\" class=\"edge\">\n<title>139699893224208&#45;&gt;139699893223680</title>\n<path fill=\"none\" stroke=\"black\" d=\"M515.12,-699.37C526.4,-690.21 544.42,-675.56 558.03,-664.51\"/>\n<polygon fill=\"black\" stroke=\"black\" points=\"560.28,-667.19 565.83,-658.17 555.86,-661.76 560.28,-667.19\"/>\n</g>\n<!-- 139699893224064 -->\n<g id=\"node41\" class=\"node\">\n<title>139699893224064</title>\n<polygon fill=\"lightgrey\" stroke=\"black\" points=\"443,-779 342,-779 342,-760 443,-760 443,-779\"/>\n<text text-anchor=\"middle\" x=\"392.5\" y=\"-767\" font-family=\"monospace\" font-size=\"10.00\">AccumulateGrad</text>\n</g>\n<!-- 139699893224064&#45;&gt;139699893224208 -->\n<g id=\"edge39\" class=\"edge\">\n<title>139699893224064&#45;&gt;139699893224208</title>\n<path fill=\"none\" stroke=\"black\" d=\"M409.03,-759.87C427.47,-750.23 457.54,-734.53 479.01,-723.31\"/>\n<polygon fill=\"black\" stroke=\"black\" points=\"480.66,-726.4 487.91,-718.67 477.42,-720.19 480.66,-726.4\"/>\n</g>\n<!-- 139699919140832 -->\n<g id=\"node42\" class=\"node\">\n<title>139699919140832</title>\n<polygon fill=\"lightblue\" stroke=\"black\" points=\"478,-845 209,-845 209,-815 478,-815 478,-845\"/>\n<text text-anchor=\"middle\" x=\"343.5\" y=\"-833\" font-family=\"monospace\" font-size=\"10.00\">gnn.conv1.brand__rev_buys__user.lin_l.bias</text>\n<text text-anchor=\"middle\" x=\"343.5\" y=\"-822\" font-family=\"monospace\" font-size=\"10.00\"> (32)</text>\n</g>\n<!-- 139699919140832&#45;&gt;139699893224064 -->\n<g id=\"edge40\" class=\"edge\">\n<title>139699919140832&#45;&gt;139699893224064</title>\n<path fill=\"none\" stroke=\"black\" d=\"M355.36,-814.84C362.4,-806.43 371.36,-795.74 378.71,-786.96\"/>\n<polygon fill=\"black\" stroke=\"black\" points=\"381.42,-789.18 385.16,-779.27 376.05,-784.68 381.42,-789.18\"/>\n</g>\n<!-- 139699893223632 -->\n<g id=\"node43\" class=\"node\">\n<title>139699893223632</title>\n<polygon fill=\"lightgrey\" stroke=\"black\" points=\"600,-779 511,-779 511,-760 600,-760 600,-779\"/>\n<text text-anchor=\"middle\" x=\"555.5\" y=\"-767\" font-family=\"monospace\" font-size=\"10.00\">DivBackward0</text>\n</g>\n<!-- 139699893223632&#45;&gt;139699893224208 -->\n<g id=\"edge41\" class=\"edge\">\n<title>139699893223632&#45;&gt;139699893224208</title>\n<path fill=\"none\" stroke=\"black\" d=\"M547.97,-759.87C540.29,-751.05 528.18,-737.16 518.69,-726.27\"/>\n<polygon fill=\"black\" stroke=\"black\" points=\"521.27,-723.91 512.06,-718.67 515.99,-728.51 521.27,-723.91\"/>\n</g>\n<!-- 139699893225120 -->\n<g id=\"node44\" class=\"node\">\n<title>139699893225120</title>\n<polygon fill=\"lightgrey\" stroke=\"black\" points=\"627,-839.5 496,-839.5 496,-820.5 627,-820.5 627,-839.5\"/>\n<text text-anchor=\"middle\" x=\"561.5\" y=\"-827.5\" font-family=\"monospace\" font-size=\"10.00\">ScatterAddBackward0</text>\n</g>\n<!-- 139699893225120&#45;&gt;139699893223632 -->\n<g id=\"edge42\" class=\"edge\">\n<title>139699893225120&#45;&gt;139699893223632</title>\n<path fill=\"none\" stroke=\"black\" d=\"M560.61,-820.37C559.78,-812.25 558.51,-799.81 557.44,-789.39\"/>\n<polygon fill=\"black\" stroke=\"black\" points=\"560.89,-788.76 556.39,-779.17 553.93,-789.47 560.89,-788.76\"/>\n</g>\n<!-- 139699893225024&#45;&gt;139699893225120 -->\n<g id=\"edge43\" class=\"edge\">\n<title>139699893225024&#45;&gt;139699893225120</title>\n<path fill=\"none\" stroke=\"black\" d=\"M750.1,-886.37C711.47,-875.03 643.52,-855.08 600.6,-842.48\"/>\n<polygon fill=\"black\" stroke=\"black\" points=\"601.36,-839.06 590.78,-839.6 599.39,-845.77 601.36,-839.06\"/>\n</g>\n<!-- 139699893224448 -->\n<g id=\"node46\" class=\"node\">\n<title>139699893224448</title>\n<polygon fill=\"lightgrey\" stroke=\"black\" points=\"224,-779 147,-779 147,-760 224,-760 224,-779\"/>\n<text text-anchor=\"middle\" x=\"185.5\" y=\"-767\" font-family=\"monospace\" font-size=\"10.00\">TBackward0</text>\n</g>\n<!-- 139699893224448&#45;&gt;139699893224208 -->\n<g id=\"edge45\" class=\"edge\">\n<title>139699893224448&#45;&gt;139699893224208</title>\n<path fill=\"none\" stroke=\"black\" d=\"M224.3,-761.39C280.17,-751.14 383.63,-732.17 448,-720.36\"/>\n<polygon fill=\"black\" stroke=\"black\" points=\"448.77,-723.78 457.98,-718.53 447.51,-716.89 448.77,-723.78\"/>\n</g>\n<!-- 139699893224256 -->\n<g id=\"node47\" class=\"node\">\n<title>139699893224256</title>\n<polygon fill=\"lightgrey\" stroke=\"black\" points=\"191,-839.5 90,-839.5 90,-820.5 191,-820.5 191,-839.5\"/>\n<text text-anchor=\"middle\" x=\"140.5\" y=\"-827.5\" font-family=\"monospace\" font-size=\"10.00\">AccumulateGrad</text>\n</g>\n<!-- 139699893224256&#45;&gt;139699893224448 -->\n<g id=\"edge46\" class=\"edge\">\n<title>139699893224256&#45;&gt;139699893224448</title>\n<path fill=\"none\" stroke=\"black\" d=\"M147.14,-820.37C153.79,-811.73 164.19,-798.2 172.49,-787.42\"/>\n<polygon fill=\"black\" stroke=\"black\" points=\"175.51,-789.23 178.83,-779.17 169.96,-784.96 175.51,-789.23\"/>\n</g>\n<!-- 139699878600016 -->\n<g id=\"node48\" class=\"node\">\n<title>139699878600016</title>\n<polygon fill=\"lightblue\" stroke=\"black\" points=\"281,-911 0,-911 0,-881 281,-881 281,-911\"/>\n<text text-anchor=\"middle\" x=\"140.5\" y=\"-899\" font-family=\"monospace\" font-size=\"10.00\">gnn.conv1.brand__rev_buys__user.lin_l.weight</text>\n<text text-anchor=\"middle\" x=\"140.5\" y=\"-888\" font-family=\"monospace\" font-size=\"10.00\"> (32, 32)</text>\n</g>\n<!-- 139699878600016&#45;&gt;139699893224256 -->\n<g id=\"edge47\" class=\"edge\">\n<title>139699878600016&#45;&gt;139699893224256</title>\n<path fill=\"none\" stroke=\"black\" d=\"M140.5,-880.8C140.5,-871.7 140.5,-859.79 140.5,-849.9\"/>\n<polygon fill=\"black\" stroke=\"black\" points=\"144,-849.84 140.5,-839.84 137,-849.84 144,-849.84\"/>\n</g>\n<!-- 139699893224112&#45;&gt;139699893223680 -->\n<g id=\"edge48\" class=\"edge\">\n<title>139699893224112&#45;&gt;139699893223680</title>\n<path fill=\"none\" stroke=\"black\" d=\"M650.37,-886.49C648.31,-871.76 643.5,-840.63 636.5,-815 621.59,-760.38 596.84,-698.15 584.3,-667.92\"/>\n<polygon fill=\"black\" stroke=\"black\" points=\"587.36,-666.18 580.27,-658.31 580.91,-668.88 587.36,-666.18\"/>\n</g>\n<!-- 139699893224736 -->\n<g id=\"node50\" class=\"node\">\n<title>139699893224736</title>\n<polygon fill=\"lightgrey\" stroke=\"black\" points=\"690,-966 613,-966 613,-947 690,-947 690,-966\"/>\n<text text-anchor=\"middle\" x=\"651.5\" y=\"-954\" font-family=\"monospace\" font-size=\"10.00\">TBackward0</text>\n</g>\n<!-- 139699893224736&#45;&gt;139699893224112 -->\n<g id=\"edge50\" class=\"edge\">\n<title>139699893224736&#45;&gt;139699893224112</title>\n<path fill=\"none\" stroke=\"black\" d=\"M651.5,-946.87C651.5,-938.75 651.5,-926.31 651.5,-915.89\"/>\n<polygon fill=\"black\" stroke=\"black\" points=\"655,-915.67 651.5,-905.67 648,-915.67 655,-915.67\"/>\n</g>\n<!-- 139699893225072 -->\n<g id=\"node51\" class=\"node\">\n<title>139699893225072</title>\n<polygon fill=\"lightgrey\" stroke=\"black\" points=\"702,-1021 601,-1021 601,-1002 702,-1002 702,-1021\"/>\n<text text-anchor=\"middle\" x=\"651.5\" y=\"-1009\" font-family=\"monospace\" font-size=\"10.00\">AccumulateGrad</text>\n</g>\n<!-- 139699893225072&#45;&gt;139699893224736 -->\n<g id=\"edge51\" class=\"edge\">\n<title>139699893225072&#45;&gt;139699893224736</title>\n<path fill=\"none\" stroke=\"black\" d=\"M651.5,-1001.75C651.5,-994.8 651.5,-984.85 651.5,-976.13\"/>\n<polygon fill=\"black\" stroke=\"black\" points=\"655,-976.09 651.5,-966.09 648,-976.09 655,-976.09\"/>\n</g>\n<!-- 139699878601376 -->\n<g id=\"node52\" class=\"node\">\n<title>139699878601376</title>\n<polygon fill=\"lightblue\" stroke=\"black\" points=\"792,-1087 511,-1087 511,-1057 792,-1057 792,-1087\"/>\n<text text-anchor=\"middle\" x=\"651.5\" y=\"-1075\" font-family=\"monospace\" font-size=\"10.00\">gnn.conv1.brand__rev_buys__user.lin_r.weight</text>\n<text text-anchor=\"middle\" x=\"651.5\" y=\"-1064\" font-family=\"monospace\" font-size=\"10.00\"> (32, 32)</text>\n</g>\n<!-- 139699878601376&#45;&gt;139699893225072 -->\n<g id=\"edge52\" class=\"edge\">\n<title>139699878601376&#45;&gt;139699893225072</title>\n<path fill=\"none\" stroke=\"black\" d=\"M651.5,-1056.84C651.5,-1049.21 651.5,-1039.7 651.5,-1031.45\"/>\n<polygon fill=\"black\" stroke=\"black\" points=\"655,-1031.27 651.5,-1021.27 648,-1031.27 655,-1031.27\"/>\n</g>\n<!-- 139699893228912 -->\n<g id=\"node53\" class=\"node\">\n<title>139699893228912</title>\n<polygon fill=\"lightgrey\" stroke=\"black\" points=\"310,-603 233,-603 233,-584 310,-584 310,-603\"/>\n<text text-anchor=\"middle\" x=\"271.5\" y=\"-591\" font-family=\"monospace\" font-size=\"10.00\">TBackward0</text>\n</g>\n<!-- 139699893228912&#45;&gt;139699893229056 -->\n<g id=\"edge53\" class=\"edge\">\n<title>139699893228912&#45;&gt;139699893229056</title>\n<path fill=\"none\" stroke=\"black\" d=\"M271.5,-583.87C271.5,-575.75 271.5,-563.31 271.5,-552.89\"/>\n<polygon fill=\"black\" stroke=\"black\" points=\"275,-552.67 271.5,-542.67 268,-552.67 275,-552.67\"/>\n</g>\n<!-- 139699893224976 -->\n<g id=\"node54\" class=\"node\">\n<title>139699893224976</title>\n<polygon fill=\"lightgrey\" stroke=\"black\" points=\"322,-658 221,-658 221,-639 322,-639 322,-658\"/>\n<text text-anchor=\"middle\" x=\"271.5\" y=\"-646\" font-family=\"monospace\" font-size=\"10.00\">AccumulateGrad</text>\n</g>\n<!-- 139699893224976&#45;&gt;139699893228912 -->\n<g id=\"edge54\" class=\"edge\">\n<title>139699893224976&#45;&gt;139699893228912</title>\n<path fill=\"none\" stroke=\"black\" d=\"M271.5,-638.75C271.5,-631.8 271.5,-621.85 271.5,-613.13\"/>\n<polygon fill=\"black\" stroke=\"black\" points=\"275,-613.09 271.5,-603.09 268,-613.09 275,-613.09\"/>\n</g>\n<!-- 139699878778960 -->\n<g id=\"node55\" class=\"node\">\n<title>139699878778960</title>\n<polygon fill=\"lightblue\" stroke=\"black\" points=\"412,-724 131,-724 131,-694 412,-694 412,-724\"/>\n<text text-anchor=\"middle\" x=\"271.5\" y=\"-712\" font-family=\"monospace\" font-size=\"10.00\">gnn.conv2.brand__rev_buys__user.lin_r.weight</text>\n<text text-anchor=\"middle\" x=\"271.5\" y=\"-701\" font-family=\"monospace\" font-size=\"10.00\"> (32, 32)</text>\n</g>\n<!-- 139699878778960&#45;&gt;139699893224976 -->\n<g id=\"edge55\" class=\"edge\">\n<title>139699878778960&#45;&gt;139699893224976</title>\n<path fill=\"none\" stroke=\"black\" d=\"M271.5,-693.84C271.5,-686.21 271.5,-676.7 271.5,-668.45\"/>\n<polygon fill=\"black\" stroke=\"black\" points=\"275,-668.27 271.5,-658.27 268,-668.27 275,-668.27\"/>\n</g>\n<!-- 139699893229536 -->\n<g id=\"node56\" class=\"node\">\n<title>139699893229536</title>\n<polygon fill=\"lightgrey\" stroke=\"black\" points=\"1029,-251 928,-251 928,-232 1029,-232 1029,-251\"/>\n<text text-anchor=\"middle\" x=\"978.5\" y=\"-239\" font-family=\"monospace\" font-size=\"10.00\">IndexBackward0</text>\n</g>\n<!-- 139699893229536&#45;&gt;139699893230016 -->\n<g id=\"edge56\" class=\"edge\">\n<title>139699893229536&#45;&gt;139699893230016</title>\n<path fill=\"none\" stroke=\"black\" d=\"M951.35,-231.98C922.97,-223.09 878.27,-209.07 846.64,-199.15\"/>\n<polygon fill=\"black\" stroke=\"black\" points=\"847.45,-195.73 836.87,-196.08 845.36,-202.41 847.45,-195.73\"/>\n</g>\n<!-- 139699893229872 -->\n<g id=\"node57\" class=\"node\">\n<title>139699893229872</title>\n<polygon fill=\"lightgrey\" stroke=\"black\" points=\"1132,-306 1043,-306 1043,-287 1132,-287 1132,-306\"/>\n<text text-anchor=\"middle\" x=\"1087.5\" y=\"-294\" font-family=\"monospace\" font-size=\"10.00\">AddBackward0</text>\n</g>\n<!-- 139699893229872&#45;&gt;139699893229536 -->\n<g id=\"edge57\" class=\"edge\">\n<title>139699893229872&#45;&gt;139699893229536</title>\n<path fill=\"none\" stroke=\"black\" d=\"M1069.99,-286.98C1052.53,-278.5 1025.49,-265.35 1005.33,-255.54\"/>\n<polygon fill=\"black\" stroke=\"black\" points=\"1006.86,-252.4 996.33,-251.17 1003.79,-258.69 1006.86,-252.4\"/>\n</g>\n<!-- 139699893224352 -->\n<g id=\"node58\" class=\"node\">\n<title>139699893224352</title>\n<polygon fill=\"lightgrey\" stroke=\"black\" points=\"1138,-361 1037,-361 1037,-342 1138,-342 1138,-361\"/>\n<text text-anchor=\"middle\" x=\"1087.5\" y=\"-349\" font-family=\"monospace\" font-size=\"10.00\">AddmmBackward0</text>\n</g>\n<!-- 139699893224352&#45;&gt;139699893229872 -->\n<g id=\"edge58\" class=\"edge\">\n<title>139699893224352&#45;&gt;139699893229872</title>\n<path fill=\"none\" stroke=\"black\" d=\"M1087.5,-341.75C1087.5,-334.8 1087.5,-324.85 1087.5,-316.13\"/>\n<polygon fill=\"black\" stroke=\"black\" points=\"1091,-316.09 1087.5,-306.09 1084,-316.09 1091,-316.09\"/>\n</g>\n<!-- 139699893224688 -->\n<g id=\"node59\" class=\"node\">\n<title>139699893224688</title>\n<polygon fill=\"lightgrey\" stroke=\"black\" points=\"1298,-416 1197,-416 1197,-397 1298,-397 1298,-416\"/>\n<text text-anchor=\"middle\" x=\"1247.5\" y=\"-404\" font-family=\"monospace\" font-size=\"10.00\">AccumulateGrad</text>\n</g>\n<!-- 139699893224688&#45;&gt;139699893224352 -->\n<g id=\"edge59\" class=\"edge\">\n<title>139699893224688&#45;&gt;139699893224352</title>\n<path fill=\"none\" stroke=\"black\" d=\"M1221.79,-396.98C1195.05,-388.13 1152.97,-374.19 1123.05,-364.28\"/>\n<polygon fill=\"black\" stroke=\"black\" points=\"1124,-360.9 1113.41,-361.08 1121.8,-367.55 1124,-360.9\"/>\n</g>\n<!-- 139699878784720 -->\n<g id=\"node60\" class=\"node\">\n<title>139699878784720</title>\n<polygon fill=\"lightblue\" stroke=\"black\" points=\"1416,-482 1171,-482 1171,-452 1416,-452 1416,-482\"/>\n<text text-anchor=\"middle\" x=\"1293.5\" y=\"-470\" font-family=\"monospace\" font-size=\"10.00\">gnn.conv2.user__buys__brand.lin_l.bias</text>\n<text text-anchor=\"middle\" x=\"1293.5\" y=\"-459\" font-family=\"monospace\" font-size=\"10.00\"> (32)</text>\n</g>\n<!-- 139699878784720&#45;&gt;139699893224688 -->\n<g id=\"edge60\" class=\"edge\">\n<title>139699878784720&#45;&gt;139699893224688</title>\n<path fill=\"none\" stroke=\"black\" d=\"M1282.36,-451.84C1275.82,-443.52 1267.52,-432.96 1260.66,-424.23\"/>\n<polygon fill=\"black\" stroke=\"black\" points=\"1263.33,-421.96 1254.39,-416.27 1257.82,-426.29 1263.33,-421.96\"/>\n</g>\n<!-- 139699893228624 -->\n<g id=\"node61\" class=\"node\">\n<title>139699893228624</title>\n<polygon fill=\"lightgrey\" stroke=\"black\" points=\"1132,-416 1043,-416 1043,-397 1132,-397 1132,-416\"/>\n<text text-anchor=\"middle\" x=\"1087.5\" y=\"-404\" font-family=\"monospace\" font-size=\"10.00\">DivBackward0</text>\n</g>\n<!-- 139699893228624&#45;&gt;139699893224352 -->\n<g id=\"edge61\" class=\"edge\">\n<title>139699893228624&#45;&gt;139699893224352</title>\n<path fill=\"none\" stroke=\"black\" d=\"M1087.5,-396.75C1087.5,-389.8 1087.5,-379.85 1087.5,-371.13\"/>\n<polygon fill=\"black\" stroke=\"black\" points=\"1091,-371.09 1087.5,-361.09 1084,-371.09 1091,-371.09\"/>\n</g>\n<!-- 139699893224400 -->\n<g id=\"node62\" class=\"node\">\n<title>139699893224400</title>\n<polygon fill=\"lightgrey\" stroke=\"black\" points=\"1153,-476.5 1022,-476.5 1022,-457.5 1153,-457.5 1153,-476.5\"/>\n<text text-anchor=\"middle\" x=\"1087.5\" y=\"-464.5\" font-family=\"monospace\" font-size=\"10.00\">ScatterAddBackward0</text>\n</g>\n<!-- 139699893224400&#45;&gt;139699893228624 -->\n<g id=\"edge62\" class=\"edge\">\n<title>139699893224400&#45;&gt;139699893228624</title>\n<path fill=\"none\" stroke=\"black\" d=\"M1087.5,-457.37C1087.5,-449.25 1087.5,-436.81 1087.5,-426.39\"/>\n<polygon fill=\"black\" stroke=\"black\" points=\"1091,-426.17 1087.5,-416.17 1084,-426.17 1091,-426.17\"/>\n</g>\n<!-- 139699893225264&#45;&gt;139699893224400 -->\n<g id=\"edge63\" class=\"edge\">\n<title>139699893225264&#45;&gt;139699893224400</title>\n<path fill=\"none\" stroke=\"black\" d=\"M1122.97,-523.37C1116.77,-513.69 1106.55,-497.74 1098.67,-485.44\"/>\n<polygon fill=\"black\" stroke=\"black\" points=\"1101.55,-483.44 1093.2,-476.91 1095.65,-487.21 1101.55,-483.44\"/>\n</g>\n<!-- 139699893224304 -->\n<g id=\"node64\" class=\"node\">\n<title>139699893224304</title>\n<polygon fill=\"lightgrey\" stroke=\"black\" points=\"1008,-416 931,-416 931,-397 1008,-397 1008,-416\"/>\n<text text-anchor=\"middle\" x=\"969.5\" y=\"-404\" font-family=\"monospace\" font-size=\"10.00\">TBackward0</text>\n</g>\n<!-- 139699893224304&#45;&gt;139699893224352 -->\n<g id=\"edge65\" class=\"edge\">\n<title>139699893224304&#45;&gt;139699893224352</title>\n<path fill=\"none\" stroke=\"black\" d=\"M988.46,-396.98C1007.53,-388.42 1037.16,-375.11 1059.05,-365.28\"/>\n<polygon fill=\"black\" stroke=\"black\" points=\"1060.51,-368.46 1068.2,-361.17 1057.64,-362.07 1060.51,-368.46\"/>\n</g>\n<!-- 139699893225552 -->\n<g id=\"node65\" class=\"node\">\n<title>139699893225552</title>\n<polygon fill=\"lightgrey\" stroke=\"black\" points=\"1004,-476.5 903,-476.5 903,-457.5 1004,-457.5 1004,-476.5\"/>\n<text text-anchor=\"middle\" x=\"953.5\" y=\"-464.5\" font-family=\"monospace\" font-size=\"10.00\">AccumulateGrad</text>\n</g>\n<!-- 139699893225552&#45;&gt;139699893224304 -->\n<g id=\"edge66\" class=\"edge\">\n<title>139699893225552&#45;&gt;139699893224304</title>\n<path fill=\"none\" stroke=\"black\" d=\"M955.86,-457.37C958.11,-449.16 961.56,-436.54 964.43,-426.05\"/>\n<polygon fill=\"black\" stroke=\"black\" points=\"967.87,-426.74 967.13,-416.17 961.12,-424.89 967.87,-426.74\"/>\n</g>\n<!-- 139699878565488 -->\n<g id=\"node66\" class=\"node\">\n<title>139699878565488</title>\n<polygon fill=\"lightblue\" stroke=\"black\" points=\"1042,-548 785,-548 785,-518 1042,-518 1042,-548\"/>\n<text text-anchor=\"middle\" x=\"913.5\" y=\"-536\" font-family=\"monospace\" font-size=\"10.00\">gnn.conv2.user__buys__brand.lin_l.weight</text>\n<text text-anchor=\"middle\" x=\"913.5\" y=\"-525\" font-family=\"monospace\" font-size=\"10.00\"> (32, 32)</text>\n</g>\n<!-- 139699878565488&#45;&gt;139699893225552 -->\n<g id=\"edge67\" class=\"edge\">\n<title>139699878565488&#45;&gt;139699893225552</title>\n<path fill=\"none\" stroke=\"black\" d=\"M922.38,-517.8C928.31,-508.31 936.15,-495.76 942.48,-485.63\"/>\n<polygon fill=\"black\" stroke=\"black\" points=\"945.64,-487.18 947.97,-476.84 939.7,-483.47 945.64,-487.18\"/>\n</g>\n<!-- 139699893233424&#45;&gt;139699893229872 -->\n<g id=\"edge68\" class=\"edge\">\n<title>139699893233424&#45;&gt;139699893229872</title>\n<path fill=\"none\" stroke=\"black\" d=\"M1405.12,-523.49C1417.82,-508.23 1440.52,-475.58 1425.5,-452 1363.04,-353.97 1221.09,-317.4 1142.47,-304.33\"/>\n<polygon fill=\"black\" stroke=\"black\" points=\"1142.7,-300.83 1132.28,-302.71 1141.6,-307.74 1142.7,-300.83\"/>\n</g>\n<!-- 139699893225648 -->\n<g id=\"node68\" class=\"node\">\n<title>139699893225648</title>\n<polygon fill=\"lightgrey\" stroke=\"black\" points=\"1436,-603 1359,-603 1359,-584 1436,-584 1436,-603\"/>\n<text text-anchor=\"middle\" x=\"1397.5\" y=\"-591\" font-family=\"monospace\" font-size=\"10.00\">TBackward0</text>\n</g>\n<!-- 139699893225648&#45;&gt;139699893233424 -->\n<g id=\"edge70\" class=\"edge\">\n<title>139699893225648&#45;&gt;139699893233424</title>\n<path fill=\"none\" stroke=\"black\" d=\"M1397.5,-583.87C1397.5,-575.75 1397.5,-563.31 1397.5,-552.89\"/>\n<polygon fill=\"black\" stroke=\"black\" points=\"1401,-552.67 1397.5,-542.67 1394,-552.67 1401,-552.67\"/>\n</g>\n<!-- 139699893224640 -->\n<g id=\"node69\" class=\"node\">\n<title>139699893224640</title>\n<polygon fill=\"lightgrey\" stroke=\"black\" points=\"1448,-658 1347,-658 1347,-639 1448,-639 1448,-658\"/>\n<text text-anchor=\"middle\" x=\"1397.5\" y=\"-646\" font-family=\"monospace\" font-size=\"10.00\">AccumulateGrad</text>\n</g>\n<!-- 139699893224640&#45;&gt;139699893225648 -->\n<g id=\"edge71\" class=\"edge\">\n<title>139699893224640&#45;&gt;139699893225648</title>\n<path fill=\"none\" stroke=\"black\" d=\"M1397.5,-638.75C1397.5,-631.8 1397.5,-621.85 1397.5,-613.13\"/>\n<polygon fill=\"black\" stroke=\"black\" points=\"1401,-613.09 1397.5,-603.09 1394,-613.09 1401,-613.09\"/>\n</g>\n<!-- 139699878784640 -->\n<g id=\"node70\" class=\"node\">\n<title>139699878784640</title>\n<polygon fill=\"lightblue\" stroke=\"black\" points=\"1526,-724 1269,-724 1269,-694 1526,-694 1526,-724\"/>\n<text text-anchor=\"middle\" x=\"1397.5\" y=\"-712\" font-family=\"monospace\" font-size=\"10.00\">gnn.conv2.user__buys__brand.lin_r.weight</text>\n<text text-anchor=\"middle\" x=\"1397.5\" y=\"-701\" font-family=\"monospace\" font-size=\"10.00\"> (32, 32)</text>\n</g>\n<!-- 139699878784640&#45;&gt;139699893224640 -->\n<g id=\"edge72\" class=\"edge\">\n<title>139699878784640&#45;&gt;139699893224640</title>\n<path fill=\"none\" stroke=\"black\" d=\"M1397.5,-693.84C1397.5,-686.21 1397.5,-676.7 1397.5,-668.45\"/>\n<polygon fill=\"black\" stroke=\"black\" points=\"1401,-668.27 1397.5,-658.27 1394,-668.27 1401,-668.27\"/>\n</g>\n</g>\n</svg>\n",
            "text/plain": [
              "<graphviz.graphs.Digraph at 0x7f0e6a82dae0>"
            ]
          },
          "metadata": {},
          "execution_count": 25
        }
      ]
    },
    {
      "cell_type": "markdown",
      "source": [
        "# Training\n",
        "We train the model on a **link prediction** task. The training objective is to predict whether there is an edge between given nodes."
      ],
      "metadata": {
        "id": "-M9zpAJGCazz"
      }
    },
    {
      "cell_type": "code",
      "source": [
        "import tqdm\n",
        "import torch.nn.functional as F\n",
        "\n",
        "model = model.to(device)\n",
        "optimizer = torch.optim.Adam(model.parameters(), lr=0.001)\n",
        "for epoch in range(10):\n",
        "    total_loss = total_examples = 0\n",
        "    for sampled_data in tqdm.tqdm(train_loader):\n",
        "        optimizer.zero_grad()\n",
        "        sampled_data.to(device)\n",
        "        pred = model(sampled_data)\n",
        "        ground_truth = sampled_data[\"user\", \"buys\", \"brand\"].edge_label\n",
        "\n",
        "        #this is a loss function for binary classification (0 = no edge between nodes exists, 1 = an edge between nodes exists)\n",
        "        loss = F.binary_cross_entropy_with_logits(pred, ground_truth)\n",
        "        loss.backward()\n",
        "        optimizer.step()\n",
        "        total_loss += float(loss) * pred.numel()\n",
        "        total_examples += pred.numel()\n",
        "    print(f\"Epoch: {epoch}, Loss: {total_loss / total_examples:.4f}\")"
      ],
      "metadata": {
        "colab": {
          "base_uri": "https://localhost:8080/"
        },
        "id": "tXYC8Wk7CcwS",
        "outputId": "83d735f4-9595-496a-ee97-d65411aa6ea4"
      },
      "execution_count": 26,
      "outputs": [
        {
          "output_type": "stream",
          "name": "stderr",
          "text": [
            "100%|██████████| 3621/3621 [01:10<00:00, 51.73it/s]\n"
          ]
        },
        {
          "output_type": "stream",
          "name": "stdout",
          "text": [
            "Epoch: 0, Loss: 0.1266\n"
          ]
        },
        {
          "output_type": "stream",
          "name": "stderr",
          "text": [
            "100%|██████████| 3621/3621 [01:02<00:00, 57.79it/s]\n"
          ]
        },
        {
          "output_type": "stream",
          "name": "stdout",
          "text": [
            "Epoch: 1, Loss: 0.0992\n"
          ]
        },
        {
          "output_type": "stream",
          "name": "stderr",
          "text": [
            "100%|██████████| 3621/3621 [01:02<00:00, 58.34it/s]\n"
          ]
        },
        {
          "output_type": "stream",
          "name": "stdout",
          "text": [
            "Epoch: 2, Loss: 0.0944\n"
          ]
        },
        {
          "output_type": "stream",
          "name": "stderr",
          "text": [
            "100%|██████████| 3621/3621 [01:02<00:00, 58.26it/s]\n"
          ]
        },
        {
          "output_type": "stream",
          "name": "stdout",
          "text": [
            "Epoch: 3, Loss: 0.0906\n"
          ]
        },
        {
          "output_type": "stream",
          "name": "stderr",
          "text": [
            "100%|██████████| 3621/3621 [01:01<00:00, 58.42it/s]\n"
          ]
        },
        {
          "output_type": "stream",
          "name": "stdout",
          "text": [
            "Epoch: 4, Loss: 0.0872\n"
          ]
        },
        {
          "output_type": "stream",
          "name": "stderr",
          "text": [
            "100%|██████████| 3621/3621 [01:02<00:00, 58.30it/s]\n"
          ]
        },
        {
          "output_type": "stream",
          "name": "stdout",
          "text": [
            "Epoch: 5, Loss: 0.0831\n"
          ]
        },
        {
          "output_type": "stream",
          "name": "stderr",
          "text": [
            "100%|██████████| 3621/3621 [01:01<00:00, 58.87it/s]\n"
          ]
        },
        {
          "output_type": "stream",
          "name": "stdout",
          "text": [
            "Epoch: 6, Loss: 0.0786\n"
          ]
        },
        {
          "output_type": "stream",
          "name": "stderr",
          "text": [
            "100%|██████████| 3621/3621 [01:00<00:00, 59.40it/s]\n"
          ]
        },
        {
          "output_type": "stream",
          "name": "stdout",
          "text": [
            "Epoch: 7, Loss: 0.0745\n"
          ]
        },
        {
          "output_type": "stream",
          "name": "stderr",
          "text": [
            "100%|██████████| 3621/3621 [01:01<00:00, 59.20it/s]\n"
          ]
        },
        {
          "output_type": "stream",
          "name": "stdout",
          "text": [
            "Epoch: 8, Loss: 0.0702\n"
          ]
        },
        {
          "output_type": "stream",
          "name": "stderr",
          "text": [
            "100%|██████████| 3621/3621 [01:01<00:00, 59.15it/s]"
          ]
        },
        {
          "output_type": "stream",
          "name": "stdout",
          "text": [
            "Epoch: 9, Loss: 0.0659\n"
          ]
        },
        {
          "output_type": "stream",
          "name": "stderr",
          "text": [
            "\n"
          ]
        }
      ]
    },
    {
      "cell_type": "code",
      "source": [
        "brand_dict = dict(zip(unique_brands['brand'].values, unique_brands['mapped_brand'].values))\n",
        "target_brand_ids = [brand_dict[brand] for brand in target_labels]"
      ],
      "metadata": {
        "id": "2dfyXHAjCieE"
      },
      "execution_count": 27,
      "outputs": []
    },
    {
      "cell_type": "code",
      "source": [
        "target_brand_ids"
      ],
      "metadata": {
        "colab": {
          "base_uri": "https://localhost:8080/"
        },
        "id": "f9TyPMnWCkgT",
        "outputId": "ef6def51-9cfa-4b1a-ff39-143bee6cee69"
      },
      "execution_count": 28,
      "outputs": [
        {
          "output_type": "execute_result",
          "data": {
            "text/plain": [
              "[0, 1, 2, 7, 45, 33, 43, 44, 15, 41, 62, 28, 91, 47, 24, 72, 57, 38, 96, 73]"
            ]
          },
          "metadata": {},
          "execution_count": 28
        }
      ]
    },
    {
      "cell_type": "markdown",
      "source": [
        "# Testing\n",
        "For testing, we need to create a new loader with no negative edges. We want to gather the trained embeddings of all users and brands.\n",
        "\n",
        "Note that these embeddings are **NOT** the nn.Embeddings objects. Rather, we want to get the vectors which originate after running our HeteroData through our GraphSAGE network. We treat these vectors as final, trained user and brand embeddings."
      ],
      "metadata": {
        "id": "73dYkkiRCmF1"
      }
    },
    {
      "cell_type": "code",
      "source": [
        "batch_size = 128\n",
        "\n",
        "train_loader_for_preds = LinkNeighborLoader(\n",
        "    data=train_data,\n",
        "    num_neighbors=[20, 10],\n",
        "    neg_sampling_ratio=0.0,\n",
        "    edge_label_index=((\"user\", \"buys\", \"brand\"), edge_label_index),\n",
        "    edge_label=edge_label,\n",
        "    batch_size=batch_size,\n",
        "    shuffle=False,\n",
        ")"
      ],
      "metadata": {
        "colab": {
          "base_uri": "https://localhost:8080/"
        },
        "id": "IWwVNVunCoLj",
        "outputId": "3a8b8a0a-2d89-4667-d650-5f61736226e0"
      },
      "execution_count": 29,
      "outputs": [
        {
          "output_type": "stream",
          "name": "stderr",
          "text": [
            "/usr/local/lib/python3.10/dist-packages/torch_geometric/sampler/neighbor_sampler.py:61: UserWarning: Using 'NeighborSampler' without a 'pyg-lib' installation is deprecated and will be removed soon. Please install 'pyg-lib' for accelerated neighborhood sampling\n",
            "  warnings.warn(f\"Using '{self.__class__.__name__}' without a \"\n"
          ]
        }
      ]
    },
    {
      "cell_type": "code",
      "source": [
        "from sklearn.metrics import roc_auc_score\n",
        "\n",
        "user_ids_set = set()\n",
        "user_ids = []\n",
        "user_emb = []\n",
        "\n",
        "brand_ids_set = set()\n",
        "brand_ids = []\n",
        "brand_emb = []\n",
        "\n",
        "for sampled_data in tqdm.tqdm(train_loader_for_preds):\n",
        "    with torch.no_grad():\n",
        "        sampled_data.to(device)\n",
        "        x_dict = model.encode(sampled_data)\n",
        "\n",
        "        u_ids = sampled_data[\"user\"].node_id\n",
        "        b_ids = sampled_data[\"brand\"].node_id\n",
        "\n",
        "        user_embeddings = x_dict[\"user\"]\n",
        "        brand_embeddings = x_dict[\"brand\"]\n",
        "\n",
        "        for u_id, u_emb in zip(u_ids, user_embeddings):\n",
        "            if u_id not in user_ids_set:\n",
        "                user_ids.append(u_id)\n",
        "                user_emb.append(u_emb)\n",
        "                user_ids_set.add(u_id)\n",
        "\n",
        "        for b_id, b_emb in zip(b_ids, brand_embeddings):\n",
        "            if b_id not in brand_ids_set:\n",
        "                brand_ids.append(b_id)\n",
        "                brand_emb.append(b_emb)\n",
        "                brand_ids_set.add(b_id)"
      ],
      "metadata": {
        "colab": {
          "base_uri": "https://localhost:8080/"
        },
        "id": "SiezqnB5C0CZ",
        "outputId": "ee712fa6-5d75-47ad-b234-e666d694996c"
      },
      "execution_count": 30,
      "outputs": [
        {
          "output_type": "stream",
          "name": "stderr",
          "text": [
            "100%|██████████| 3621/3621 [01:15<00:00, 47.94it/s]\n"
          ]
        }
      ]
    },
    {
      "cell_type": "code",
      "source": [
        "target_brand_embeddings = [brand_emb[brand_ids.index(b_id)] for b_id in target_brand_ids]"
      ],
      "metadata": {
        "id": "tpPFFAkvC3WJ"
      },
      "execution_count": 31,
      "outputs": []
    },
    {
      "cell_type": "code",
      "source": [
        "target_brand_embeddings = torch.stack(target_brand_embeddings).cpu()\n",
        "user_embeddings = torch.stack(user_emb).cpu()"
      ],
      "metadata": {
        "id": "BDD1zi4VC444"
      },
      "execution_count": 32,
      "outputs": []
    },
    {
      "cell_type": "code",
      "source": [
        "user_ids = torch.tensor(user_ids, device = 'cpu')"
      ],
      "metadata": {
        "id": "D6qDasE_C6Hw"
      },
      "execution_count": 33,
      "outputs": []
    },
    {
      "cell_type": "markdown",
      "source": [
        "# Get the Final Predictions\n",
        "To get user and brand \"relatedness\" scores, we perform a dot product - similarly as during training. A high dot product value for a (user, brand) pair signifies a high relatedness."
      ],
      "metadata": {
        "id": "dupD8_uSC76o"
      }
    },
    {
      "cell_type": "code",
      "source": [
        "preds = torch.matmul(user_embeddings, target_brand_embeddings.T.cpu()).sigmoid()"
      ],
      "metadata": {
        "id": "bWIiW13eC91g"
      },
      "execution_count": 34,
      "outputs": []
    },
    {
      "cell_type": "code",
      "source": [
        "ground_truths = targets[user_ids]"
      ],
      "metadata": {
        "id": "4S9YzIFFDAx3"
      },
      "execution_count": 35,
      "outputs": []
    },
    {
      "cell_type": "code",
      "source": [
        "auc = roc_auc_score(ground_truths, preds)\n",
        "print(f\"Validation AUC: {auc:.4f}\")"
      ],
      "metadata": {
        "colab": {
          "base_uri": "https://localhost:8080/"
        },
        "id": "EuaZwS_UDCKH",
        "outputId": "a993eb72-1fc7-4e39-baea-f721607f47a9"
      },
      "execution_count": 36,
      "outputs": [
        {
          "output_type": "stream",
          "name": "stdout",
          "text": [
            "Validation AUC: 0.7435\n"
          ]
        }
      ]
    }
  ]
}